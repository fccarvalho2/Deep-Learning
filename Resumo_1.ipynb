{
 "cells": [
  {
   "cell_type": "markdown",
   "id": "bb470a27",
   "metadata": {
    "id": "bb470a27"
   },
   "source": [
    "<a id=\"Topo\"></a><b><p style=\"text-align:center;font-size:24px\">Algoritmos de Aprendizado Profundo </p> </b> \n",
    "<p style=\"text-align:center;font-size:6px\"></p>\n",
    "<b><p style=\"text-align:center;font-size:16px\"> Resumo - Módulo 1 </p> </b>\n",
    "\n",
    "---\n",
    "\n",
    "<b><p style=\"text-align:center;font-size:24px\"> Índice </p> </b> \n",
    "\n",
    "**[I - Introdução](#Intro)**  \n",
    "&nbsp;&nbsp;&nbsp;&nbsp;&nbsp;&nbsp;**[1. Retas e Planos](#ReP)**  \n",
    "&nbsp;&nbsp;&nbsp;&nbsp;&nbsp;&nbsp;&nbsp;&nbsp;&nbsp;&nbsp;&nbsp;&nbsp;**[1.1. Retas](#Retas)**  \n",
    "&nbsp;&nbsp;&nbsp;&nbsp;&nbsp;&nbsp;&nbsp;&nbsp;&nbsp;&nbsp;&nbsp;&nbsp;**[1.2. Planos](#Planos)**  \n",
    "&nbsp;&nbsp;&nbsp;&nbsp;&nbsp;&nbsp;**[2. Derivadas](#Derivadas)**  \n",
    "&nbsp;&nbsp;&nbsp;&nbsp;&nbsp;&nbsp;&nbsp;&nbsp;&nbsp;&nbsp;&nbsp;&nbsp;**[2.1. Jacobiano](#Jacobiano)**  \n",
    "&nbsp;&nbsp;&nbsp;&nbsp;&nbsp;&nbsp;&nbsp;&nbsp;&nbsp;&nbsp;&nbsp;&nbsp;**[2.2. Hessiano](#Hessiano)**  \n",
    "&nbsp;&nbsp;&nbsp;&nbsp;&nbsp;&nbsp;**[3. Método de Newton](#Newton)** \n",
    "\n",
    "\n",
    "**[II - Perceptron](#Perceptron)**  \n",
    "&nbsp;&nbsp;&nbsp;&nbsp;&nbsp;&nbsp;**[1. Treinamento do perceptron](#treinoPerceptron)**   \n",
    "\n",
    "\n",
    "**[III - Regressão](#Reg)**  \n",
    "&nbsp;&nbsp;&nbsp;&nbsp;&nbsp;&nbsp;**[1. Regressão Linear](#RegLin)**  \n",
    "&nbsp;&nbsp;&nbsp;&nbsp;&nbsp;&nbsp;&nbsp;&nbsp;&nbsp;&nbsp;&nbsp;&nbsp;**[1.1. Erro Quadrático médio](#ErroQuad)**  \n",
    "&nbsp;&nbsp;&nbsp;&nbsp;&nbsp;&nbsp;&nbsp;&nbsp;&nbsp;&nbsp;&nbsp;&nbsp;**[1.2. Exemplo de questão](#ExemploRegLin)**  \n",
    "\n",
    "&nbsp;&nbsp;&nbsp;&nbsp;&nbsp;&nbsp;**[2. Regressão Logística](#RegLog)**  \n",
    "&nbsp;&nbsp;&nbsp;&nbsp;&nbsp;&nbsp;&nbsp;&nbsp;&nbsp;&nbsp;&nbsp;&nbsp;**[2.1. Verossimilhança](#Vero)**  \n",
    "&nbsp;&nbsp;&nbsp;&nbsp;&nbsp;&nbsp;&nbsp;&nbsp;&nbsp;&nbsp;&nbsp;&nbsp;**[2.2. Exemplo de questão](#ExemploRegLog)**     \n",
    "\n",
    "\n",
    "**[IV - Introdução às Redes Neurais](#redesNeurais)**  \n",
    "&nbsp;&nbsp;&nbsp;&nbsp;&nbsp;&nbsp;**[1. ](#00)**  \n",
    "&nbsp;&nbsp;&nbsp;&nbsp;&nbsp;&nbsp;&nbsp;&nbsp;&nbsp;&nbsp;&nbsp;&nbsp;**[1.1. ](#00)**  \n",
    "&nbsp;&nbsp;&nbsp;&nbsp;&nbsp;&nbsp;&nbsp;&nbsp;&nbsp;&nbsp;&nbsp;&nbsp;**[1.2. ](#00)**  \n",
    "&nbsp;&nbsp;&nbsp;&nbsp;&nbsp;&nbsp;&nbsp;&nbsp;&nbsp;&nbsp;&nbsp;&nbsp;**[1.3. ](#00)**  \n",
    "&nbsp;&nbsp;&nbsp;&nbsp;&nbsp;&nbsp;&nbsp;&nbsp;&nbsp;&nbsp;&nbsp;&nbsp;**[1.4. ](#00)**  \n",
    "\n",
    "&nbsp;&nbsp;&nbsp;&nbsp;&nbsp;&nbsp;**[2. ](#00)**  \n",
    "&nbsp;&nbsp;&nbsp;&nbsp;&nbsp;&nbsp;&nbsp;&nbsp;&nbsp;&nbsp;&nbsp;&nbsp;**[2.1. ](#00)**  \n",
    "&nbsp;&nbsp;&nbsp;&nbsp;&nbsp;&nbsp;&nbsp;&nbsp;&nbsp;&nbsp;&nbsp;&nbsp;**[2.2. ](#00)**  \n",
    "&nbsp;&nbsp;&nbsp;&nbsp;&nbsp;&nbsp;&nbsp;&nbsp;&nbsp;&nbsp;&nbsp;&nbsp;**[2.3. ](#00)**  \n",
    "&nbsp;&nbsp;&nbsp;&nbsp;&nbsp;&nbsp;&nbsp;&nbsp;&nbsp;&nbsp;&nbsp;&nbsp;**[2.4. ](#00)**  \n",
    "&nbsp;&nbsp;&nbsp;&nbsp;&nbsp;&nbsp;&nbsp;&nbsp;&nbsp;&nbsp;&nbsp;&nbsp;**[2.5. ](#00)**  \n",
    "\n",
    "**[V - Grafos Computacionais e Back-propagation](#backProp)**  \n",
    "&nbsp;&nbsp;&nbsp;&nbsp;&nbsp;&nbsp;**[1. ](#00)**  \n",
    "&nbsp;&nbsp;&nbsp;&nbsp;&nbsp;&nbsp;&nbsp;&nbsp;&nbsp;&nbsp;&nbsp;&nbsp;**[1.1. ](#00)**  \n",
    "&nbsp;&nbsp;&nbsp;&nbsp;&nbsp;&nbsp;&nbsp;&nbsp;&nbsp;&nbsp;&nbsp;&nbsp;**[1.2. ](#00)**  \n",
    "&nbsp;&nbsp;&nbsp;&nbsp;&nbsp;&nbsp;&nbsp;&nbsp;&nbsp;&nbsp;&nbsp;&nbsp;**[1.3. ](#00)**  \n",
    "&nbsp;&nbsp;&nbsp;&nbsp;&nbsp;&nbsp;&nbsp;&nbsp;&nbsp;&nbsp;&nbsp;&nbsp;**[1.4. ](#00)**  \n",
    "\n",
    "&nbsp;&nbsp;&nbsp;&nbsp;&nbsp;&nbsp;**[2. ](#00)**  \n",
    "&nbsp;&nbsp;&nbsp;&nbsp;&nbsp;&nbsp;&nbsp;&nbsp;&nbsp;&nbsp;&nbsp;&nbsp;**[2.1. ](#00)**  \n",
    "&nbsp;&nbsp;&nbsp;&nbsp;&nbsp;&nbsp;&nbsp;&nbsp;&nbsp;&nbsp;&nbsp;&nbsp;**[2.2. ](#00)**  \n",
    "&nbsp;&nbsp;&nbsp;&nbsp;&nbsp;&nbsp;&nbsp;&nbsp;&nbsp;&nbsp;&nbsp;&nbsp;**[2.3. ](#00)**  \n",
    "&nbsp;&nbsp;&nbsp;&nbsp;&nbsp;&nbsp;&nbsp;&nbsp;&nbsp;&nbsp;&nbsp;&nbsp;**[2.4. ](#00)**  \n",
    "&nbsp;&nbsp;&nbsp;&nbsp;&nbsp;&nbsp;&nbsp;&nbsp;&nbsp;&nbsp;&nbsp;&nbsp;**[2.5. ](#00)**   \n",
    "\n",
    "\n",
    "**[VI - Funções de ativação e Algoritmos de otimização](#AtivaOtimiza)**  \n",
    "&nbsp;&nbsp;&nbsp;&nbsp;&nbsp;&nbsp;**[1. Gradiente ascendente](#SGA)**  \n",
    "&nbsp;&nbsp;&nbsp;&nbsp;&nbsp;&nbsp;&nbsp;&nbsp;&nbsp;&nbsp;&nbsp;&nbsp;**[1.1. ](#00)**  \n",
    "&nbsp;&nbsp;&nbsp;&nbsp;&nbsp;&nbsp;&nbsp;&nbsp;&nbsp;&nbsp;&nbsp;&nbsp;**[1.2. ](#00)**  \n",
    "&nbsp;&nbsp;&nbsp;&nbsp;&nbsp;&nbsp;&nbsp;&nbsp;&nbsp;&nbsp;&nbsp;&nbsp;**[1.3. ](#00)**  \n",
    "&nbsp;&nbsp;&nbsp;&nbsp;&nbsp;&nbsp;&nbsp;&nbsp;&nbsp;&nbsp;&nbsp;&nbsp;**[1.4. ](#00)**  \n",
    "\n",
    "&nbsp;&nbsp;&nbsp;&nbsp;&nbsp;&nbsp;**[2. ](#00)**  \n",
    "&nbsp;&nbsp;&nbsp;&nbsp;&nbsp;&nbsp;&nbsp;&nbsp;&nbsp;&nbsp;&nbsp;&nbsp;**[2.1. ](#00)**  \n",
    "&nbsp;&nbsp;&nbsp;&nbsp;&nbsp;&nbsp;&nbsp;&nbsp;&nbsp;&nbsp;&nbsp;&nbsp;**[2.2. ](#00)**  \n",
    "&nbsp;&nbsp;&nbsp;&nbsp;&nbsp;&nbsp;&nbsp;&nbsp;&nbsp;&nbsp;&nbsp;&nbsp;**[2.3. ](#00)**  \n",
    "&nbsp;&nbsp;&nbsp;&nbsp;&nbsp;&nbsp;&nbsp;&nbsp;&nbsp;&nbsp;&nbsp;&nbsp;**[2.4. ](#00)**  \n",
    "&nbsp;&nbsp;&nbsp;&nbsp;&nbsp;&nbsp;&nbsp;&nbsp;&nbsp;&nbsp;&nbsp;&nbsp;**[2.5. ](#00)**  \n",
    "\n",
    "\n",
    "---"
   ]
  },
  {
   "cell_type": "markdown",
   "id": "ba3a97ce",
   "metadata": {
    "id": "ba3a97ce"
   },
   "source": [
    "# I - Introdução <a id = \"Intro\"></a> \n",
    "\n",
    "\n",
    "Abaixo importamos todas as bibliotecas que serão usadas para os códigos aqui descritos."
   ]
  },
  {
   "cell_type": "code",
   "execution_count": 1,
   "id": "2cc1cd35",
   "metadata": {
    "id": "2cc1cd35"
   },
   "outputs": [],
   "source": [
    "from scipy import stats\n",
    "import numpy as np\n",
    "import pandas as pd\n",
    "import sympy as sp\n",
    "import matplotlib.pyplot as plt\n",
    "from IPython.display import display"
   ]
  },
  {
   "cell_type": "markdown",
   "id": "21a0ce57",
   "metadata": {
    "id": "21a0ce57"
   },
   "source": [
    "De maneira geral, os modelos utilizados na Física e na matemática são descritos como equações ou sistemas de equações que descrevem o fenômeno representado ou estudado. Esta abordagem recebe o nome de modelagem mecanística, pois nela os mecanismos e funções que regem o fenômeno são conhecidos ou estimados com base em observações e experimentos. Um exemplo são as equações da mecânica clássica, como a do movimento retilíneo uniforme (MRU) e a da queda livre. Neste exemplo, sabemos que existe uma função real que descreve os fenômenos (chamaremos estas fórmulas de $f_\\phi$), entretanto, na prática costumamos utilizar uma simplificação desta função (que chamaremos de $h_\\Theta$), considerando que os movimentos ocorrem no vácuo, sem levar em conta os efeitos da resistência do ar ou outros fatores que possam influenciar na velocidade.\n",
    "\n",
    "![image](Figuras/F1.png)\n",
    "\n",
    "Quanto entramos na seara da estatística e do aprendizado de máquina, começamos a inverter esta relação ao lidarmos com situações em que a função real não é mais conhecida ou facilmente estimada por meio de experimentos. Em alguns casos, experimentos não são possíveis ou viáveis. Entretanto, possuímos dados reais e, a partir deles, podemos utilizar diversos algoritmos para obter uma aproximação da função que descreve o fenômeno estudado ($h_\\Theta$), mesmo que de maneira implícita. Assim, chamamos esta relação como sendo \"anticausal\", ou seja, as saídas (Y) provocam a entrada (X) na realidade, porém buscamos entender como a entrada provoca a saída, conforme ilustrado na figura abaixo.\n",
    "\n",
    "![image](Figuras/F2.png)\n",
    "\n",
    "Um exemplo que podemos usar para entender melhor esta situação é o caso de reconhecimento de imagens de cães e gatos. A presença de um destes animais numa foto (Y) resulta em um determinado padrão de pixels (X) para aquela foto. Entretanto, quando treinamos um modelo, queremos que este utilize os padrões de pixels (X) para dizer se há ou não um cão e/ou um gato na fotografia (Y). \n",
    "\n",
    "Esta é uma das razões pelas quais os modelos de aprendizado de máquinas, e em especial os de aprendizado profundo, são considerados como \"caixas pretas\": a função real é desconhecida e, em boa parte das vezes, a função aproximada também será. \n",
    "\n",
    "<b><p style=\"text-align:right\"> [Retornar ao topo](#Topo) </p> </b> "
   ]
  },
  {
   "cell_type": "markdown",
   "id": "cbe096a4",
   "metadata": {
    "id": "cbe096a4"
   },
   "source": [
    "## 1 - Retas e Planos <a id = \"ReP\"></a> \n",
    "\n",
    "Retas e planos são conceitos importantes para entender a separação de classes que buscaremos ao utilizar os algoritmos de classificação, a exemplo do perceptron, que pode ser considerado como a rede neural mais básica. Se formos analisar dados em uma dimensão com um perceptron, ele estabelecerá um ponto de separação entre as classes. Em duas dimensões, essa fronteira se torna uma reta, em três um plano e em dimensões superiores um hiperplano.\n",
    "\n",
    "### 1.1. Retas <a id = \"Retas\"></a> \n",
    "\n",
    "Do ponto de vista da geometria analítica, uma reta é definida por dois pontos. Alternativamente, uma reta pode ser definida também por um ponto e um vetor diretor. A reta é uma entidade geométrica infinita, mas comumente definimos um ponto como sendo a origem desta reta para efeito de simplificação. Desta maneira, temos três maneiras de representar uma reta:\n",
    "\n",
    "**a) Equação geral da reta:**\n",
    "\n",
    "A equação da reta é a maneira mais direta de representar esta entidade. Em duas dimensões, ela possui a seguinte forma:\n",
    "\n",
    "$$ a\\cdot x_1 + b\\cdot x_2  + c = 0$$\n",
    "\n",
    "Esta equação pode ser reorganizada para que tenhamos uma das variáveis escrita em função das demais:\n",
    "\n",
    "$$ x_2 = \\frac{-a}{b} \\cdot x_1 - \\frac{c}{b} \\rightarrow x_2 = a'\\cdot(x_1) + c'$$\n",
    "\n",
    "É importante observar, no entanto, que apesar da versão em três dimensões desta equação ser válida, esta é geralmente utilizada para definir um plano, como veremos a seguir. Portanto, é preciso ter cautela quando decidimos representar a reta em três dimensões com a seguinte equação:\n",
    "\n",
    "$$ a\\cdot x_1 + b\\cdot x_2  + c\\cdot x_3 + d = 0$$\n",
    "\n",
    "Como uma reta também pode ser definida como sendo a interseção entre dois planos, o mais coerente para se representar uma reta em três dimensões ou mais é indicá-la como um sistema de equações, como mostrado abaixo.\n",
    "\n",
    "$$\\begin{equation}\n",
    "  \\left\\{ \n",
    "  \\begin{aligned}\n",
    "     & a_1\\cdot x_1 + b_1\\cdot x_2  + c_1\\cdot x_3 + d_1 = 0  \\\\\n",
    "     & a_2\\cdot x_1 + b_2\\cdot x_2  + c_2\\cdot x_3 + d_2 = 0\n",
    "  \\end{aligned}\n",
    "  \\right.\\,\n",
    "\\end{equation}$$\n",
    "\n",
    "\n",
    "**b) Equação vetorial da reta:**\n",
    "\n",
    "Nesta representação, utilizamos um ponto qualquer da reta (A) e um vetor paralelo a esta ($\\overrightarrow{v_r}$) para definí-la, da seguinte forma:\n",
    "\n",
    "$$ \\text{r :} A + k\\cdot \\overrightarrow{v_r}$$\n",
    "\n",
    "onde $k$ é uma constante qualquer. O interessante desta equação é que, com ela, podemos encontrar qualquer ponto que está na reta somente alterando o valor de $k$. Nela podemos também representar A e $\\overrightarrow{v_r}$ como um ponto  e um vetor n-dimensionais, permitindo a representação de retas em várias dimensões. Exemplo:\n",
    "\n",
    "$$ \\text{r :} \\begin{bmatrix} a_1 \\\\ a_2 \\\\ a_3 \\\\ a_4 \\end{bmatrix} + k\\cdot\\begin{pmatrix} x_1 \\\\ x_2 \\\\ x_3 \\\\ x_4 \\end{pmatrix}$$\n",
    "\n",
    "\n",
    "**c) Equação paramétrica da reta:**\n",
    "\n",
    "Esta representação é uma consequência direta da anterior. Nela, cada uma das $n$ dimensões da reta é escrita como uma equação, da seguinte maneira:\n",
    "\n",
    "$$\\begin{equation}\n",
    "  \\left\\{ \n",
    "  \\begin{aligned}\n",
    "     & r_1 = a_1 + k\\cdot x_1  \\\\\n",
    "     & r_2 = a_2 + k\\cdot x_2  \\\\\n",
    "     & r_3 = a_3 + k\\cdot x_3  \\\\\n",
    "     & r_4 = a_4 + k\\cdot x_4  \n",
    "  \\end{aligned}\n",
    "  \\right.\\,\n",
    "\\end{equation}$$"
   ]
  },
  {
   "cell_type": "code",
   "execution_count": null,
   "id": "b9b1db15",
   "metadata": {
    "colab": {
     "base_uri": "https://localhost:8080/",
     "height": 315
    },
    "id": "b9b1db15",
    "outputId": "fcebc7f5-8867-400b-ba48-b324d0a1e1d6"
   },
   "outputs": [
    {
     "data": {
      "image/png": "[encoded data removed]",
      "text/plain": [
       "<Figure size 432x288 with 1 Axes>"
      ]
     },
     "metadata": {
      "needs_background": "light"
     },
     "output_type": "display_data"
    },
    {
     "data": {
      "text/plain": [
       "<sympy.plotting.plot.Plot at 0x7f0d5992c8d0>"
      ]
     },
     "execution_count": 2,
     "metadata": {},
     "output_type": "execute_result"
    }
   ],
   "source": [
    "%matplotlib inline\n",
    "# Script para plotar retas bidimensionais\n",
    "x, y = sp.symbols('x y')\n",
    "\n",
    "# Digite aqui a equação geral da reta desejada\n",
    "y = x\n",
    "\n",
    "# Altere os limites abaixo para poder plotar a reta desejada\n",
    "sp.plotting.plot(y, xlim=(0,10), ylim=(0,10))"
   ]
  },
  {
   "cell_type": "markdown",
   "id": "f6361ed1",
   "metadata": {
    "id": "f6361ed1"
   },
   "source": [
    "<b><p style=\"text-align:right\"> [Retornar ao topo](#Topo) </p> </b> "
   ]
  },
  {
   "cell_type": "markdown",
   "id": "141bc063",
   "metadata": {
    "id": "141bc063"
   },
   "source": [
    "### 1.2. Planos <a id = \"Planos\"></a> \n",
    " \n",
    "Planos são entidades tridimensionais que podem ser utilizadas para separar regiões no espaço. Assim como as retas, são entidades infinitas. Um plano pode ser definido por três pontos não colineares, por um ponto e dois vetores coplanares e não-paralelos (ou linearmente independentes) ou por uma reta normal, ortogonal ou perpendicular ao plano (neste contexto, esssas três nomeclaturas são sinônimas). Assim como a reta, existem diversas formas de representar um plano:\n",
    "\n",
    "**a) Equação geral do plano**\n",
    "\n",
    "A equação geral de um plano simplesmente descreve a reta perpendicular a ele, conforme mostrado na figura abaixo.\n",
    "\n",
    "![image](https://lh3.googleusercontent.com/proxy/PbgCW3YJctKixnvvdqAKVPssl6WNS_nQ1VkhUmjjYGWBCDdn7SgiXxzlJ3cl-rYw-qkaDgvMZ7V82NsWduWZ)\n",
    "\n",
    "\n",
    "A equação da reta normal (N) que pode ser utilizada para descrever o plano acima é:\n",
    "\n",
    "$$ a\\cdot x_1 + b\\cdot x_2  + c\\cdot x_3 + d = 0$$\n",
    "\n",
    "\n",
    "**b) Equação vetorial do plano**\n",
    "\n",
    "Utiliza um ponto e dois vetores para definir um plano.\n",
    "\n",
    "$$ \\text{p :} A + k\\cdot \\overrightarrow{v_r} + m \\cdot \\overrightarrow{u_r}$$\n",
    "\n",
    "Exemplo:\n",
    "\n",
    "$$ \\text{p :} \\begin{bmatrix} a_1 \\\\ a_2 \\\\ a_3 \\\\ a_4 \\end{bmatrix} + k\\cdot\\begin{pmatrix} x_1 \\\\ x_2 \\\\ x_3 \\\\ x_4 \\end{pmatrix} + m\\cdot \\begin{pmatrix} y_1 \\\\ y_2 \\\\ y_3 \\\\ y_4\\end{pmatrix}$$\n"
   ]
  },
  {
   "cell_type": "code",
   "execution_count": 2,
   "id": "5201ea8e",
   "metadata": {
    "id": "5201ea8e",
    "outputId": "f291e166-6c91-4aa2-a4c5-b534c3280fd2",
    "scrolled": false
   },
   "outputs": [
    {
     "data": {
      "application/javascript": [
       "/* Put everything inside the global mpl namespace */\n",
       "/* global mpl */\n",
       "window.mpl = {};\n",
       "\n",
       "mpl.get_websocket_type = function () {\n",
       "    if (typeof WebSocket !== 'undefined') {\n",
       "        return WebSocket;\n",
       "    } else if (typeof MozWebSocket !== 'undefined') {\n",
       "        return MozWebSocket;\n",
       "    } else {\n",
       "        alert(\n",
       "            'Your browser does not have WebSocket support. ' +\n",
       "                'Please try Chrome, Safari or Firefox ≥ 6. ' +\n",
       "                'Firefox 4 and 5 are also supported but you ' +\n",
       "                'have to enable WebSockets in about:config.'\n",
       "        );\n",
       "    }\n",
       "};\n",
       "\n",
       "mpl.figure = function (figure_id, websocket, ondownload, parent_element) {\n",
       "    this.id = figure_id;\n",
       "\n",
       "    this.ws = websocket;\n",
       "\n",
       "    this.supports_binary = this.ws.binaryType !== undefined;\n",
       "\n",
       "    if (!this.supports_binary) {\n",
       "        var warnings = document.getElementById('mpl-warnings');\n",
       "        if (warnings) {\n",
       "            warnings.style.display = 'block';\n",
       "            warnings.textContent =\n",
       "                'This browser does not support binary websocket messages. ' +\n",
       "                'Performance may be slow.';\n",
       "        }\n",
       "    }\n",
       "\n",
       "    this.imageObj = new Image();\n",
       "\n",
       "    this.context = undefined;\n",
       "    this.message = undefined;\n",
       "    this.canvas = undefined;\n",
       "    this.rubberband_canvas = undefined;\n",
       "    this.rubberband_context = undefined;\n",
       "    this.format_dropdown = undefined;\n",
       "\n",
       "    this.image_mode = 'full';\n",
       "\n",
       "    this.root = document.createElement('div');\n",
       "    this.root.setAttribute('style', 'display: inline-block');\n",
       "    this._root_extra_style(this.root);\n",
       "\n",
       "    parent_element.appendChild(this.root);\n",
       "\n",
       "    this._init_header(this);\n",
       "    this._init_canvas(this);\n",
       "    this._init_toolbar(this);\n",
       "\n",
       "    var fig = this;\n",
       "\n",
       "    this.waiting = false;\n",
       "\n",
       "    this.ws.onopen = function () {\n",
       "        fig.send_message('supports_binary', { value: fig.supports_binary });\n",
       "        fig.send_message('send_image_mode', {});\n",
       "        if (fig.ratio !== 1) {\n",
       "            fig.send_message('set_dpi_ratio', { dpi_ratio: fig.ratio });\n",
       "        }\n",
       "        fig.send_message('refresh', {});\n",
       "    };\n",
       "\n",
       "    this.imageObj.onload = function () {\n",
       "        if (fig.image_mode === 'full') {\n",
       "            // Full images could contain transparency (where diff images\n",
       "            // almost always do), so we need to clear the canvas so that\n",
       "            // there is no ghosting.\n",
       "            fig.context.clearRect(0, 0, fig.canvas.width, fig.canvas.height);\n",
       "        }\n",
       "        fig.context.drawImage(fig.imageObj, 0, 0);\n",
       "    };\n",
       "\n",
       "    this.imageObj.onunload = function () {\n",
       "        fig.ws.close();\n",
       "    };\n",
       "\n",
       "    this.ws.onmessage = this._make_on_message_function(this);\n",
       "\n",
       "    this.ondownload = ondownload;\n",
       "};\n",
       "\n",
       "mpl.figure.prototype._init_header = function () {\n",
       "    var titlebar = document.createElement('div');\n",
       "    titlebar.classList =\n",
       "        'ui-dialog-titlebar ui-widget-header ui-corner-all ui-helper-clearfix';\n",
       "    var titletext = document.createElement('div');\n",
       "    titletext.classList = 'ui-dialog-title';\n",
       "    titletext.setAttribute(\n",
       "        'style',\n",
       "        'width: 100%; text-align: center; padding: 3px;'\n",
       "    );\n",
       "    titlebar.appendChild(titletext);\n",
       "    this.root.appendChild(titlebar);\n",
       "    this.header = titletext;\n",
       "};\n",
       "\n",
       "mpl.figure.prototype._canvas_extra_style = function (_canvas_div) {};\n",
       "\n",
       "mpl.figure.prototype._root_extra_style = function (_canvas_div) {};\n",
       "\n",
       "mpl.figure.prototype._init_canvas = function () {\n",
       "    var fig = this;\n",
       "\n",
       "    var canvas_div = (this.canvas_div = document.createElement('div'));\n",
       "    canvas_div.setAttribute(\n",
       "        'style',\n",
       "        'border: 1px solid #ddd;' +\n",
       "            'box-sizing: content-box;' +\n",
       "            'clear: both;' +\n",
       "            'min-height: 1px;' +\n",
       "            'min-width: 1px;' +\n",
       "            'outline: 0;' +\n",
       "            'overflow: hidden;' +\n",
       "            'position: relative;' +\n",
       "            'resize: both;'\n",
       "    );\n",
       "\n",
       "    function on_keyboard_event_closure(name) {\n",
       "        return function (event) {\n",
       "            return fig.key_event(event, name);\n",
       "        };\n",
       "    }\n",
       "\n",
       "    canvas_div.addEventListener(\n",
       "        'keydown',\n",
       "        on_keyboard_event_closure('key_press')\n",
       "    );\n",
       "    canvas_div.addEventListener(\n",
       "        'keyup',\n",
       "        on_keyboard_event_closure('key_release')\n",
       "    );\n",
       "\n",
       "    this._canvas_extra_style(canvas_div);\n",
       "    this.root.appendChild(canvas_div);\n",
       "\n",
       "    var canvas = (this.canvas = document.createElement('canvas'));\n",
       "    canvas.classList.add('mpl-canvas');\n",
       "    canvas.setAttribute('style', 'box-sizing: content-box;');\n",
       "\n",
       "    this.context = canvas.getContext('2d');\n",
       "\n",
       "    var backingStore =\n",
       "        this.context.backingStorePixelRatio ||\n",
       "        this.context.webkitBackingStorePixelRatio ||\n",
       "        this.context.mozBackingStorePixelRatio ||\n",
       "        this.context.msBackingStorePixelRatio ||\n",
       "        this.context.oBackingStorePixelRatio ||\n",
       "        this.context.backingStorePixelRatio ||\n",
       "        1;\n",
       "\n",
       "    this.ratio = (window.devicePixelRatio || 1) / backingStore;\n",
       "    if (this.ratio !== 1) {\n",
       "        fig.send_message('set_dpi_ratio', { dpi_ratio: this.ratio });\n",
       "    }\n",
       "\n",
       "    var rubberband_canvas = (this.rubberband_canvas = document.createElement(\n",
       "        'canvas'\n",
       "    ));\n",
       "    rubberband_canvas.setAttribute(\n",
       "        'style',\n",
       "        'box-sizing: content-box; position: absolute; left: 0; top: 0; z-index: 1;'\n",
       "    );\n",
       "\n",
       "    // Apply a ponyfill if ResizeObserver is not implemented by browser.\n",
       "    if (this.ResizeObserver === undefined) {\n",
       "        if (window.ResizeObserver !== undefined) {\n",
       "            this.ResizeObserver = window.ResizeObserver;\n",
       "        } else {\n",
       "            var obs = _JSXTOOLS_RESIZE_OBSERVER({});\n",
       "            this.ResizeObserver = obs.ResizeObserver;\n",
       "        }\n",
       "    }\n",
       "\n",
       "    this.resizeObserverInstance = new this.ResizeObserver(function (entries) {\n",
       "        var nentries = entries.length;\n",
       "        for (var i = 0; i < nentries; i++) {\n",
       "            var entry = entries[i];\n",
       "            var width, height;\n",
       "            if (entry.contentBoxSize) {\n",
       "                if (entry.contentBoxSize instanceof Array) {\n",
       "                    // Chrome 84 implements new version of spec.\n",
       "                    width = entry.contentBoxSize[0].inlineSize;\n",
       "                    height = entry.contentBoxSize[0].blockSize;\n",
       "                } else {\n",
       "                    // Firefox implements old version of spec.\n",
       "                    width = entry.contentBoxSize.inlineSize;\n",
       "                    height = entry.contentBoxSize.blockSize;\n",
       "                }\n",
       "            } else {\n",
       "                // Chrome <84 implements even older version of spec.\n",
       "                width = entry.contentRect.width;\n",
       "                height = entry.contentRect.height;\n",
       "            }\n",
       "\n",
       "            // Keep the size of the canvas and rubber band canvas in sync with\n",
       "            // the canvas container.\n",
       "            if (entry.devicePixelContentBoxSize) {\n",
       "                // Chrome 84 implements new version of spec.\n",
       "                canvas.setAttribute(\n",
       "                    'width',\n",
       "                    entry.devicePixelContentBoxSize[0].inlineSize\n",
       "                );\n",
       "                canvas.setAttribute(\n",
       "                    'height',\n",
       "                    entry.devicePixelContentBoxSize[0].blockSize\n",
       "                );\n",
       "            } else {\n",
       "                canvas.setAttribute('width', width * fig.ratio);\n",
       "                canvas.setAttribute('height', height * fig.ratio);\n",
       "            }\n",
       "            canvas.setAttribute(\n",
       "                'style',\n",
       "                'width: ' + width + 'px; height: ' + height + 'px;'\n",
       "            );\n",
       "\n",
       "            rubberband_canvas.setAttribute('width', width);\n",
       "            rubberband_canvas.setAttribute('height', height);\n",
       "\n",
       "            // And update the size in Python. We ignore the initial 0/0 size\n",
       "            // that occurs as the element is placed into the DOM, which should\n",
       "            // otherwise not happen due to the minimum size styling.\n",
       "            if (width != 0 && height != 0) {\n",
       "                fig.request_resize(width, height);\n",
       "            }\n",
       "        }\n",
       "    });\n",
       "    this.resizeObserverInstance.observe(canvas_div);\n",
       "\n",
       "    function on_mouse_event_closure(name) {\n",
       "        return function (event) {\n",
       "            return fig.mouse_event(event, name);\n",
       "        };\n",
       "    }\n",
       "\n",
       "    rubberband_canvas.addEventListener(\n",
       "        'mousedown',\n",
       "        on_mouse_event_closure('button_press')\n",
       "    );\n",
       "    rubberband_canvas.addEventListener(\n",
       "        'mouseup',\n",
       "        on_mouse_event_closure('button_release')\n",
       "    );\n",
       "    // Throttle sequential mouse events to 1 every 20ms.\n",
       "    rubberband_canvas.addEventListener(\n",
       "        'mousemove',\n",
       "        on_mouse_event_closure('motion_notify')\n",
       "    );\n",
       "\n",
       "    rubberband_canvas.addEventListener(\n",
       "        'mouseenter',\n",
       "        on_mouse_event_closure('figure_enter')\n",
       "    );\n",
       "    rubberband_canvas.addEventListener(\n",
       "        'mouseleave',\n",
       "        on_mouse_event_closure('figure_leave')\n",
       "    );\n",
       "\n",
       "    canvas_div.addEventListener('wheel', function (event) {\n",
       "        if (event.deltaY < 0) {\n",
       "            event.step = 1;\n",
       "        } else {\n",
       "            event.step = -1;\n",
       "        }\n",
       "        on_mouse_event_closure('scroll')(event);\n",
       "    });\n",
       "\n",
       "    canvas_div.appendChild(canvas);\n",
       "    canvas_div.appendChild(rubberband_canvas);\n",
       "\n",
       "    this.rubberband_context = rubberband_canvas.getContext('2d');\n",
       "    this.rubberband_context.strokeStyle = '#000000';\n",
       "\n",
       "    this._resize_canvas = function (width, height, forward) {\n",
       "        if (forward) {\n",
       "            canvas_div.style.width = width + 'px';\n",
       "            canvas_div.style.height = height + 'px';\n",
       "        }\n",
       "    };\n",
       "\n",
       "    // Disable right mouse context menu.\n",
       "    this.rubberband_canvas.addEventListener('contextmenu', function (_e) {\n",
       "        event.preventDefault();\n",
       "        return false;\n",
       "    });\n",
       "\n",
       "    function set_focus() {\n",
       "        canvas.focus();\n",
       "        canvas_div.focus();\n",
       "    }\n",
       "\n",
       "    window.setTimeout(set_focus, 100);\n",
       "};\n",
       "\n",
       "mpl.figure.prototype._init_toolbar = function () {\n",
       "    var fig = this;\n",
       "\n",
       "    var toolbar = document.createElement('div');\n",
       "    toolbar.classList = 'mpl-toolbar';\n",
       "    this.root.appendChild(toolbar);\n",
       "\n",
       "    function on_click_closure(name) {\n",
       "        return function (_event) {\n",
       "            return fig.toolbar_button_onclick(name);\n",
       "        };\n",
       "    }\n",
       "\n",
       "    function on_mouseover_closure(tooltip) {\n",
       "        return function (event) {\n",
       "            if (!event.currentTarget.disabled) {\n",
       "                return fig.toolbar_button_onmouseover(tooltip);\n",
       "            }\n",
       "        };\n",
       "    }\n",
       "\n",
       "    fig.buttons = {};\n",
       "    var buttonGroup = document.createElement('div');\n",
       "    buttonGroup.classList = 'mpl-button-group';\n",
       "    for (var toolbar_ind in mpl.toolbar_items) {\n",
       "        var name = mpl.toolbar_items[toolbar_ind][0];\n",
       "        var tooltip = mpl.toolbar_items[toolbar_ind][1];\n",
       "        var image = mpl.toolbar_items[toolbar_ind][2];\n",
       "        var method_name = mpl.toolbar_items[toolbar_ind][3];\n",
       "\n",
       "        if (!name) {\n",
       "            /* Instead of a spacer, we start a new button group. */\n",
       "            if (buttonGroup.hasChildNodes()) {\n",
       "                toolbar.appendChild(buttonGroup);\n",
       "            }\n",
       "            buttonGroup = document.createElement('div');\n",
       "            buttonGroup.classList = 'mpl-button-group';\n",
       "            continue;\n",
       "        }\n",
       "\n",
       "        var button = (fig.buttons[name] = document.createElement('button'));\n",
       "        button.classList = 'mpl-widget';\n",
       "        button.setAttribute('role', 'button');\n",
       "        button.setAttribute('aria-disabled', 'false');\n",
       "        button.addEventListener('click', on_click_closure(method_name));\n",
       "        button.addEventListener('mouseover', on_mouseover_closure(tooltip));\n",
       "\n",
       "        var icon_img = document.createElement('img');\n",
       "        icon_img.src = '_images/' + image + '.png';\n",
       "        icon_img.srcset = '_images/' + image + '_large.png 2x';\n",
       "        icon_img.alt = tooltip;\n",
       "        button.appendChild(icon_img);\n",
       "\n",
       "        buttonGroup.appendChild(button);\n",
       "    }\n",
       "\n",
       "    if (buttonGroup.hasChildNodes()) {\n",
       "        toolbar.appendChild(buttonGroup);\n",
       "    }\n",
       "\n",
       "    var fmt_picker = document.createElement('select');\n",
       "    fmt_picker.classList = 'mpl-widget';\n",
       "    toolbar.appendChild(fmt_picker);\n",
       "    this.format_dropdown = fmt_picker;\n",
       "\n",
       "    for (var ind in mpl.extensions) {\n",
       "        var fmt = mpl.extensions[ind];\n",
       "        var option = document.createElement('option');\n",
       "        option.selected = fmt === mpl.default_extension;\n",
       "        option.innerHTML = fmt;\n",
       "        fmt_picker.appendChild(option);\n",
       "    }\n",
       "\n",
       "    var status_bar = document.createElement('span');\n",
       "    status_bar.classList = 'mpl-message';\n",
       "    toolbar.appendChild(status_bar);\n",
       "    this.message = status_bar;\n",
       "};\n",
       "\n",
       "mpl.figure.prototype.request_resize = function (x_pixels, y_pixels) {\n",
       "    // Request matplotlib to resize the figure. Matplotlib will then trigger a resize in the client,\n",
       "    // which will in turn request a refresh of the image.\n",
       "    this.send_message('resize', { width: x_pixels, height: y_pixels });\n",
       "};\n",
       "\n",
       "mpl.figure.prototype.send_message = function (type, properties) {\n",
       "    properties['type'] = type;\n",
       "    properties['figure_id'] = this.id;\n",
       "    this.ws.send(JSON.stringify(properties));\n",
       "};\n",
       "\n",
       "mpl.figure.prototype.send_draw_message = function () {\n",
       "    if (!this.waiting) {\n",
       "        this.waiting = true;\n",
       "        this.ws.send(JSON.stringify({ type: 'draw', figure_id: this.id }));\n",
       "    }\n",
       "};\n",
       "\n",
       "mpl.figure.prototype.handle_save = function (fig, _msg) {\n",
       "    var format_dropdown = fig.format_dropdown;\n",
       "    var format = format_dropdown.options[format_dropdown.selectedIndex].value;\n",
       "    fig.ondownload(fig, format);\n",
       "};\n",
       "\n",
       "mpl.figure.prototype.handle_resize = function (fig, msg) {\n",
       "    var size = msg['size'];\n",
       "    if (size[0] !== fig.canvas.width || size[1] !== fig.canvas.height) {\n",
       "        fig._resize_canvas(size[0], size[1], msg['forward']);\n",
       "        fig.send_message('refresh', {});\n",
       "    }\n",
       "};\n",
       "\n",
       "mpl.figure.prototype.handle_rubberband = function (fig, msg) {\n",
       "    var x0 = msg['x0'] / fig.ratio;\n",
       "    var y0 = (fig.canvas.height - msg['y0']) / fig.ratio;\n",
       "    var x1 = msg['x1'] / fig.ratio;\n",
       "    var y1 = (fig.canvas.height - msg['y1']) / fig.ratio;\n",
       "    x0 = Math.floor(x0) + 0.5;\n",
       "    y0 = Math.floor(y0) + 0.5;\n",
       "    x1 = Math.floor(x1) + 0.5;\n",
       "    y1 = Math.floor(y1) + 0.5;\n",
       "    var min_x = Math.min(x0, x1);\n",
       "    var min_y = Math.min(y0, y1);\n",
       "    var width = Math.abs(x1 - x0);\n",
       "    var height = Math.abs(y1 - y0);\n",
       "\n",
       "    fig.rubberband_context.clearRect(\n",
       "        0,\n",
       "        0,\n",
       "        fig.canvas.width / fig.ratio,\n",
       "        fig.canvas.height / fig.ratio\n",
       "    );\n",
       "\n",
       "    fig.rubberband_context.strokeRect(min_x, min_y, width, height);\n",
       "};\n",
       "\n",
       "mpl.figure.prototype.handle_figure_label = function (fig, msg) {\n",
       "    // Updates the figure title.\n",
       "    fig.header.textContent = msg['label'];\n",
       "};\n",
       "\n",
       "mpl.figure.prototype.handle_cursor = function (fig, msg) {\n",
       "    var cursor = msg['cursor'];\n",
       "    switch (cursor) {\n",
       "        case 0:\n",
       "            cursor = 'pointer';\n",
       "            break;\n",
       "        case 1:\n",
       "            cursor = 'default';\n",
       "            break;\n",
       "        case 2:\n",
       "            cursor = 'crosshair';\n",
       "            break;\n",
       "        case 3:\n",
       "            cursor = 'move';\n",
       "            break;\n",
       "    }\n",
       "    fig.rubberband_canvas.style.cursor = cursor;\n",
       "};\n",
       "\n",
       "mpl.figure.prototype.handle_message = function (fig, msg) {\n",
       "    fig.message.textContent = msg['message'];\n",
       "};\n",
       "\n",
       "mpl.figure.prototype.handle_draw = function (fig, _msg) {\n",
       "    // Request the server to send over a new figure.\n",
       "    fig.send_draw_message();\n",
       "};\n",
       "\n",
       "mpl.figure.prototype.handle_image_mode = function (fig, msg) {\n",
       "    fig.image_mode = msg['mode'];\n",
       "};\n",
       "\n",
       "mpl.figure.prototype.handle_history_buttons = function (fig, msg) {\n",
       "    for (var key in msg) {\n",
       "        if (!(key in fig.buttons)) {\n",
       "            continue;\n",
       "        }\n",
       "        fig.buttons[key].disabled = !msg[key];\n",
       "        fig.buttons[key].setAttribute('aria-disabled', !msg[key]);\n",
       "    }\n",
       "};\n",
       "\n",
       "mpl.figure.prototype.handle_navigate_mode = function (fig, msg) {\n",
       "    if (msg['mode'] === 'PAN') {\n",
       "        fig.buttons['Pan'].classList.add('active');\n",
       "        fig.buttons['Zoom'].classList.remove('active');\n",
       "    } else if (msg['mode'] === 'ZOOM') {\n",
       "        fig.buttons['Pan'].classList.remove('active');\n",
       "        fig.buttons['Zoom'].classList.add('active');\n",
       "    } else {\n",
       "        fig.buttons['Pan'].classList.remove('active');\n",
       "        fig.buttons['Zoom'].classList.remove('active');\n",
       "    }\n",
       "};\n",
       "\n",
       "mpl.figure.prototype.updated_canvas_event = function () {\n",
       "    // Called whenever the canvas gets updated.\n",
       "    this.send_message('ack', {});\n",
       "};\n",
       "\n",
       "// A function to construct a web socket function for onmessage handling.\n",
       "// Called in the figure constructor.\n",
       "mpl.figure.prototype._make_on_message_function = function (fig) {\n",
       "    return function socket_on_message(evt) {\n",
       "        if (evt.data instanceof Blob) {\n",
       "            /* FIXME: We get \"Resource interpreted as Image but\n",
       "             * transferred with MIME type text/plain:\" errors on\n",
       "             * Chrome.  But how to set the MIME type?  It doesn't seem\n",
       "             * to be part of the websocket stream */\n",
       "            evt.data.type = 'image/png';\n",
       "\n",
       "            /* Free the memory for the previous frames */\n",
       "            if (fig.imageObj.src) {\n",
       "                (window.URL || window.webkitURL).revokeObjectURL(\n",
       "                    fig.imageObj.src\n",
       "                );\n",
       "            }\n",
       "\n",
       "            fig.imageObj.src = (window.URL || window.webkitURL).createObjectURL(\n",
       "                evt.data\n",
       "            );\n",
       "            fig.updated_canvas_event();\n",
       "            fig.waiting = false;\n",
       "            return;\n",
       "        } else if (\n",
       "            typeof evt.data === 'string' &&\n",
       "            evt.data.slice(0, 21) === 'data:image/png;base64'\n",
       "        ) {\n",
       "            fig.imageObj.src = evt.data;\n",
       "            fig.updated_canvas_event();\n",
       "            fig.waiting = false;\n",
       "            return;\n",
       "        }\n",
       "\n",
       "        var msg = JSON.parse(evt.data);\n",
       "        var msg_type = msg['type'];\n",
       "\n",
       "        // Call the  \"handle_{type}\" callback, which takes\n",
       "        // the figure and JSON message as its only arguments.\n",
       "        try {\n",
       "            var callback = fig['handle_' + msg_type];\n",
       "        } catch (e) {\n",
       "            console.log(\n",
       "                \"No handler for the '\" + msg_type + \"' message type: \",\n",
       "                msg\n",
       "            );\n",
       "            return;\n",
       "        }\n",
       "\n",
       "        if (callback) {\n",
       "            try {\n",
       "                // console.log(\"Handling '\" + msg_type + \"' message: \", msg);\n",
       "                callback(fig, msg);\n",
       "            } catch (e) {\n",
       "                console.log(\n",
       "                    \"Exception inside the 'handler_\" + msg_type + \"' callback:\",\n",
       "                    e,\n",
       "                    e.stack,\n",
       "                    msg\n",
       "                );\n",
       "            }\n",
       "        }\n",
       "    };\n",
       "};\n",
       "\n",
       "// from http://stackoverflow.com/questions/1114465/getting-mouse-location-in-canvas\n",
       "mpl.findpos = function (e) {\n",
       "    //this section is from http://www.quirksmode.org/js/events_properties.html\n",
       "    var targ;\n",
       "    if (!e) {\n",
       "        e = window.event;\n",
       "    }\n",
       "    if (e.target) {\n",
       "        targ = e.target;\n",
       "    } else if (e.srcElement) {\n",
       "        targ = e.srcElement;\n",
       "    }\n",
       "    if (targ.nodeType === 3) {\n",
       "        // defeat Safari bug\n",
       "        targ = targ.parentNode;\n",
       "    }\n",
       "\n",
       "    // pageX,Y are the mouse positions relative to the document\n",
       "    var boundingRect = targ.getBoundingClientRect();\n",
       "    var x = e.pageX - (boundingRect.left + document.body.scrollLeft);\n",
       "    var y = e.pageY - (boundingRect.top + document.body.scrollTop);\n",
       "\n",
       "    return { x: x, y: y };\n",
       "};\n",
       "\n",
       "/*\n",
       " * return a copy of an object with only non-object keys\n",
       " * we need this to avoid circular references\n",
       " * http://stackoverflow.com/a/24161582/3208463\n",
       " */\n",
       "function simpleKeys(original) {\n",
       "    return Object.keys(original).reduce(function (obj, key) {\n",
       "        if (typeof original[key] !== 'object') {\n",
       "            obj[key] = original[key];\n",
       "        }\n",
       "        return obj;\n",
       "    }, {});\n",
       "}\n",
       "\n",
       "mpl.figure.prototype.mouse_event = function (event, name) {\n",
       "    var canvas_pos = mpl.findpos(event);\n",
       "\n",
       "    if (name === 'button_press') {\n",
       "        this.canvas.focus();\n",
       "        this.canvas_div.focus();\n",
       "    }\n",
       "\n",
       "    var x = canvas_pos.x * this.ratio;\n",
       "    var y = canvas_pos.y * this.ratio;\n",
       "\n",
       "    this.send_message(name, {\n",
       "        x: x,\n",
       "        y: y,\n",
       "        button: event.button,\n",
       "        step: event.step,\n",
       "        guiEvent: simpleKeys(event),\n",
       "    });\n",
       "\n",
       "    /* This prevents the web browser from automatically changing to\n",
       "     * the text insertion cursor when the button is pressed.  We want\n",
       "     * to control all of the cursor setting manually through the\n",
       "     * 'cursor' event from matplotlib */\n",
       "    event.preventDefault();\n",
       "    return false;\n",
       "};\n",
       "\n",
       "mpl.figure.prototype._key_event_extra = function (_event, _name) {\n",
       "    // Handle any extra behaviour associated with a key event\n",
       "};\n",
       "\n",
       "mpl.figure.prototype.key_event = function (event, name) {\n",
       "    // Prevent repeat events\n",
       "    if (name === 'key_press') {\n",
       "        if (event.which === this._key) {\n",
       "            return;\n",
       "        } else {\n",
       "            this._key = event.which;\n",
       "        }\n",
       "    }\n",
       "    if (name === 'key_release') {\n",
       "        this._key = null;\n",
       "    }\n",
       "\n",
       "    var value = '';\n",
       "    if (event.ctrlKey && event.which !== 17) {\n",
       "        value += 'ctrl+';\n",
       "    }\n",
       "    if (event.altKey && event.which !== 18) {\n",
       "        value += 'alt+';\n",
       "    }\n",
       "    if (event.shiftKey && event.which !== 16) {\n",
       "        value += 'shift+';\n",
       "    }\n",
       "\n",
       "    value += 'k';\n",
       "    value += event.which.toString();\n",
       "\n",
       "    this._key_event_extra(event, name);\n",
       "\n",
       "    this.send_message(name, { key: value, guiEvent: simpleKeys(event) });\n",
       "    return false;\n",
       "};\n",
       "\n",
       "mpl.figure.prototype.toolbar_button_onclick = function (name) {\n",
       "    if (name === 'download') {\n",
       "        this.handle_save(this, null);\n",
       "    } else {\n",
       "        this.send_message('toolbar_button', { name: name });\n",
       "    }\n",
       "};\n",
       "\n",
       "mpl.figure.prototype.toolbar_button_onmouseover = function (tooltip) {\n",
       "    this.message.textContent = tooltip;\n",
       "};\n",
       "\n",
       "///////////////// REMAINING CONTENT GENERATED BY embed_js.py /////////////////\n",
       "// prettier-ignore\n",
       "var _JSXTOOLS_RESIZE_OBSERVER=function(A){var t,i=new WeakMap,n=new WeakMap,a=new WeakMap,r=new WeakMap,o=new Set;function s(e){if(!(this instanceof s))throw new TypeError(\"Constructor requires 'new' operator\");i.set(this,e)}function h(){throw new TypeError(\"Function is not a constructor\")}function c(e,t,i,n){e=0 in arguments?Number(arguments[0]):0,t=1 in arguments?Number(arguments[1]):0,i=2 in arguments?Number(arguments[2]):0,n=3 in arguments?Number(arguments[3]):0,this.right=(this.x=this.left=e)+(this.width=i),this.bottom=(this.y=this.top=t)+(this.height=n),Object.freeze(this)}function d(){t=requestAnimationFrame(d);var s=new WeakMap,p=new Set;o.forEach((function(t){r.get(t).forEach((function(i){var r=t instanceof window.SVGElement,o=a.get(t),d=r?0:parseFloat(o.paddingTop),f=r?0:parseFloat(o.paddingRight),l=r?0:parseFloat(o.paddingBottom),u=r?0:parseFloat(o.paddingLeft),g=r?0:parseFloat(o.borderTopWidth),m=r?0:parseFloat(o.borderRightWidth),w=r?0:parseFloat(o.borderBottomWidth),b=u+f,F=d+l,v=(r?0:parseFloat(o.borderLeftWidth))+m,W=g+w,y=r?0:t.offsetHeight-W-t.clientHeight,E=r?0:t.offsetWidth-v-t.clientWidth,R=b+v,z=F+W,M=r?t.width:parseFloat(o.width)-R-E,O=r?t.height:parseFloat(o.height)-z-y;if(n.has(t)){var k=n.get(t);if(k[0]===M&&k[1]===O)return}n.set(t,[M,O]);var S=Object.create(h.prototype);S.target=t,S.contentRect=new c(u,d,M,O),s.has(i)||(s.set(i,[]),p.add(i)),s.get(i).push(S)}))})),p.forEach((function(e){i.get(e).call(e,s.get(e),e)}))}return s.prototype.observe=function(i){if(i instanceof window.Element){r.has(i)||(r.set(i,new Set),o.add(i),a.set(i,window.getComputedStyle(i)));var n=r.get(i);n.has(this)||n.add(this),cancelAnimationFrame(t),t=requestAnimationFrame(d)}},s.prototype.unobserve=function(i){if(i instanceof window.Element&&r.has(i)){var n=r.get(i);n.has(this)&&(n.delete(this),n.size||(r.delete(i),o.delete(i))),n.size||r.delete(i),o.size||cancelAnimationFrame(t)}},A.DOMRectReadOnly=c,A.ResizeObserver=s,A.ResizeObserverEntry=h,A}; // eslint-disable-line\n",
       "mpl.toolbar_items = [[\"Home\", \"Reset original view\", \"fa fa-home icon-home\", \"home\"], [\"Back\", \"Back to previous view\", \"fa fa-arrow-left icon-arrow-left\", \"back\"], [\"Forward\", \"Forward to next view\", \"fa fa-arrow-right icon-arrow-right\", \"forward\"], [\"\", \"\", \"\", \"\"], [\"Pan\", \"Left button pans, Right button zooms\\nx/y fixes axis, CTRL fixes aspect\", \"fa fa-arrows icon-move\", \"pan\"], [\"Zoom\", \"Zoom to rectangle\\nx/y fixes axis, CTRL fixes aspect\", \"fa fa-square-o icon-check-empty\", \"zoom\"], [\"\", \"\", \"\", \"\"], [\"Download\", \"Download plot\", \"fa fa-floppy-o icon-save\", \"download\"]];\n",
       "\n",
       "mpl.extensions = [\"eps\", \"jpeg\", \"pdf\", \"png\", \"ps\", \"raw\", \"svg\", \"tif\"];\n",
       "\n",
       "mpl.default_extension = \"png\";/* global mpl */\n",
       "\n",
       "var comm_websocket_adapter = function (comm) {\n",
       "    // Create a \"websocket\"-like object which calls the given IPython comm\n",
       "    // object with the appropriate methods. Currently this is a non binary\n",
       "    // socket, so there is still some room for performance tuning.\n",
       "    var ws = {};\n",
       "\n",
       "    ws.close = function () {\n",
       "        comm.close();\n",
       "    };\n",
       "    ws.send = function (m) {\n",
       "        //console.log('sending', m);\n",
       "        comm.send(m);\n",
       "    };\n",
       "    // Register the callback with on_msg.\n",
       "    comm.on_msg(function (msg) {\n",
       "        //console.log('receiving', msg['content']['data'], msg);\n",
       "        // Pass the mpl event to the overridden (by mpl) onmessage function.\n",
       "        ws.onmessage(msg['content']['data']);\n",
       "    });\n",
       "    return ws;\n",
       "};\n",
       "\n",
       "mpl.mpl_figure_comm = function (comm, msg) {\n",
       "    // This is the function which gets called when the mpl process\n",
       "    // starts-up an IPython Comm through the \"matplotlib\" channel.\n",
       "\n",
       "    var id = msg.content.data.id;\n",
       "    // Get hold of the div created by the display call when the Comm\n",
       "    // socket was opened in Python.\n",
       "    var element = document.getElementById(id);\n",
       "    var ws_proxy = comm_websocket_adapter(comm);\n",
       "\n",
       "    function ondownload(figure, _format) {\n",
       "        window.open(figure.canvas.toDataURL());\n",
       "    }\n",
       "\n",
       "    var fig = new mpl.figure(id, ws_proxy, ondownload, element);\n",
       "\n",
       "    // Call onopen now - mpl needs it, as it is assuming we've passed it a real\n",
       "    // web socket which is closed, not our websocket->open comm proxy.\n",
       "    ws_proxy.onopen();\n",
       "\n",
       "    fig.parent_element = element;\n",
       "    fig.cell_info = mpl.find_output_cell(\"<div id='\" + id + \"'></div>\");\n",
       "    if (!fig.cell_info) {\n",
       "        console.error('Failed to find cell for figure', id, fig);\n",
       "        return;\n",
       "    }\n",
       "    fig.cell_info[0].output_area.element.on(\n",
       "        'cleared',\n",
       "        { fig: fig },\n",
       "        fig._remove_fig_handler\n",
       "    );\n",
       "};\n",
       "\n",
       "mpl.figure.prototype.handle_close = function (fig, msg) {\n",
       "    var width = fig.canvas.width / fig.ratio;\n",
       "    fig.cell_info[0].output_area.element.off(\n",
       "        'cleared',\n",
       "        fig._remove_fig_handler\n",
       "    );\n",
       "    fig.resizeObserverInstance.unobserve(fig.canvas_div);\n",
       "\n",
       "    // Update the output cell to use the data from the current canvas.\n",
       "    fig.push_to_output();\n",
       "    var dataURL = fig.canvas.toDataURL();\n",
       "    // Re-enable the keyboard manager in IPython - without this line, in FF,\n",
       "    // the notebook keyboard shortcuts fail.\n",
       "    IPython.keyboard_manager.enable();\n",
       "    fig.parent_element.innerHTML =\n",
       "        '<img src=\"' + dataURL + '\" width=\"' + width + '\">';\n",
       "    fig.close_ws(fig, msg);\n",
       "};\n",
       "\n",
       "mpl.figure.prototype.close_ws = function (fig, msg) {\n",
       "    fig.send_message('closing', msg);\n",
       "    // fig.ws.close()\n",
       "};\n",
       "\n",
       "mpl.figure.prototype.push_to_output = function (_remove_interactive) {\n",
       "    // Turn the data on the canvas into data in the output cell.\n",
       "    var width = this.canvas.width / this.ratio;\n",
       "    var dataURL = this.canvas.toDataURL();\n",
       "    this.cell_info[1]['text/html'] =\n",
       "        '<img src=\"' + dataURL + '\" width=\"' + width + '\">';\n",
       "};\n",
       "\n",
       "mpl.figure.prototype.updated_canvas_event = function () {\n",
       "    // Tell IPython that the notebook contents must change.\n",
       "    IPython.notebook.set_dirty(true);\n",
       "    this.send_message('ack', {});\n",
       "    var fig = this;\n",
       "    // Wait a second, then push the new image to the DOM so\n",
       "    // that it is saved nicely (might be nice to debounce this).\n",
       "    setTimeout(function () {\n",
       "        fig.push_to_output();\n",
       "    }, 1000);\n",
       "};\n",
       "\n",
       "mpl.figure.prototype._init_toolbar = function () {\n",
       "    var fig = this;\n",
       "\n",
       "    var toolbar = document.createElement('div');\n",
       "    toolbar.classList = 'btn-toolbar';\n",
       "    this.root.appendChild(toolbar);\n",
       "\n",
       "    function on_click_closure(name) {\n",
       "        return function (_event) {\n",
       "            return fig.toolbar_button_onclick(name);\n",
       "        };\n",
       "    }\n",
       "\n",
       "    function on_mouseover_closure(tooltip) {\n",
       "        return function (event) {\n",
       "            if (!event.currentTarget.disabled) {\n",
       "                return fig.toolbar_button_onmouseover(tooltip);\n",
       "            }\n",
       "        };\n",
       "    }\n",
       "\n",
       "    fig.buttons = {};\n",
       "    var buttonGroup = document.createElement('div');\n",
       "    buttonGroup.classList = 'btn-group';\n",
       "    var button;\n",
       "    for (var toolbar_ind in mpl.toolbar_items) {\n",
       "        var name = mpl.toolbar_items[toolbar_ind][0];\n",
       "        var tooltip = mpl.toolbar_items[toolbar_ind][1];\n",
       "        var image = mpl.toolbar_items[toolbar_ind][2];\n",
       "        var method_name = mpl.toolbar_items[toolbar_ind][3];\n",
       "\n",
       "        if (!name) {\n",
       "            /* Instead of a spacer, we start a new button group. */\n",
       "            if (buttonGroup.hasChildNodes()) {\n",
       "                toolbar.appendChild(buttonGroup);\n",
       "            }\n",
       "            buttonGroup = document.createElement('div');\n",
       "            buttonGroup.classList = 'btn-group';\n",
       "            continue;\n",
       "        }\n",
       "\n",
       "        button = fig.buttons[name] = document.createElement('button');\n",
       "        button.classList = 'btn btn-default';\n",
       "        button.href = '#';\n",
       "        button.title = name;\n",
       "        button.innerHTML = '<i class=\"fa ' + image + ' fa-lg\"></i>';\n",
       "        button.addEventListener('click', on_click_closure(method_name));\n",
       "        button.addEventListener('mouseover', on_mouseover_closure(tooltip));\n",
       "        buttonGroup.appendChild(button);\n",
       "    }\n",
       "\n",
       "    if (buttonGroup.hasChildNodes()) {\n",
       "        toolbar.appendChild(buttonGroup);\n",
       "    }\n",
       "\n",
       "    // Add the status bar.\n",
       "    var status_bar = document.createElement('span');\n",
       "    status_bar.classList = 'mpl-message pull-right';\n",
       "    toolbar.appendChild(status_bar);\n",
       "    this.message = status_bar;\n",
       "\n",
       "    // Add the close button to the window.\n",
       "    var buttongrp = document.createElement('div');\n",
       "    buttongrp.classList = 'btn-group inline pull-right';\n",
       "    button = document.createElement('button');\n",
       "    button.classList = 'btn btn-mini btn-primary';\n",
       "    button.href = '#';\n",
       "    button.title = 'Stop Interaction';\n",
       "    button.innerHTML = '<i class=\"fa fa-power-off icon-remove icon-large\"></i>';\n",
       "    button.addEventListener('click', function (_evt) {\n",
       "        fig.handle_close(fig, {});\n",
       "    });\n",
       "    button.addEventListener(\n",
       "        'mouseover',\n",
       "        on_mouseover_closure('Stop Interaction')\n",
       "    );\n",
       "    buttongrp.appendChild(button);\n",
       "    var titlebar = this.root.querySelector('.ui-dialog-titlebar');\n",
       "    titlebar.insertBefore(buttongrp, titlebar.firstChild);\n",
       "};\n",
       "\n",
       "mpl.figure.prototype._remove_fig_handler = function (event) {\n",
       "    var fig = event.data.fig;\n",
       "    if (event.target !== this) {\n",
       "        // Ignore bubbled events from children.\n",
       "        return;\n",
       "    }\n",
       "    fig.close_ws(fig, {});\n",
       "};\n",
       "\n",
       "mpl.figure.prototype._root_extra_style = function (el) {\n",
       "    el.style.boxSizing = 'content-box'; // override notebook setting of border-box.\n",
       "};\n",
       "\n",
       "mpl.figure.prototype._canvas_extra_style = function (el) {\n",
       "    // this is important to make the div 'focusable\n",
       "    el.setAttribute('tabindex', 0);\n",
       "    // reach out to IPython and tell the keyboard manager to turn it's self\n",
       "    // off when our div gets focus\n",
       "\n",
       "    // location in version 3\n",
       "    if (IPython.notebook.keyboard_manager) {\n",
       "        IPython.notebook.keyboard_manager.register_events(el);\n",
       "    } else {\n",
       "        // location in version 2\n",
       "        IPython.keyboard_manager.register_events(el);\n",
       "    }\n",
       "};\n",
       "\n",
       "mpl.figure.prototype._key_event_extra = function (event, _name) {\n",
       "    var manager = IPython.notebook.keyboard_manager;\n",
       "    if (!manager) {\n",
       "        manager = IPython.keyboard_manager;\n",
       "    }\n",
       "\n",
       "    // Check for shift+enter\n",
       "    if (event.shiftKey && event.which === 13) {\n",
       "        this.canvas_div.blur();\n",
       "        // select the cell after this one\n",
       "        var index = IPython.notebook.find_cell_index(this.cell_info[0]);\n",
       "        IPython.notebook.select(index + 1);\n",
       "    }\n",
       "};\n",
       "\n",
       "mpl.figure.prototype.handle_save = function (fig, _msg) {\n",
       "    fig.ondownload(fig, null);\n",
       "};\n",
       "\n",
       "mpl.find_output_cell = function (html_output) {\n",
       "    // Return the cell and output element which can be found *uniquely* in the notebook.\n",
       "    // Note - this is a bit hacky, but it is done because the \"notebook_saving.Notebook\"\n",
       "    // IPython event is triggered only after the cells have been serialised, which for\n",
       "    // our purposes (turning an active figure into a static one), is too late.\n",
       "    var cells = IPython.notebook.get_cells();\n",
       "    var ncells = cells.length;\n",
       "    for (var i = 0; i < ncells; i++) {\n",
       "        var cell = cells[i];\n",
       "        if (cell.cell_type === 'code') {\n",
       "            for (var j = 0; j < cell.output_area.outputs.length; j++) {\n",
       "                var data = cell.output_area.outputs[j];\n",
       "                if (data.data) {\n",
       "                    // IPython >= 3 moved mimebundle to data attribute of output\n",
       "                    data = data.data;\n",
       "                }\n",
       "                if (data['text/html'] === html_output) {\n",
       "                    return [cell, data, j];\n",
       "                }\n",
       "            }\n",
       "        }\n",
       "    }\n",
       "};\n",
       "\n",
       "// Register the function which deals with the matplotlib target/channel.\n",
       "// The kernel may be null if the page has been refreshed.\n",
       "if (IPython.notebook.kernel !== null) {\n",
       "    IPython.notebook.kernel.comm_manager.register_target(\n",
       "        'matplotlib',\n",
       "        mpl.mpl_figure_comm\n",
       "    );\n",
       "}\n"
      ],
      "text/plain": [
       "<IPython.core.display.Javascript object>"
      ]
     },
     "metadata": {},
     "output_type": "display_data"
    },
    {
     "data": {
      "text/html": [
       "<img src=\"data:image/png;base64,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\" width=\"800\">"
      ],
      "text/plain": [
       "<IPython.core.display.HTML object>"
      ]
     },
     "metadata": {},
     "output_type": "display_data"
    },
    {
     "data": {
      "text/plain": [
       "<sympy.plotting.plot.Plot at 0x18fa3bfd610>"
      ]
     },
     "execution_count": 2,
     "metadata": {},
     "output_type": "execute_result"
    }
   ],
   "source": [
    "%matplotlib notebook\n",
    "# Script para plotar planos tridimensionais\n",
    "x, y, z = sp.symbols('x y z')\n",
    "plt.rcParams['figure.figsize'] = 8, 6\n",
    "\n",
    "# Digite aqui a equação geral do plano desejado\n",
    "z = x + y\n",
    "\n",
    "# Altere os limites abaixo para poder plotar a reta desejada\n",
    "sp.plotting.plot3d(z, xlim=(0,3), ylim=(0,20), zlim=(0,20))"
   ]
  },
  {
   "cell_type": "markdown",
   "id": "fcefdd95",
   "metadata": {
    "id": "fcefdd95"
   },
   "source": [
    "<b><p style=\"text-align:right\"> [Retornar ao topo](#Topo) </p> </b> "
   ]
  },
  {
   "cell_type": "markdown",
   "id": "dbdf9705",
   "metadata": {
    "id": "dbdf9705"
   },
   "source": [
    "## 2 - Derivadas <a id = \"Derivadas\"></a> \n",
    "\n",
    "As principais derivadas que precisamos saber são as seguintes:\n",
    "\n",
    "**a) Derivada da sigmóide** \n",
    "\n",
    "A função sigmoide $S(x)$ possui a seguinte forma:\n",
    "\n",
    "$$S(x) = \\frac{1}{1+e^{-x}}$$\n",
    "\n",
    "Portanto, sua derivada é:\n",
    "\n",
    "$$S'(x) = \\frac{e^{-x}}{(1+e^{-x})^2}$$\n",
    "\n",
    "**b) Derivada da tangente hiperbólica (tanh)**\n",
    "\n",
    "$$tanh(x) = \\frac{e^x - e^{-x}}{e^x + e^{-x}}$$\n",
    "\n",
    "$$tanh'(x) = 1 - tanh(x)^2 $$\n",
    "\n",
    "\n",
    "**c) Derivada da função ReLU**\n",
    "\n",
    "A função relu é dada por: $ReLU = max(0,x). Portanto:\n",
    "\n",
    "$$\\begin{align} \\text{para }x>0 → & ReLU = x → & ReLU' = 1 \\\\ \\text{para } x<0 → & ReLU = 0 → & ReLU' = 0  \\end{align}$$\n",
    "\n",
    "Ou seja, a derivada da função ReLU é a função degrau.\n",
    "\n",
    "Para outras derivadas, o código abaixo pode ser utilizado."
   ]
  },
  {
   "cell_type": "markdown",
   "id": "9ae7266b",
   "metadata": {
    "id": "9ae7266b"
   },
   "source": [
    "<b><p style=\"text-align:right\"> [Retornar ao topo](#Topo) </p> </b> "
   ]
  },
  {
   "cell_type": "code",
   "execution_count": 28,
   "id": "a418ba74",
   "metadata": {
    "id": "8c85e77a",
    "outputId": "883ca410-584e-4f95-e01d-df268edd69f0",
    "scrolled": false
   },
   "outputs": [
    {
     "name": "stdout",
     "output_type": "stream",
     "text": [
      "função:\n"
     ]
    },
    {
     "data": {
      "text/latex": [
       "$\\displaystyle 3 \\tanh{\\left(2 x \\right)}$"
      ],
      "text/plain": [
       "3*tanh(2*x)"
      ]
     },
     "metadata": {},
     "output_type": "display_data"
    },
    {
     "data": {
      "image/png": "[encoded data removed]",
      "text/plain": [
       "<Figure size 432x288 with 1 Axes>"
      ]
     },
     "metadata": {
      "needs_background": "light"
     },
     "output_type": "display_data"
    },
    {
     "name": "stdout",
     "output_type": "stream",
     "text": [
      "derivada:\n"
     ]
    },
    {
     "data": {
      "text/latex": [
       "$\\displaystyle 6 - 6 \\tanh^{2}{\\left(2 x \\right)}$"
      ],
      "text/plain": [
       "6 - 6*tanh(2*x)**2"
      ]
     },
     "metadata": {},
     "output_type": "display_data"
    },
    {
     "data": {
      "image/png": "[encoded data removed]",
      "text/plain": [
       "<Figure size 432x288 with 1 Axes>"
      ]
     },
     "metadata": {
      "needs_background": "light"
     },
     "output_type": "display_data"
    },
    {
     "data": {
      "text/plain": [
       "<sympy.plotting.plot.Plot at 0x2793fa6a8b0>"
      ]
     },
     "execution_count": 28,
     "metadata": {},
     "output_type": "execute_result"
    }
   ],
   "source": [
    "%matplotlib inline\n",
    "# Script para plotar funções e derivadas\n",
    "x, y, y1 = sp.symbols('x y ') #Se precisar de mais variáveis, inserir aqui. ex: x, y, z = sp.symbols('x y z')\n",
    "\n",
    "# Digite aqui a função que você deseja plotar. Não use numpy (np), use sympy (sp)\n",
    "#y = 1/(1+sp.exp(-x))\n",
    "y = 3*sp.tanh(2*x)\n",
    "\n",
    "# Derivada de y em função de x\n",
    "dy = y.diff(x)\n",
    "\n",
    "# Altere os limites abaixo para poder plotar a reta desejada\n",
    "print(\"função:\")\n",
    "display(y)\n",
    "sp.plotting.plot(y, xlim=(-5,5), ylim=(-5,5))\n",
    "print(\"derivada:\")\n",
    "display(dy)\n",
    "sp.plotting.plot(dy, xlim=(-5,5), ylim=(-8,8))"
   ]
  },
  {
   "cell_type": "markdown",
   "id": "201c6a9e",
   "metadata": {
    "id": "201c6a9e"
   },
   "source": [
    "### 2.1. Jacobiano <a id = \"Jacobiano\"></a> \n",
    "\n",
    "Dado um vetor função do tipo:\n",
    "\n",
    "$$F(x,y,z) = \\begin{bmatrix} f_1(x,y,z) \\\\ f_2(x,y,z) \\\\ f_3(x,y,z) \\end{bmatrix}$$\n",
    "\n",
    "A matriz jacobiana é a matriz de todas as derivadas de primeira ordem deste vetor função:\n",
    "\n",
    "$$\\text{J}_\\text{f} = \\begin{bmatrix} \n",
    "\\frac{\\partial f_1}{\\partial x} & \\frac{\\partial f_1}{\\partial y} & \\frac{\\partial f_1}{\\partial z} \\\\\n",
    "\\frac{\\partial f_2}{\\partial x} & \\frac{\\partial f_2}{\\partial y} & \\frac{\\partial f_2}{\\partial z} \\\\\n",
    "\\frac{\\partial f_3}{\\partial x} & \\frac{\\partial f_3}{\\partial y} & \\frac{\\partial f_3}{\\partial z}\n",
    "\\end{bmatrix}$$\n"
   ]
  },
  {
   "cell_type": "code",
   "execution_count": null,
   "id": "5c65f4b4",
   "metadata": {
    "id": "5c65f4b4",
    "outputId": "bd85a274-963f-43c6-fb90-f4d6df7fa9b0"
   },
   "outputs": [
    {
     "name": "stdout",
     "output_type": "stream",
     "text": [
      "Função:\n"
     ]
    },
    {
     "data": {
      "text/latex": [
       "$\\displaystyle \\left[\\begin{matrix}x^{2} y\\\\5 x + \\sin{\\left(y \\right)}\\end{matrix}\\right]$"
      ],
      "text/plain": [
       "Matrix([\n",
       "[      x**2*y],\n",
       "[5*x + sin(y)]])"
      ]
     },
     "metadata": {},
     "output_type": "display_data"
    },
    {
     "name": "stdout",
     "output_type": "stream",
     "text": [
      "Jacobiano:\n"
     ]
    },
    {
     "data": {
      "text/latex": [
       "$\\displaystyle \\left[\\begin{matrix}2 x y & x^{2}\\\\5 & \\cos{\\left(y \\right)}\\end{matrix}\\right]$"
      ],
      "text/plain": [
       "Matrix([\n",
       "[2*x*y,   x**2],\n",
       "[    5, cos(y)]])"
      ]
     },
     "metadata": {},
     "output_type": "display_data"
    }
   ],
   "source": [
    "# Script para calcular Jacobiano\n",
    "x, y = sp.symbols('x y')\n",
    "F = sp.Matrix([(x**2)*y, 5*x + sp.sin(y)])\n",
    "\n",
    "print('Função:')\n",
    "display(F)\n",
    "X = sp.Matrix(list(sp.ordered(F.free_symbols)))\n",
    "J = F.jacobian(X)\n",
    "print('Jacobiano:')\n",
    "display(J)"
   ]
  },
  {
   "cell_type": "markdown",
   "id": "e1576fab",
   "metadata": {},
   "source": [
    "$f(x) = x^2 + y + 4z^3$\n",
    "\n",
    "$\\frac{df}{dx} = 2x$\n",
    "\n",
    "$\\frac{\\partial f}{\\partial x},\\frac{\\partial f}{\\partial y}, \\frac{\\partial f}{\\partial z}$\n",
    "\n",
    "$$J = \\begin{bmatrix} \\frac{\\partial f}{\\partial x}  & \\frac{\\partial f}{\\partial y} & \\frac{\\partial f}{\\partial z} \\end{bmatrix}$$\n",
    "\n",
    "$$ \\begin{bmatrix} 2 & 1 \\\\ 5 & 1 \\end{bmatrix} * \\begin{bmatrix} 1 & 4 \\\\ 3 & 2 \\end{bmatrix}  $$\n"
   ]
  },
  {
   "cell_type": "markdown",
   "id": "d29bff76",
   "metadata": {
    "id": "d29bff76"
   },
   "source": [
    "<b><p style=\"text-align:right\"> [Retornar ao topo](#Topo) </p> </b> "
   ]
  },
  {
   "cell_type": "code",
   "execution_count": null,
   "id": "e9028593",
   "metadata": {
    "id": "e9028593",
    "outputId": "be7bfc53-7fac-4654-c6fe-594525427442"
   },
   "outputs": [
    {
     "data": {
      "text/latex": [
       "$\\displaystyle \\left[\\begin{matrix}2 & 2\\\\2 & 2\\end{matrix}\\right]$"
      ],
      "text/plain": [
       "Matrix([\n",
       "[2, 2],\n",
       "[2, 2]])"
      ]
     },
     "execution_count": 17,
     "metadata": {},
     "output_type": "execute_result"
    }
   ],
   "source": [
    "f = sp.Function('f')(x,y)\n",
    "sp.hessian(x**2 + 2*x*y + y**2, X)"
   ]
  },
  {
   "cell_type": "markdown",
   "id": "5c50486e",
   "metadata": {
    "id": "5c50486e"
   },
   "source": [
    "## 3 - Método de Newton-Raphson para estimativa de raízes <a id = \"Newton\"></a> \n",
    "\n",
    "O método de Newton-Raphson é derivado da série de Taylor truncada na primeira derivada. Ele é uma forma de estimar raízes que utiliza a inclinação da curva em um ponto $x_i$ (primeira derivada da curva no ponto $x_i$) para criar uma reta. Ao encontrar a interseção desta reta com o eixo $x$, o ponto de interseção passa a ser a nova estimativa da raíz $x_{i+1}$, conforme mostrado na figura abaixo.\n",
    "\n",
    "\n",
    "![Newton](Figuras/F4.png)\n",
    "\n",
    "\n",
    "A fórmula do método é dada por:\n",
    "\n",
    "$$x_1 = x_0 - \\frac{f(x_0)}{f'(x_0)}$$"
   ]
  },
  {
   "cell_type": "code",
   "execution_count": 21,
   "id": "05be5083",
   "metadata": {
    "id": "8c85e77a",
    "outputId": "883ca410-584e-4f95-e01d-df268edd69f0",
    "scrolled": false
   },
   "outputs": [
    {
     "name": "stdout",
     "output_type": "stream",
     "text": [
      "função:\n"
     ]
    },
    {
     "data": {
      "text/latex": [
       "$\\displaystyle - \\left(x - 3\\right)^{4}$"
      ],
      "text/plain": [
       "-(x - 3)**4"
      ]
     },
     "metadata": {},
     "output_type": "display_data"
    },
    {
     "data": {
      "image/png": "[encoded data removed]",
      "text/plain": [
       "<Figure size 432x288 with 1 Axes>"
      ]
     },
     "metadata": {
      "needs_background": "light"
     },
     "output_type": "display_data"
    },
    {
     "name": "stdout",
     "output_type": "stream",
     "text": [
      "derivada:\n"
     ]
    },
    {
     "data": {
      "text/latex": [
       "$\\displaystyle - 4 \\left(x - 3\\right)^{3}$"
      ],
      "text/plain": [
       "-4*(x - 3)**3"
      ]
     },
     "metadata": {},
     "output_type": "display_data"
    },
    {
     "data": {
      "image/png": "[encoded data removed]",
      "text/plain": [
       "<Figure size 432x288 with 1 Axes>"
      ]
     },
     "metadata": {
      "needs_background": "light"
     },
     "output_type": "display_data"
    },
    {
     "data": {
      "text/plain": [
       "<sympy.plotting.plot.Plot at 0x1bfed231f70>"
      ]
     },
     "execution_count": 21,
     "metadata": {},
     "output_type": "execute_result"
    }
   ],
   "source": [
    "%matplotlib inline\n",
    "# Script para plotar funções e derivadas\n",
    "x, y = sp.symbols('x y') #Se precisar de mais variáveis, inserir aqui. ex: x, y, z = sp.symbols('x y z')\n",
    "\n",
    "# Digite aqui a função que você deseja plotar. Não use numpy (np), use sympy (sp)\n",
    "y = -(x-3)**4\n",
    "\n",
    "# Derivada de y em função de x\n",
    "dy = y.diff(x)\n",
    "\n",
    "# Altere os limites abaixo para poder plotar a reta desejada\n",
    "print(\"função:\")\n",
    "display(y)\n",
    "sp.plotting.plot(y, xlim=(-5,5), ylim=(-5,5))\n",
    "print(\"derivada:\")\n",
    "display(dy)\n",
    "sp.plotting.plot(dy, xlim=(-5,5), ylim=(-8,80))"
   ]
  },
  {
   "cell_type": "code",
   "execution_count": 20,
   "id": "d2372c88",
   "metadata": {
    "colab": {
     "base_uri": "https://localhost:8080/"
    },
    "id": "d2372c88",
    "outputId": "0a41b95b-e49c-401b-b51e-0746b02f5890"
   },
   "outputs": [
    {
     "name": "stdout",
     "output_type": "stream",
     "text": [
      "x0 = 1.0 → f(x) = 32.0 e f'(x) =  -48.0\n",
      "x1 = 1.6667 → f(x) = 9.4815 e f'(x) =  -21.3333\n",
      "x2 = 2.1111 → f(x) = 2.8093 e f'(x) =  -9.4815\n",
      "x3 = 2.4074 → f(x) = 0.8324 e f'(x) =  -4.214\n"
     ]
    }
   ],
   "source": [
    "# Script para aplicação do método de Newton-Raphson\n",
    "x = sp.Symbol('x')\n",
    "f = -4*(x-3)**3 #Função\n",
    "df = f.diff(x)\n",
    "T = [1] # valor inicial\n",
    "print(\"x0 =\",np.round(float(T[0]),4), \"→ f(x) =\", np.round(float(f.subs(x,T[0])),4), \"e f'(x) = \", np.round(float(df.subs(x,T[0])),4))\n",
    "for i in range(3):\n",
    "    t = T[-1]-(f.subs(x,T[-1]))/df.subs(x,T[-1])\n",
    "    print(\"x{0:1d} =\".format(i+1),np.round(float(t),4), \"→ f(x) =\", np.round(float(f.subs(x,t)),4), \"e f'(x) = \", np.round(float(df.subs(x,t)),4))\n",
    "    T.append(t)"
   ]
  },
  {
   "cell_type": "markdown",
   "id": "47e9ddde",
   "metadata": {
    "id": "47e9ddde"
   },
   "source": [
    "<b><p style=\"text-align:right\"> [Retornar ao topo](#Topo) </p> </b> "
   ]
  },
  {
   "cell_type": "markdown",
   "id": "4921d11e",
   "metadata": {
    "id": "4921d11e"
   },
   "source": [
    "# II - Perceptron <a id = \"Perceptron\"></a> \n",
    "\n",
    "O Perceptron é o exemplo mais simples de rede neural. Dado um vetor de entrada X, que seja n-dimensional, o peceptron realiza uma soma ponderada, retornando um valor 0 ou 1, conforme mostrado na figura abaixo.\n",
    "\n",
    "![Perceptron](Figuras/F3.png)\n",
    "$\\\\ \\, \\\\ $\n",
    "O peso $w_0$ recebe o nome de \"bias\" ou viés. Ele sempre estará multiplicando uma constante, geralmente com o valor 1, que é agregada ao início do vetor das entradas. Desta maneira, a combinação da soma ponderada resulta na seguinte expressão:\n",
    "\n",
    "$$\\Sigma = 1 \\cdot w_0 + x_1 \\cdot w_1  + x_2 \\cdot w_2  + x_3 \\cdot w_3  + ... + x_{n-1} \\cdot w_{n-1}  + x_n \\cdot w_n $$\n",
    "\n",
    "e o resultado do percepron, dado pela função de ativação degrau será:\n",
    "\n",
    "$$\\begin{equation}\n",
    "  R = \n",
    "  \\left\\{ \n",
    "  \\begin{aligned}\n",
    "     & 0 & \\text{se }\\Sigma \\leq 0   \\\\\n",
    "     & 1 & \\text{caso contrário}\n",
    "  \\end{aligned}\n",
    "  \\right.\\,\n",
    "\\end{equation}$$\n",
    "\n",
    "\n",
    "## 1 - Treinamento do perceptron <a id = \"treinoPerceptron\"></a>\n",
    "\n",
    "O perceptron é treinado num estilo \"tentativa e erro\". A cada iteração (era), calcula-se a classe de cada um dos pontos e, em caso de erro, corrige-se os pesos. Essa correção ocorre para cada ponto, e não ao final da era. A magnitude dessa correção é definida pelo erro e pela taxa de acerto, de acordo com a seguinte fórmula.\n",
    "\n",
    "$$w' = w + r \\cdot \\text{erro} \\cdot x = \\begin{bmatrix} w_0 \\\\ \\vdots \\\\ w_n \\end{bmatrix} + r \\cdot \\text{erro} \\cdot  \\begin{bmatrix} x_0 \\\\ \\vdots \\\\ x_n \\end{bmatrix}$$\n",
    "\n",
    "O algoritmo abaixo reproduz uma etapa do treinamento do perceptron, dado um valor inicial para os pesos (w), uma entrada (x) com rótulo (y) e a taxa de aprendizado (r).\n",
    "\n",
    "<b><p style=\"text-align:right\"> [Retornar ao topo](#Topo) </p> </b> "
   ]
  },
  {
   "cell_type": "code",
   "execution_count": 2,
   "id": "fc7b47ba",
   "metadata": {
    "id": "fc7b47ba",
    "outputId": "f6f24b17-b91b-450b-a86e-737fb1bee4f8"
   },
   "outputs": [
    {
     "name": "stdout",
     "output_type": "stream",
     "text": [
      "Ponto 1 [1 0 0] -> Não atualiza pesos\n",
      "Ponto 2 [1 0 1] -> Atualiza pesos para  [0.  1.  0.5]\n",
      "Ponto 3 [1 1 0] -> Atualiza pesos para  [-0.5  1.   0. ]\n",
      "Ponto 4 [1 1 1] -> Atualiza pesos para  [-1.   0.5  0. ]\n",
      "Pesos finais =  [-0.5  1.   0.5]\n"
     ]
    },
    {
     "name": "stderr",
     "output_type": "stream",
     "text": [
      "<ipython-input-2-0a606a77f99a>:13: RuntimeWarning: divide by zero encountered in true_divide\n",
      "  f = lambda b: -(w[1]*b + w[0])/w[2]\n",
      "<ipython-input-2-0a606a77f99a>:13: RuntimeWarning: divide by zero encountered in true_divide\n",
      "  f = lambda b: -(w[1]*b + w[0])/w[2]\n"
     ]
    },
    {
     "data": {
      "image/png": "[encoded data removed]",
      "text/plain": [
       "<Figure size 864x288 with 5 Axes>"
      ]
     },
     "metadata": {
      "needs_background": "light"
     },
     "output_type": "display_data"
    }
   ],
   "source": [
    "# Algoritmo para calcular perceptron\n",
    "\n",
    "w = np.array([0,1,0.5]) # pesos iniciais\n",
    "x = np.array([[1,0,0],[1,0,1], [1,1,0], [1, 1, 1]]) # entradas. O primeiro valor é sempre 1, porque é o bias\n",
    "y = [0,0,0,1]                 # rótulo\n",
    "r = 0.5\n",
    "x_i = []\n",
    "y_i = []\n",
    "for i in range(len(x)):\n",
    "    x_i.append(x[i][1])\n",
    "    y_i.append(x[i][2])\n",
    "    \n",
    "f = lambda b: -(w[1]*b + w[0])/w[2]\n",
    "g = np.linspace(min(x.ravel()), max(x.ravel()), 10)\n",
    "fig,ax = plt.subplots(1,len(x)+1, figsize=(12,4))\n",
    "ax[0].plot(g,f(g),label = 'inicial')\n",
    "ax[0].scatter(x_i, y_i,c=y,cmap = 'brg')\n",
    "ax[0].set_title('Inicial')\n",
    "\n",
    "for i in range(len(x)):\n",
    "    s = np.dot(w,x[i])\n",
    "    print('Ponto', str(i+1), x[i] ,end = ' -> ')\n",
    "    if s> 0:\n",
    "        d = 1\n",
    "    else:\n",
    "        d = 0\n",
    "    \n",
    "    if y[i] != d:\n",
    "        print('Atualiza pesos para ', w)\n",
    "        w = w + r*(y[i]-d)*x[i]\n",
    "    else:\n",
    "        print('Não atualiza pesos')\n",
    "        \n",
    "    ax[i+1].scatter(x_i, y_i,c=y,cmap = 'brg')\n",
    "    ax[i+1].plot(g,f(g))\n",
    "    ax[i+1].set_title(str(i+1))\n",
    "\n",
    "print('Pesos finais = ', w)"
   ]
  },
  {
   "cell_type": "markdown",
   "id": "dfa1ed64",
   "metadata": {
    "id": "dfa1ed64"
   },
   "source": [
    "<b><p style=\"text-align:right\"> [Retornar ao topo](#Topo) </p> </b> "
   ]
  },
  {
   "cell_type": "markdown",
   "id": "942c7f7e",
   "metadata": {
    "id": "942c7f7e"
   },
   "source": [
    "# III - Regressão <a id=\"Reg\"> </a>\n",
    "\n",
    "Diferente do perceptron, a regressão por aprendizado de máquina não visa retornar um valor binário, mas sim um valor contínuo. O princípio básico, no entanto, não se altera muito, somente a função de ativação. Da mesma maneira, a ideia geral referente à atualização dos pesos mudará de acordo com o tipo de regressão que se deseja fazer.\n",
    "\n",
    "\n",
    "## 1. Regressão Linear <a id=\"RegLin\"> </a>\n",
    "\n",
    "A regressão linear tem por objetivo estimar a equação da curva ($y$) que melhor aproxima os pontos de uma dada função ($f$ ). Em geral, a regressão linear tem o formato:\n",
    "\n",
    "$$ y = \\beta_0 + \\beta_1 x_1  + \\beta_2 x_2 + ... + \\beta_n x_n$$\n",
    "\n",
    "Quando algum dos coeficientes $\\beta_i$, com $i\\geq 2$ existir ($\\beta_i \\neq 0$), teremos um caso de regressão linear múltipla, ou seja, em mais que duas dimensões. Além disso, é importante ressaltar que o fato da regressão ser chamada de linear deve-se ao fato dos coeficientes/parâmetros beta serem constantes ou multiplicarem variáveis independentes. Por isso, é possível que alguma das variáveis independentes (os $x_i$) esteja elevada a alguma potência, e ainda assim a regressão será linear. \n",
    "\n",
    "\n",
    "\n",
    "## 1.1. Erro Quadrático <a id=\"ErroQuad\"> </a>\n",
    "\n",
    "Na regressão Linear, busca-se minimizar o erro quadrático médio.\n",
    "\n",
    "$$Erro = \\sum{(y_i  -f(x_i))^2}$$\n",
    "\n",
    "onde, $f(x_i)$ é o valor real da função no ponto e $y_i$ é o valor calculado pela fórmula da regressão. Essa minimização se dá através da derivada, que deve ser igualada a zero.\n"
   ]
  },
  {
   "cell_type": "markdown",
   "id": "xnSvdBHMoEJ7",
   "metadata": {
    "id": "xnSvdBHMoEJ7"
   },
   "source": [
    "### 1.2. Exemplo de questão  com regressão linear <a id=\"ExemploRegLin\"> </a>\n",
    "\n",
    "$$X_1 =  1.0 → Y_1 = 0.9 \\text{ e } \\hat{Y}_1 = 1.5 \\cdot 1 = 1.5$$\n",
    "\n",
    "$$X_2 =  2.0 → Y_2 = 1.3 \\text{ e } \\hat{Y}_2 = 1.5 \\cdot 2 =  3 $$\n",
    "\n",
    "$$X_3 =  3.0 → Y_3 = 2.6 \\text{ e } \\hat{Y}_3 = 1.5 \\cdot 3 = 4.5 $$\n",
    "\n",
    "\n",
    "$$X_4 =  4.0 → Y_4 = 4.2 \\text{ e } \\hat{Y}_4 = 1.5 \\cdot 4 = 6 $$\n",
    "\n",
    "$$X_5 =  5.0 → Y_5 = 5.3 \\text{ e } \\hat{Y}_5 = 1.5 \\cdot 5 = 7.5 $$\n",
    "\n",
    "**a) Erro quadrático:**\n",
    "\n",
    "$$\\sum{(\\hat{Y}_i  -Y_i)^2} = (1.5-0.9)^2 + (3-1.3)^2 + (4.5 - 2.6)^2 + (6-4.2)^2 + (7.5-5.3)^2 =  14.94 $$\n",
    "\n",
    "\n",
    "**b) Derivada e atualização:**\n",
    "\n",
    "Ver código abaixo\n",
    "\n",
    "<b><p style=\"text-align:right\"> [Retornar ao topo](#Topo) </p> </b> "
   ]
  },
  {
   "cell_type": "code",
   "execution_count": 12,
   "id": "c6825457",
   "metadata": {
    "colab": {
     "base_uri": "https://localhost:8080/",
     "height": 686
    },
    "id": "c6825457",
    "outputId": "246ff4d1-a18e-4505-a584-4b464fdc12b5"
   },
   "outputs": [
    {
     "name": "stdout",
     "output_type": "stream",
     "text": [
      "Função:\n"
     ]
    },
    {
     "data": {
      "text/latex": [
       "$\\displaystyle \\left[\\begin{matrix}\\left(b + w x - y\\right)^{2}\\end{matrix}\\right]$"
      ],
      "text/plain": [
       "Matrix([[(b + w*x - y)**2]])"
      ]
     },
     "metadata": {},
     "output_type": "display_data"
    },
    {
     "name": "stdout",
     "output_type": "stream",
     "text": [
      "Jacobiano:\n"
     ]
    },
    {
     "data": {
      "text/latex": [
       "$\\displaystyle \\left[\\begin{matrix}2 x \\left(b + w x - y\\right)\\\\2 b + 2 w x - 2 y\\end{matrix}\\right]$"
      ],
      "text/plain": [
       "Matrix([\n",
       "[2*x*(b + w*x - y)],\n",
       "[2*b + 2*w*x - 2*y]])"
      ]
     },
     "metadata": {},
     "output_type": "display_data"
    },
    {
     "data": {
      "text/latex": [
       "$\\displaystyle \\left[\\begin{matrix}1.5\\\\0\\end{matrix}\\right]$"
      ],
      "text/plain": [
       "Matrix([\n",
       "[1.5],\n",
       "[  0]])"
      ]
     },
     "metadata": {},
     "output_type": "display_data"
    },
    {
     "name": "stdout",
     "output_type": "stream",
     "text": [
      "x =  1\n",
      "y =  0.9\n"
     ]
    },
    {
     "data": {
      "text/latex": [
       "$\\displaystyle \\left[\\begin{matrix}1.488\\\\-0.012\\end{matrix}\\right]$"
      ],
      "text/plain": [
       "Matrix([\n",
       "[ 1.488],\n",
       "[-0.012]])"
      ]
     },
     "metadata": {},
     "output_type": "display_data"
    },
    {
     "name": "stdout",
     "output_type": "stream",
     "text": [
      "x =  2\n",
      "y =  1.3\n"
     ]
    },
    {
     "data": {
      "text/latex": [
       "$\\displaystyle \\left[\\begin{matrix}1.42\\\\-0.046\\end{matrix}\\right]$"
      ],
      "text/plain": [
       "Matrix([\n",
       "[  1.42],\n",
       "[-0.046]])"
      ]
     },
     "metadata": {},
     "output_type": "display_data"
    },
    {
     "name": "stdout",
     "output_type": "stream",
     "text": [
      "x =  3\n",
      "y =  2.6\n"
     ]
    },
    {
     "data": {
      "text/latex": [
       "$\\displaystyle \\left[\\begin{matrix}1.306\\\\-0.084\\end{matrix}\\right]$"
      ],
      "text/plain": [
       "Matrix([\n",
       "[ 1.306],\n",
       "[-0.084]])"
      ]
     },
     "metadata": {},
     "output_type": "display_data"
    },
    {
     "name": "stdout",
     "output_type": "stream",
     "text": [
      "x =  4\n",
      "y =  4.2\n"
     ]
    },
    {
     "data": {
      "text/latex": [
       "$\\displaystyle \\left[\\begin{matrix}1.162\\\\-0.12\\end{matrix}\\right]$"
      ],
      "text/plain": [
       "Matrix([\n",
       "[1.162],\n",
       "[-0.12]])"
      ]
     },
     "metadata": {},
     "output_type": "display_data"
    },
    {
     "name": "stdout",
     "output_type": "stream",
     "text": [
      "x =  5\n",
      "y =  5.3\n"
     ]
    },
    {
     "data": {
      "text/latex": [
       "$\\displaystyle \\left[\\begin{matrix}0.942\\\\-0.164\\end{matrix}\\right]$"
      ],
      "text/plain": [
       "Matrix([\n",
       "[ 0.942],\n",
       "[-0.164]])"
      ]
     },
     "metadata": {},
     "output_type": "display_data"
    },
    {
     "name": "stdout",
     "output_type": "stream",
     "text": [
      "\n",
      "\n",
      " Valor final de L:  1.11886000000000\n"
     ]
    }
   ],
   "source": [
    "# Script para calcular Jacobiano\n",
    "w, b, x, y= sp.symbols('w b x y') # Substituir o valor das variáveis aqui\n",
    "\n",
    "L = sp.Matrix([(b + w*x - y)**2]) # Colocar equação em função das variáveis anteriormente definidas\n",
    "\n",
    "print('Função:')\n",
    "display(L)\n",
    "\n",
    "X = sp.Matrix([w, b]) \n",
    "J = L.jacobian(X)\n",
    "\n",
    "print('Jacobiano:')\n",
    "display(J.transpose())\n",
    "\n",
    "entradasx = [1, 2, 3, 4, 5]\n",
    "entradasy = [0.9, 1.3, 2.6, 4.2, 5.3]\n",
    "alpha = 0.01\n",
    "\n",
    "A = sp.Matrix([1.5, 0]).transpose()\n",
    "display(A.transpose())\n",
    "for i in range(len(entradasx)):\n",
    "    print('x = ', entradasx[i])\n",
    "    print('y = ',entradasy[i])\n",
    "    A = A - alpha*J.subs([(x,entradasx[i]), (y,entradasy[i]), (w, 1.5), (b,0)])\n",
    "    display(A.transpose())\n",
    "\n",
    "#display(A)\n",
    "R = 0\n",
    "for i in range(len(entradasx)):\n",
    "    R = R + L.subs([(b,-0.164), (w,0.942), (x,entradasx[i]), (y, entradasy[i])])[0]\n",
    "\n",
    "print('\\n\\n Valor final de L: ',R)"
   ]
  },
  {
   "cell_type": "markdown",
   "id": "da92ff08",
   "metadata": {
    "id": "ux8tIpC76zYU"
   },
   "source": [
    "## 2. Regressão Logística <a id=\"RegLog\"></a>\n",
    "\n",
    "A regressão logística é uma versão da regressão que utiliza como função de ativação a função sigmóide. Esta função caracteríza-se por possuir valores entre 0 e 1 e, por isso, a saída pode ser interpretada como sendo a probabilidade do valor de entrada pertencer à classe 1 no caso mais simples. Dessa forma, considerando somente duas classes, a função sigmóide possui as seguintes fórmulas:\n",
    "\n",
    "$$ \\sigma = \\frac{1}{1+e^{-x}} = \\frac{e^x}{1+e^x} = p(x_i) = \\mathbb{P}(Y_i =1|x_i)$$\n",
    "\n",
    "Essa igualdade é válida pois $$\\frac{1}{1+e^{-x}} = \\frac{1}{1+\\frac{1}{e^{x}}} = \\frac{1}{\\frac{e^{x} + 1}{e^{x}}} = \\frac{e^{x}}{e^{x} + 1}$$\n",
    "\n",
    "### 2.1. Verossimilhança <a id=\"Vero\"></a>\n",
    "\n",
    "Em estatística, a verossimilhança é a medida do quão provável e que certo valor (ou combinação de valores) represente a realidade. Desta maneira, dado uma determinada entrada do tipo: \n",
    "$$(x_1,y_1), (x_2,y_2), ... , (x_i, y_i), ..., (x_n, y_n)$$  \n",
    "podemos calcular a verossimilhança como sendo:\n",
    "\n",
    "$$L =  \\sigma(x_1) \\cdot \\sigma(x_2) \\cdot \\,\\,\\,... \\,\\,\\, \\cdot \\sigma(x_n) = \\prod \\mathbb{P}(Y = y_i|x_i)$$\n",
    "\n",
    "Sendo que para o caso de somente duas classes ($y_i = 0$ ou $y_i = 1$), essa fórmula pode ser reescrita como sendo:\n",
    "\n",
    "$$L = \\prod p(x_i)^{y_i}(1-p(x_i))^{1-y_i}$$\n",
    "\n",
    "\n",
    "Na regressão Logística, busca-se maximizar a verossimilhança. Isso é feito através da derivada da função de verossimilhança. Como esta função é um produto de probabilidades, essa derivada se torna muito complexa. Dessa forma, opta-se por maximizar a função Log-Verossimilhança, uma vez que o log de um produto é a soma dos logs e isso transforma o produtório complicado de derivar em uma soma que pode ser facilmente derivada.\n",
    "\n",
    "$$\\begin{align} l = & \\log{\\prod p(x_i)^{y_i}(1-p(x_i))^{1-y_i}} \\\\ l = &\\sum \\log{(p(x_i)^{y_i}(1-p(x_i))^{1-y_i})} \\\\ l = &\\sum \\log{(p(x_i)^{y_i})} + \\log{((1-p(x_i))^{1-y_i})} \\\\ l = & \\sum y_i\\log{(p(x_i))} + (1-y_i)\\log{((1-p(x_i)))} \\end{align}$$\n",
    "\n",
    "<b><p style=\"text-align:right\"> [Retornar ao topo](#Topo) </p> </b> "
   ]
  },
  {
   "cell_type": "code",
   "execution_count": 16,
   "id": "b910b417",
   "metadata": {
    "id": "5c65f4b4",
    "outputId": "bd85a274-963f-43c6-fb90-f4d6df7fa9b0"
   },
   "outputs": [
    {
     "name": "stdout",
     "output_type": "stream",
     "text": [
      "Função:\n"
     ]
    },
    {
     "data": {
      "text/latex": [
       "$\\displaystyle \\left[\\begin{matrix}b y + w x y - \\log{\\left(e^{b + w x} + 1 \\right)}\\end{matrix}\\right]$"
      ],
      "text/plain": [
       "Matrix([[b*y + w*x*y - log(exp(b + w*x) + 1)]])"
      ]
     },
     "metadata": {},
     "output_type": "display_data"
    },
    {
     "name": "stdout",
     "output_type": "stream",
     "text": [
      "Jacobiano:\n"
     ]
    },
    {
     "data": {
      "text/latex": [
       "$\\displaystyle \\left[\\begin{matrix}y - \\frac{e^{b + w x}}{e^{b + w x} + 1}\\\\x y - \\frac{x e^{b + w x}}{e^{b + w x} + 1}\\end{matrix}\\right]$"
      ],
      "text/plain": [
       "Matrix([\n",
       "[    y - exp(b + w*x)/(exp(b + w*x) + 1)],\n",
       "[x*y - x*exp(b + w*x)/(exp(b + w*x) + 1)]])"
      ]
     },
     "metadata": {},
     "output_type": "display_data"
    }
   ],
   "source": [
    "# Script para calcular Jacobiano\n",
    "b, w, x, y = sp.symbols('b w x y')\n",
    "F = sp.Matrix([b*y + w*x*y -sp.log(1+sp.exp(b+w*x))])\n",
    "\n",
    "print('Função:')\n",
    "display(F)\n",
    "X = sp.Matrix([b, w])\n",
    "J = F.jacobian(X)\n",
    "print('Jacobiano:')\n",
    "display(J.transpose())"
   ]
  },
  {
   "cell_type": "markdown",
   "id": "afa759bc",
   "metadata": {
    "id": "afa759bc"
   },
   "source": [
    "\n",
    "<b><p style=\"text-align:right\"> [Retornar ao topo](#Topo) </p> </b> "
   ]
  },
  {
   "cell_type": "markdown",
   "id": "91f97b60",
   "metadata": {
    "id": "91f97b60"
   },
   "source": [
    "# IV - Introdução às Redes Neurais <a id=\"redesNeurais\"> </a>\n",
    "\n",
    "\n",
    "\n",
    "Questão 1 -\n",
    "\n",
    "$$W^{[1]} = \\begin{bmatrix} w_{11} & w_{21} \\\\ w_{12} & w_{22} \\\\ w_{13} & w_{23} \\\\ w_{14} & w_{24}\\end{bmatrix}$$\n",
    "\n",
    "$$Z =  \\begin{bmatrix} w_{11} & w_{21} \\\\ w_{12} & w_{22} \\\\ w_{13} & w_{23} \\\\ w_{14} & w_{24}\\end{bmatrix} \\begin{bmatrix} x_1 \\\\ x_2 \\end{bmatrix} + \\begin{bmatrix} b_1 \\\\ b_2 \\\\ b_3 \\\\ b_4\\end{bmatrix} = \\begin{bmatrix} a_1 \\\\ a_2 \\\\ a_3 \\\\ a_4\\end{bmatrix}$$\n",
    "\n",
    "\n",
    "A dimensão dos pesos é dada por (nº de pontos na camada da frente) x (nº de pontos na camada de trás) / linhas x  colunas\n",
    "\n",
    "$$A^{[2]} = w_1 \\cdot a_1 + w_2 \\cdot a_2 + w_3 \\cdot a_3 + w_4 \\cdot a_4 = W^{[2]} \\cdot \\begin{bmatrix} a_1 \\\\ a_2 \\\\ a_3 \\\\ a_4\\end{bmatrix} $$\n",
    "\n",
    "<b><p style=\"text-align:right\"> [Retornar ao topo](#Topo) </p> </b> "
   ]
  },
  {
   "cell_type": "code",
   "execution_count": null,
   "id": "d99ff2be",
   "metadata": {
    "id": "d99ff2be"
   },
   "outputs": [],
   "source": [
    "# Algoritmo"
   ]
  },
  {
   "cell_type": "markdown",
   "id": "72b60b59",
   "metadata": {
    "id": "72b60b59"
   },
   "source": [
    "$$ S = ReLU(w_{b_1} \\cdot b_1 + w_{b_2} \\cdot b_2) )$$\n",
    "\n",
    "$$ b_1 = \\sigma( w_{b_1a_1} \\cdot a_1 + w_{b_1a_2} \\cdot a_2) $$\n",
    "\n",
    "$$ b_2 = \\tanh( w_{b_2a_1} \\cdot a_1 + w_{b_2a_2} \\cdot a_2) $$\n",
    "\n",
    "$$ a_1 = \\sigma( w_{a_1x_1} \\cdot x_1 + w_{a_1x_2} \\cdot x_2) $$\n",
    "\n",
    "$$ a_2 = \\tanh( w_{a_2x_1} \\cdot x_1 + w_{a_2x_2} \\cdot x_2) $$\n",
    "\n",
    "**VOLTANDO**\n",
    "\n",
    "$$ b_1 = \\sigma( w_{b_1a_1} \\cdot \\sigma( w_{a_1x_1} \\cdot x_1 + w_{a_1x_2} \\cdot x_2) + w_{b_1a_2} \\cdot \\tanh( w_{a_2x_1} \\cdot x_1 + w_{a_2x_2} \\cdot x_2)) $$\n",
    "\n",
    "$$ b_2 = \\tanh( w_{b_2a_1} \\cdot \\sigma( w_{a_1x_1} \\cdot x_1 + w_{a_1x_2} \\cdot x_2) + w_{b_2a_2} \\cdot \\tanh( w_{a_2x_1} \\cdot x_1 + w_{a_2x_2} \\cdot x_2)) $$\n",
    "\n",
    "$$ S = ReLU(w_{b_1} \\cdot \\sigma( w_{b_1a_1} \\cdot \\sigma( w_{a_1x_1} \\cdot x_1 + w_{a_1x_2} \\cdot x_2) + w_{b_1a_2} \\cdot \\tanh( w_{a_2x_1} \\cdot x_1 + w_{a_2x_2} \\cdot x_2)) + w_{b_2} \\cdot \\tanh( w_{b_2a_1} \\cdot \\sigma( w_{a_1x_1} \\cdot x_1 + w_{a_1x_2} \\cdot x_2) + w_{b_2a_2} \\cdot \\tanh( w_{a_2x_1} \\cdot x_1 + w_{a_2x_2} \\cdot x_2))))$$\n",
    "\n",
    "<b><p style=\"text-align:right\"> [Retornar ao topo](#Topo) </p> </b> "
   ]
  },
  {
   "cell_type": "markdown",
   "id": "922c6b64",
   "metadata": {},
   "source": [
    "<b><p style=\"text-align:center\"> Tabela do XOR </p> </b> \n",
    "\n",
    "| x | y | R |\n",
    "|:-:|:-:|:-:|\n",
    "| 0 | 0 | 0 |\n",
    "| 0 | 1 | 1 |\n",
    "| 1 | 0 | 1 |\n",
    "| 1 | 1 | 0 |\n",
    "\n",
    "\n",
    "\n",
    "$$R^{[1]}_1 = \\max(0, w_1 \\cdot x_1 + w_2 \\cdot x_2) $$\n",
    "\n",
    "$$R^{[1]}_2 = \\max(0, w_1 \\cdot x_1 + w_2 \\cdot x_2) $$\n",
    "\n",
    "\n",
    "$$R^{[2]} = \\max(0, w_1 \\cdot R^{[1]}_1 + w_2 \\cdot R^{[1]}_2) $$\n",
    "\n",
    "\n"
   ]
  },
  {
   "cell_type": "markdown",
   "id": "14ab9dea",
   "metadata": {
    "id": "14ab9dea"
   },
   "source": [
    "# V - Grafos Computacionais e Back-propagation<a id=\"backProp\"> </a>\n",
    "\n",
    "<b><p style=\"text-align:right\"> [Retornar ao topo](#Topo) </p> </b> "
   ]
  },
  {
   "cell_type": "code",
   "execution_count": null,
   "id": "a512db17",
   "metadata": {
    "id": "a512db17"
   },
   "outputs": [],
   "source": [
    "# Algoritmo"
   ]
  },
  {
   "cell_type": "markdown",
   "id": "49e30e04",
   "metadata": {
    "id": "49e30e04"
   },
   "source": [
    "##  Resumo: Grafos e Back-propagation <a id = \"Res4\"></a> \n",
    "\n",
    "<b><p style=\"text-align:right\"> [Retornar ao topo](#Topo) </p> </b> "
   ]
  },
  {
   "cell_type": "markdown",
   "id": "78609f25",
   "metadata": {
    "id": "78609f25"
   },
   "source": [
    "# VI - Funções de ativação e Algoritmos de otimização <a id=\"AtivaOtimiza\"> </a>\n",
    "\n",
    "<b><p style=\"text-align:right\"> [Retornar ao topo](#Topo) </p> </b> "
   ]
  },
  {
   "cell_type": "markdown",
   "id": "8adeab5e",
   "metadata": {},
   "source": [
    "# 1. Subida\\Descida de gradiente (SGA)  <a id=\"SGA\"> </a>\n",
    "\n",
    "É um método para maximização(no caso da subida) ou minimização(no caso da descida) de uma função. Para subida de gradiente, utilizamos o **+** na equação abaixo. Já para a descida, utilizamos o **$-$**. \n",
    "\n",
    "$$x_1 = x_0 \\pm \\alpha \\cdot \\nabla f $$\n",
    "\n",
    "$$x_1 = x_0 \\pm \\alpha \\cdot  \\frac{\\partial f}{\\partial x}$$\n",
    "\n",
    "\n",
    "**Exemplo (Questão 10 da lista)**\n"
   ]
  },
  {
   "cell_type": "code",
   "execution_count": 25,
   "id": "2680b2f8",
   "metadata": {},
   "outputs": [
    {
     "name": "stdout",
     "output_type": "stream",
     "text": [
      "x0 = 1.0 → f(x) = -16.0 e f'(x) =  32.0\n",
      "x1 = 1.32 → f(x) = -7.9659 e f'(x) =  18.9665\n",
      "x2 = 1.5097 → f(x) = -4.9333 e f'(x) =  13.2407\n",
      "x3 = 1.6421 → f(x) = -3.4002 e f'(x) =  10.0159\n"
     ]
    }
   ],
   "source": [
    "# Algoritmo da subida ou descida de gradiente\n",
    "x = sp.Symbol('x')\n",
    "f = -(x-3)**4\n",
    "df = f.diff(x)\n",
    "T = [1] # valor inicial\n",
    "a = 0.01 # taxa de aprendizado\n",
    "print(\"x0 =\",np.round(float(T[-1]),4), \"→ f(x) =\", np.round(float(f.subs(x,T[-1])),4), \"e f'(x) = \", np.round(float(df.subs(x,T[-1])),4))\n",
    "for i in range(3):\n",
    "    t = T[-1]+ a * df.subs(x,T[-1])\n",
    "    print(\"x{0:1d} =\".format(i+1),np.round(float(t),4), \"→ f(x) =\", np.round(float(f.subs(x,t)),4), \"e f'(x) = \", np.round(float(df.subs(x,t)),4))\n",
    "    T.append(t)\n",
    "   "
   ]
  },
  {
   "cell_type": "markdown",
   "id": "ef90a821",
   "metadata": {},
   "source": [
    "## 2. Ajuste de modelos\n",
    "\n",
    "\n",
    "Quando um modelo tem baixa complexidade/capacidade (tende a uma linha reta), ele passa a ser ruim por conta do fato dele não aproximar bem a função. Dessa forma, esses modelos tendem a apresentar o problema chamado de Underfitting. Isso signficia que precisamos treinar o modelo por mais eras, fornecer mais dados de treinamento ou trocar nossa hipótese, de maneira que aumentemos a complexidade do modelo (Exemplo: passar de hipótese de função linear para cúbica).\n",
    "\n",
    "Na questão 1 de Ajuste de modelos, o modelo da esquerda é ruim pois sofre deste problema de Underfitting.\n",
    "\n",
    "\n",
    "Quando nosso modelo tem uma complexidade exacerbada para o problema que estamos tratando, este passa a \"memorizar\" os dados de treino, fazendo com que ele tenha um viés muito baixo, porém tenda a sair muito mal em novos dados. Isso se traduz em um modelo com baixo erro de treino, porém alto erro de validação e teste. Para corrigir este problema, é interessante aumentar nosso conjunto de dados, ou utilizar uma técnica de regularização (L1, L2, early stopping ou dropout), ou reduzir a complexidade da função hipotética.\n",
    "\n",
    "Na questão 1 de ajuste de modelos, o modelo da direita apresenta overfitting, por isso é um modelo ruim.\n",
    "\n",
    "Viés - Captura o quão distante a nossa função é da função que gerou os dados. Quando um modelo está sofrendo overfitting, ele tende a possuir um viés baixo. O viés está mais associado ao treino.\n",
    "\n",
    "\n",
    "Variância - Está relacionada a quanto a nossa função é sensível a novos dados. Ela está relacionada ao teste. Modelos em overfitting tendem a popssuir variância alta.\n",
    "\n",
    "\n",
    "\n",
    "O termo Bias-variance trade-off se refere ao fato de que aumentando-se o bias, reduz-se a variância, e vice-versa. \n",
    "\n",
    "$$Err(x) = \\text{Bias}^2 + \\text{Variance}^2 + \\text{Irreducible Error}$$"
   ]
  },
  {
   "cell_type": "markdown",
   "id": "f5414289",
   "metadata": {},
   "source": []
  },
  {
   "cell_type": "code",
   "execution_count": null,
   "id": "8f27d81e",
   "metadata": {},
   "outputs": [],
   "source": []
  },
  {
   "cell_type": "markdown",
   "id": "8c8078bb",
   "metadata": {},
   "source": [
    "## 3. BackPropagation\n",
    "\n",
    "O backpropagation é um procedimento para atualização dos pesos que se inicia nas camadas pmais próximas do output e atualiza os pesos de trás para frente. Por isso o nome.\n",
    "\n",
    "\n",
    "\n",
    "Exercício 3 de regularização.\n",
    "\n",
    "a) chamando a saída de y:\n",
    "\n",
    "Sem regularização\n",
    "\n",
    "$$ W_1^{[1]} = W_0^{[1]} - \\alpha*\\nabla J_{w^{[1]}}$$\n",
    "\n",
    "$$W_1^{[1]} = \\begin{bmatrix} 1 & 2 \\\\ 2 & 3 \\end{bmatrix} - 0.1 \\cdot \\begin{bmatrix} -10 & 5 \\\\ 1 & 2.5 \\end{bmatrix} = \\begin{bmatrix} 1 + 1 & 2 - 0.5 \\\\ 2 - 0.1 & 3 - 0.25 \\end{bmatrix} = \\begin{bmatrix} 2 & 1.5 \\\\ 1.9 & 2.75 \\end{bmatrix}$$\n",
    "\n",
    "\n",
    "Com regularização:\n",
    "\n",
    "$$ W_1^{[1]} = W_0^{[1]} - \\alpha*\\nabla J_{w^{[1]}} - 2 \\cdot \\alpha \\cdot\\lambda \\cdot W_1^{[1]}$$\n",
    "\n",
    "\n",
    "$$W_1^{[1]} = \\begin{bmatrix} 1 & 2 \\\\ 2 & 3 \\end{bmatrix} - 0.1 \\cdot \\begin{bmatrix} -10 & 5 \\\\ 1 & 2.5 \\end{bmatrix} - 2 \\cdot 0.1 \\cdot 0.5 \\cdot \\begin{bmatrix} 1 & 2 \\\\ 2 & 3 \\end{bmatrix} = \\begin{bmatrix} 1 + 1 - 0.1 & 2 - 0.5 - 0.2 \\\\ 2 - 0.1 - 0.2 & 3 - 0.25 - 0.3 \\end{bmatrix} = \\begin{bmatrix} 1.9 & 1.3 \\\\ 1.7 & 2.45 \\end{bmatrix}$$\n",
    "\n"
   ]
  },
  {
   "cell_type": "code",
   "execution_count": null,
   "id": "b3c59601",
   "metadata": {},
   "outputs": [],
   "source": []
  },
  {
   "cell_type": "markdown",
   "id": "851dd266",
   "metadata": {
    "id": "851dd266"
   },
   "source": [
    "##  Resumo: Funções de ativação e Algoritmos de otimização<a id = \"Res5\"></a> \n",
    "\n",
    "\n",
    "$$\\begin{equation} \\label{eq1}\n",
    "\\begin{split}\n",
    "\\mathbb{F}_Y(y) &= \\mathbb{P}(Y \\leq y) = \\mathbb{P}(h(X) \\leq y) \\\\\n",
    " & = \\mathbb{P}(X \\in \\{x \\, \\,tal\\,\\, que\\,\\, h(x) \\leq y\\}) \\\\\n",
    " & = \\mathbb{P}(X \\in \\{x \\,\\, tal\\,\\, que \\,\\, x \\leq h^{-1}(y)\\}) \\\\\n",
    " & = \\mathbb{F}_X(h^{-1}(y))\n",
    "\\end{split}\n",
    "\\end{equation}$$\n",
    "\n",
    "\n",
    "<b><p style=\"text-align:right\"> [Retornar ao topo](#Topo) </p> </b> "
   ]
  },
  {
   "cell_type": "markdown",
   "id": "a2a92d1d",
   "metadata": {
    "id": "8a727361",
    "outputId": "bb9f570c-c354-4940-b861-bdad1f5d2ba8"
   },
   "source": [
    "**(aula 3 Questão 5 da lista)**\n",
    "\n",
    "![Image](Figuras/F5.png)\n",
    "\n",
    "\n",
    "**Primeira camada**\n",
    "$$ a_1 = (w_{a_1x_1} \\cdot x_1 + w_{a_1x_2} \\cdot x_2) $$\n",
    "\n",
    "$$ a_2 = (w_{a_2x_1} \\cdot x_1 + w_{a_2x_2} \\cdot x_2) $$\n",
    "\n",
    "**Substituindo na segunda camada**\n",
    "\n",
    "$$ b_1 = w_{b_1a_1} \\cdot w_{a_1x_1} \\cdot x_1 + w_{b_1a_1} \\cdot w_{a_1x_2} \\cdot x_2 + w_{b_1a_2} \\cdot w_{a_2x_1} \\cdot x_1 + w_{b_1a_2} \\cdot w_{a_2x_2} \\cdot x_2 $$\n",
    "\n",
    "$$ b_2 = w_{b_2a_1} \\cdot w_{a_1x_1} \\cdot x_1 + w_{b_2a_1} \\cdot w_{a_1x_2} \\cdot x_2 + w_{b_2a_2} \\cdot w_{a_2x_1} \\cdot x_1 + w_{b_2a_2} \\cdot w_{a_2x_2} \\cdot x_2 $$\n",
    "\n",
    "**renomeando** $w_{b_1a_1} \\cdot w_{a_1x_1} = w_{11}$, $w_{b_1a_1} \\cdot w_{a_1x_2} = w_{12}$, $ w_{b_1a_2} \\cdot w_{a_2x_1} = w_{21}$, $w_{b_1a_2} \\cdot w_{a_2x_2} = w_{22}$\n",
    "\n",
    "$$ b_1 = w_{11} \\cdot x_1 +\\cdot w_{12} \\cdot x_2 + w_{21} \\cdot x_1 + w_{22} \\cdot x_2 $$\n",
    "\n",
    "$$ b_2 = w_{31} \\cdot x_1 + w_{32} \\cdot x_2 + w_{41} \\cdot x_1 + w_{42} \\cdot x_2 $$\n",
    "\n",
    "\n",
    "**Substituindo na última camada**\n",
    "$$ S = w_{11} \\cdot x_1 +\\cdot w_{12} \\cdot x_2 + w_{21} \\cdot x_1 + w_{22} \\cdot x_2 \\cdot x_1 + w_{a_1x_2} \\cdot x_2) + w_{b_1a_2} \\cdot (w_{a_2x_1} \\cdot x_1 + w_{a_2x_2} \\cdot x_2)) + w_{b_2} \\cdot ( w_{b_2a_1} \\cdot (w_{a_1x_1} \\cdot x_1 + w_{a_1x_2} \\cdot x_2) + w_{b_2a_2} \\cdot (w_{a_2x_1} \\cdot x_1 + w_{a_2x_2} \\cdot x_2))) )$$"
   ]
  },
  {
   "cell_type": "code",
   "execution_count": null,
   "id": "d86bde4f",
   "metadata": {
    "id": "d86bde4f"
   },
   "outputs": [],
   "source": []
  }
 ],
 "metadata": {
  "colab": {
   "collapsed_sections": [],
   "name": "Resumo_1.ipynb",
   "provenance": []
  },
  "kernelspec": {
   "display_name": "Python 3",
   "language": "python",
   "name": "python3"
  },
  "language_info": {
   "codemirror_mode": {
    "name": "ipython",
    "version": 3
   },
   "file_extension": ".py",
   "mimetype": "text/x-python",
   "name": "python",
   "nbconvert_exporter": "python",
   "pygments_lexer": "ipython3",
   "version": "3.8.6"
  }
 },
 "nbformat": 4,
 "nbformat_minor": 5
}
