{
 "cells": [
  {
   "cell_type": "markdown",
   "id": "bb470a27",
   "metadata": {
    "id": "bb470a27"
   },
   "source": [
    "<a id=\"Topo\"></a><b><p style=\"text-align:center;font-size:24px\">Algoritmos de Aprendizado Profundo </p> </b> \n",
    "<p style=\"text-align:center;font-size:6px\"></p>\n",
    "<b><p style=\"text-align:center;font-size:16px\"> Resumo - Módulo 2 </p> </b>\n",
    "\n",
    "---\n",
    "\n",
    "<b><p style=\"text-align:center;font-size:24px\"> Índice </p> </b> \n",
    "\n",
    "**[I - Redes Convolucionais](#CNN)**  \n",
    "&nbsp;&nbsp;&nbsp;&nbsp;&nbsp;&nbsp;**[1. Introdução](#Intro)**  \n",
    "&nbsp;&nbsp;&nbsp;&nbsp;&nbsp;&nbsp;&nbsp;&nbsp;&nbsp;&nbsp;&nbsp;&nbsp;**[1.1. ](#)**   \n",
    "&nbsp;&nbsp;&nbsp;&nbsp;&nbsp;&nbsp;**[2. Convoluções](#Conv)**  \n",
    "&nbsp;&nbsp;&nbsp;&nbsp;&nbsp;&nbsp;&nbsp;&nbsp;&nbsp;&nbsp;&nbsp;&nbsp;**[2.1. A operação de convolução](#Convolucao)**    \n",
    "&nbsp;&nbsp;&nbsp;&nbsp;&nbsp;&nbsp;&nbsp;&nbsp;&nbsp;&nbsp;&nbsp;&nbsp;**[2.2. Função de ativação ReLU](#ReLU)**    \n",
    "&nbsp;&nbsp;&nbsp;&nbsp;&nbsp;&nbsp;&nbsp;&nbsp;&nbsp;&nbsp;&nbsp;&nbsp;**[2.3. Filtros](#Filtros)**    \n",
    "&nbsp;&nbsp;&nbsp;&nbsp;&nbsp;&nbsp;**[3. Padding](#Padding)**  \n",
    "&nbsp;&nbsp;&nbsp;&nbsp;&nbsp;&nbsp;&nbsp;&nbsp;&nbsp;&nbsp;&nbsp;&nbsp;**[3.1. ](#)**    \n",
    "&nbsp;&nbsp;&nbsp;&nbsp;&nbsp;&nbsp;**[4. Pooling](#Pooling)**  \n",
    "&nbsp;&nbsp;&nbsp;&nbsp;&nbsp;&nbsp;&nbsp;&nbsp;&nbsp;&nbsp;&nbsp;&nbsp;**[4.1. ](#)**  \n",
    "&nbsp;&nbsp;&nbsp;&nbsp;&nbsp;&nbsp;**[5. Arquitetura típica de uma CNN ](#Arquitetura)**    \n",
    "\n",
    "**[II - Modificações das CNN](#Mods)**  \n",
    "&nbsp;&nbsp;&nbsp;&nbsp;&nbsp;&nbsp;**[1. Dilated](#Dilated)**   \n",
    "&nbsp;&nbsp;&nbsp;&nbsp;&nbsp;&nbsp;&nbsp;&nbsp;&nbsp;&nbsp;&nbsp;&nbsp;**[1.1. ](#)**   \n",
    "&nbsp;&nbsp;&nbsp;&nbsp;&nbsp;&nbsp;**[2. Separate](#Separate)**   \n",
    "&nbsp;&nbsp;&nbsp;&nbsp;&nbsp;&nbsp;&nbsp;&nbsp;&nbsp;&nbsp;&nbsp;&nbsp;**[2.1. ](#)**    \n",
    "&nbsp;&nbsp;&nbsp;&nbsp;&nbsp;&nbsp;**[3. Decompositions](#Decomposition)**   \n",
    "&nbsp;&nbsp;&nbsp;&nbsp;&nbsp;&nbsp;&nbsp;&nbsp;&nbsp;&nbsp;&nbsp;&nbsp;**[3.1. ](#)**     \n",
    "\n",
    "**[III - Classificação com arquiteturas profundas](#Classificacao)**  \n",
    "&nbsp;&nbsp;&nbsp;&nbsp;&nbsp;&nbsp;**[1. ](#)**  \n",
    "&nbsp;&nbsp;&nbsp;&nbsp;&nbsp;&nbsp;&nbsp;&nbsp;&nbsp;&nbsp;&nbsp;&nbsp;**[1.1. ](#)**   \n",
    "&nbsp;&nbsp;&nbsp;&nbsp;&nbsp;&nbsp;**[2. ](#)**  \n",
    "&nbsp;&nbsp;&nbsp;&nbsp;&nbsp;&nbsp;&nbsp;&nbsp;&nbsp;&nbsp;&nbsp;&nbsp;**[2.1. ](#)**      \n",
    "\n",
    "\n",
    "**[IV - CNNs na prática](#Pratica)**  \n",
    "&nbsp;&nbsp;&nbsp;&nbsp;&nbsp;&nbsp;**[1. ](#00)**  \n",
    "&nbsp;&nbsp;&nbsp;&nbsp;&nbsp;&nbsp;&nbsp;&nbsp;&nbsp;&nbsp;&nbsp;&nbsp;**[1.1. ](#00)**  \n",
    "&nbsp;&nbsp;&nbsp;&nbsp;&nbsp;&nbsp;&nbsp;&nbsp;&nbsp;&nbsp;&nbsp;&nbsp;**[1.2. ](#00)**  \n",
    "&nbsp;&nbsp;&nbsp;&nbsp;&nbsp;&nbsp;&nbsp;&nbsp;&nbsp;&nbsp;&nbsp;&nbsp;**[1.3. ](#00)**  \n",
    "&nbsp;&nbsp;&nbsp;&nbsp;&nbsp;&nbsp;&nbsp;&nbsp;&nbsp;&nbsp;&nbsp;&nbsp;**[1.4. ](#00)**  \n",
    "\n",
    "\n",
    "**[Lista de exercícios](#Lista)**  \n",
    "\n",
    "---"
   ]
  },
  {
   "cell_type": "markdown",
   "id": "5de2f01c",
   "metadata": {},
   "source": [
    "Princípio de Machine Learning:\n",
    "Se você vai treinar um modelo em cima de dados que seguem uma dada distribuição de features, idealmente você deveria usar esse modelo para dados com a mesma distribuição. Se mudar essa distribuição, seu modelo não vai funcionar tão bem quanto para os dados de treino."
   ]
  },
  {
   "cell_type": "code",
   "execution_count": 1,
   "id": "2cc1cd35",
   "metadata": {
    "id": "2cc1cd35"
   },
   "outputs": [],
   "source": [
    "from scipy import stats\n",
    "from scipy.ndimage.filters import convolve\n",
    "from scipy.signal import convolve2d\n",
    "import numpy as np\n",
    "import pandas as pd\n",
    "import sympy as sp\n",
    "import matplotlib.pyplot as plt\n",
    "from IPython.display import display"
   ]
  },
  {
   "cell_type": "markdown",
   "id": "ba3a97ce",
   "metadata": {
    "id": "ba3a97ce"
   },
   "source": [
    "# I - Redes convolucionais <a id = \"CNN\"></a> \n",
    "\n",
    "## 1 - Introdução <a id = \"Intro\"></a> \n",
    "\n",
    "### 1.1.  Alguumas das motivações para CNNs <a id = \"\"></a> \n",
    "\n",
    "Quando pensamos em redes neurais, o exemplo mais simples que podemos imaginar é o perceptron multicamadas, ou MLP. Nele, todos os nós de uma dada camada se ligam a todos os nós da camada posterior, e por isso esta rede é chamada de densa ou totalmente conectada. Isso resulta num alto número de parâmetros, mesmo para redes pequenas. Quando observamos a figura abaixo, vemos que da camada de entrada (azul) para a primeira camada oculta (verde), possuímos 8 parâmetros, ou 10 se considerarmos os vieses. Da primeira para a segunda camada oculta (amarela), temos mais 4 (6 com vieses) parâmetros, e da segunda camada oculta para a saída temos mais 2 (3 com vieses) parâmetros. Desta forma, temos ao todo 19 parâmetros nesta rede. cuja entrada é 1x4\n",
    "\n",
    "<img src=\"Figuras/F5.png\" alt=\"MLP\" width=\"500\"/>   \n",
    "\n",
    "Agora imagine que tenhamos uma imagem 32 x 32 pixels em RGB. Nossa entrada então passa a ter tamanho 32 x 32 x 3 (esta última dimensão corresponde ao número de canais, R, G e B). Se formos utilizar uma rede MLP como a da figura acima para analisar tal imagem, passaremos a ter (32 x 32 x 3 + 1) x 2 parâmetros da entrada para a primeira camada oculta, ou seja, 6146 parâmetros. as demais camadas seguem com o mesmo número de parâmetros de forma que a rede passa a ter um total de 6155 parâmetros.\n",
    "\n",
    "Outra diferença que torna as redes convolucionais superiores ao MLP para aplicações envolvendo imagens é o fato do MLP não preservar as relações espaciais da entrada, uma vez que elas devem ser convertidas em vetores. Por serem tridimensionais, os filtros das camadas convolucionais não sofrem deste mesmo problema, permitindo que relações espaciais sejam consideradas nas análises.\n",
    "\n",
    "<b><p style=\"text-align:right\"> [Retornar ao topo](#Topo) </p> </b> "
   ]
  },
  {
   "cell_type": "markdown",
   "id": "dbdf9705",
   "metadata": {
    "id": "dbdf9705"
   },
   "source": [
    "## 2 - Convoluções <a id = \"Conv\"></a> \n",
    "\n",
    "\n",
    "### 2.1. A operação de convolução <a id = \"Convolucao\"></a> \n",
    "\n",
    "Com as redes convolucionais, conseguimos reduzir significativamente o número de parâmetros ao utilizar **filtros**, que são os neurônios deste tipo de rede. Estes filtros nada mais são que matrizes (ou tensores) que varrem a camada anterior, executando operações de multiplicação de cada um de seus elementos pelos elementos correspondentes na matriz, somando todos os valores obtidos e submetendo-os a uma função de ativação. A aplicação de um filtro sobre uma imagem gera um mapa de ativação. este procedimento recebe o nome de convolução, e é ilustrado pela figura abaixo.\n",
    "\n",
    "<img src=\"https://glassboxmedicine.files.wordpress.com/2019/07/convgif.gif?w=616\" alt=\"Filter\" width=\"500\"/> \n",
    "<p style=\"text-align:center; font-size:12px\"><b>fonte:</b> glassboxmedicine </p>\n",
    "\n",
    "Com este novo procedimento, as redes passam a ter uma quantidade significativamente menor de parâmetros. Neste caso, cada filtro terá o número de parâmetros equivalente à sua dimensão, ou seja, um filtro 5x5 aplicado a uma imagem RGB possui 5x5x3 + 1 parâmetros treináveis, incluindo o viés. A cada camada, um determinado número de filtros é aplicado, gerando novos volumes que serão a entrada da camada seguinte.\n",
    "\n",
    "Comparando os dois tipos de redes neurais, podemos ver a dimensão na redução no número de parâmetros da rede, o que é mais pronunciado em redes mais complexas. Desta forma, as redes convolucionais tornam-se muito mais eficientes no processamento de entradas grandes, como é o caso das imagens.\n",
    "\n",
    "Nesta rede, os hiperparâmetros são as dimensões dos filtros e o número de filtros. Entretanto, uma das dimensões do filtro sempre será fixa e definida pelas entradas, que é a profundidade. Se a entrada é uma imagem do tipo RGB, então teremos uma profundidade de 3, e os filtros devem respeitar isso. A dimensão do mapa de ativação gerado depende do tamanho da entrada, do tamanho do filtro e do tamanho do passo, da seguinte forma:\n",
    "\n",
    "\n",
    "$$ m = \\frac{n - f}{s} + 1$$\n",
    "\n",
    "onde, M é a dimensão do mapa de ativação, n é a dimensão da entrada, f é a dimensão do filtro e s é o tamanho do passo (stride).\n",
    "\n",
    "\n",
    "\n",
    "<b><p style=\"text-align:right\"> [Retornar ao topo](#Topo) </p> </b> "
   ]
  },
  {
   "cell_type": "markdown",
   "id": "6735716a",
   "metadata": {},
   "source": [
    "### 2.2. Função de ativação ReLU <a id = \"ReLU\"></a> \n",
    "\n",
    "Tradicionalmente, a função de ativação utilizada na operação de convolução é a ReLU. Esta função de ativação complementa o objetivo da rede convolucional de destacar características interessantes da entrada pois com ela é possível zerar os sinais fracos ou negativos, mantendo somente os sinais fortes de cada filtro na camada de ativação correspondente. Desta maneira, A função de ativação ReLU, juntamente com a operação de pooling que será discutida mais adiante, pode ser considerada como uma forma de remoção de ruídos da entrada ou camada anterior.\n",
    "\n",
    "<img src=\"https://www.researchgate.net/profile/Leo-Pauly/publication/319235847/figure/fig3/AS:537056121634820@1505055565670/ReLU-activation-function.png\" alt=\"Filter\" width=\"300\"/> \n",
    "\n",
    "A função de ativação relu possui a seguinte equação:\n",
    "\n",
    "$$\\text{ReLU} = \\max(0,x)$$\n",
    "\n",
    "\n",
    "<b><p style=\"text-align:right\"> [Retornar ao topo](#Topo) </p> </b> "
   ]
  },
  {
   "cell_type": "markdown",
   "id": "51269011",
   "metadata": {},
   "source": [
    "### 2.3. Filtros  <a id = \"Filtros\"></a> \n",
    "\n",
    "Os filtros podem ser encarados como matrizes ou tensores. Eles podem ser inicializados com valores aleatórios ou com valores padrão. Independente da escolha de inicialização, é interessante que os valores dentro de cada um dos filtros da rede sejam mutáveis, permitindo que estes sejam aprendidos pela rede à medida que esta é treinada. Isso é aproximadamente equivalente a \"deixar a rede tomar a decisão de quais características serão aprendidas\". Vale ressaltar, no entanto, que em raros casos onde se conhece bem características dos inputs, pode ser vantajoso inicializar os filtros da camada iniciai com valores padrão. \n",
    "\n",
    "#### a) Filtro de Sobbel <a id = \"Sobbel\"></a> \n",
    "\n",
    "Os filtros de Sobbel servem tmabém para a detecção de bordas, porém ele busca realçar as bordas. Já o filtro de Scharr, além de realçar, também gera um pouco de \"borrão\".\n",
    "\n",
    "\n",
    "#### b)\n",
    "\n",
    "\n",
    "\n",
    "\n",
    "\n",
    "Reproduzir exemplos de detecção de bordas.\n",
    "\n",
    "Fazer script de filtro com mapa de calor.\n",
    "\n",
    "Exemplo de filtro 3D, ele deve somar todos os valores das três camadas e só retorna um valor. Criar um exemplo de detecção de borda vertical vermelha."
   ]
  },
  {
   "cell_type": "code",
   "execution_count": 1,
   "id": "17468731",
   "metadata": {},
   "outputs": [],
   "source": [
    "#Script com filtro vertical e horizontal"
   ]
  },
  {
   "cell_type": "markdown",
   "id": "5c50486e",
   "metadata": {
    "id": "5c50486e"
   },
   "source": [
    "## 3 - Padding e Stride<a id = \"P&S\"></a> \n",
    "\n",
    "\n",
    "### 3.1.  Padding<a id = \"Padding\"></a> \n",
    "\n",
    "A operação de Padding consiste em adicionar zeros antes e/ou depois da imagem, de forma que a imagem passe a ter dimensões maiores. Isso é útil quando nossa entrada possui tamanho variável, ou quando utilizamos passos (stride) de tamanho maior que 1. Também pode ser útil para permitir a utilização de filtros quadrados em imagens que não são quadradas. Quando usamos padding, a dimensão do mapa de ativação se torna:\n",
    "\n",
    "\n",
    "$$ m = \\frac{n - f + p_{antes} + p_{depois}}{s} + 1$$\n",
    "\n",
    "\n",
    "O padding traz alguns benefícios, dentre eles temos a preservação do tamanho da imagem e redução da subutilização dos pixels das bordas. Em redes neurais profundas, o padding se torna necessário para evitar que os filtros de ativação se tornem muito pequenos nas camadas intermediárias e finais.\n",
    "\n",
    "\n",
    "\n",
    "**a)** Padding _same_\n",
    "Este padding é utilizado para manter o volume de saída com a mesma dimensão do volume de entrada.\n",
    "\n",
    "\n",
    "**b)** Padding _valid_\n",
    "Usa somente os píxels válidos da imagem, evitando ao máximo utilizar padding.\n",
    "\n",
    "\n",
    "### 3.2.  Padding<a id = \"Stride\"></a> \n",
    "\n",
    "\n",
    "\n",
    "<b><p style=\"text-align:right\"> [Retornar ao topo](#Topo) </p> </b> "
   ]
  },
  {
   "cell_type": "markdown",
   "id": "766acd40",
   "metadata": {
    "id": "5c50486e"
   },
   "source": [
    "## 4 - Pooling <a id = \"Pooling\"></a> \n",
    "\n",
    "\n",
    "### 4.1.  <a id = \"\"></a> \n",
    "\n",
    "<b><p style=\"text-align:right\"> [Retornar ao topo](#Topo) </p> </b> "
   ]
  },
  {
   "cell_type": "markdown",
   "id": "b7b8f6af",
   "metadata": {},
   "source": [
    "## 5 - Arquitetura típica de uma CNN  <a id = \"Arquitetura\"></a> \n",
    "\n",
    "Em geral, uma rede convolucional completa possui diversas camadas de convolução alternadas com camadas de Pooling. Ao final da rede, em casos de classirficação, a camada final deve ser uma softmax, com o número de nós equivalente ao número de classes que se deseja identificar. Ocasionalmente, uma camada de convolução pode ser sucedida de outra camada de convolução.\n",
    "\n",
    "\n",
    "<img src=\"https://miro.medium.com/max/2000/1*vkQ0hXDaQv57sALXAJquxA.jpeg\" alt=\"Filter\" width=\"700\"/> \n",
    "<p style=\"text-align:center; font-size:12px\"><b>fonte:</b> Medium </p>\n"
   ]
  },
  {
   "cell_type": "markdown",
   "id": "4921d11e",
   "metadata": {
    "id": "4921d11e"
   },
   "source": [
    "# II - Modificações das CNN <a id = \"Mods\"></a> \n",
    "\n",
    "<b><p style=\"text-align:right\"> [Retornar ao topo](#Topo) </p> </b> \n"
   ]
  },
  {
   "cell_type": "markdown",
   "id": "c4712681",
   "metadata": {},
   "source": [
    "## 1 - Dilated <a id = \"Dilated\"></a>\n",
    "\n",
    "\n",
    "### 1.1.  <a id = \"\"></a> \n",
    "\n",
    "<b><p style=\"text-align:right\"> [Retornar ao topo](#Topo) </p> </b> "
   ]
  },
  {
   "cell_type": "markdown",
   "id": "c90785b3",
   "metadata": {},
   "source": [
    "## 2 - Separate <a id = \"Separate\"></a>\n",
    "\n",
    "\n",
    "### 2.1.  <a id = \"\"></a> \n",
    "\n",
    "<b><p style=\"text-align:right\"> [Retornar ao topo](#Topo) </p> </b> "
   ]
  },
  {
   "cell_type": "markdown",
   "id": "2d67d110",
   "metadata": {},
   "source": [
    "## 3 - Decompositions <a id = \"Decomposition\"></a>\n",
    "\n",
    "\n",
    "### 3.1.  <a id = \"\"></a> \n",
    "\n",
    "<b><p style=\"text-align:right\"> [Retornar ao topo](#Topo) </p> </b> "
   ]
  },
  {
   "cell_type": "markdown",
   "id": "942c7f7e",
   "metadata": {
    "id": "942c7f7e"
   },
   "source": [
    "# III - Classificação com Arquiteturas Profundas <a id=\"Classificacao\"> </a>\n",
    "\n",
    "<b><p style=\"text-align:right\"> [Retornar ao topo](#Topo) </p> </b> "
   ]
  },
  {
   "cell_type": "markdown",
   "id": "bb9c0aac",
   "metadata": {},
   "source": [
    "## 1 -  <a id = \"\"></a>\n",
    "\n",
    "\n",
    "### 1.1.  <a id = \"\"></a> \n",
    "\n",
    "<b><p style=\"text-align:right\"> [Retornar ao topo](#Topo) </p> </b> "
   ]
  },
  {
   "cell_type": "markdown",
   "id": "afa759bc",
   "metadata": {
    "id": "afa759bc"
   },
   "source": [
    "\n",
    "<b><p style=\"text-align:right\"> [Retornar ao topo](#Topo) </p> </b> "
   ]
  },
  {
   "cell_type": "markdown",
   "id": "91f97b60",
   "metadata": {
    "id": "91f97b60"
   },
   "source": [
    "# IV - CNNs na prática <a id=\"Pratica\"> </a>\n",
    "\n",
    "\n",
    "<b><p style=\"text-align:right\"> [Retornar ao topo](#Topo) </p> </b> "
   ]
  },
  {
   "cell_type": "markdown",
   "id": "0af410cf",
   "metadata": {},
   "source": [
    "## 1 -  <a id = \"\"></a>\n",
    "\n",
    "\n",
    "### 1.1.  <a id = \"\"></a> \n",
    "\n",
    "<b><p style=\"text-align:right\"> [Retornar ao topo](#Topo) </p> </b> "
   ]
  },
  {
   "cell_type": "markdown",
   "id": "9eeb20aa",
   "metadata": {},
   "source": [
    "___\n",
    "<a id=\"Lista\"></a><b><p style=\"text-align:center;font-size:24px\">Lista de Exercícios </p> </b> \n",
    "___"
   ]
  },
  {
   "cell_type": "markdown",
   "id": "ce8d036d",
   "metadata": {},
   "source": [
    "# Questão 1:\n",
    "\n",
    "**a)** Imagem RGB com 300 x 300 → Dimensão da entrada (300 x 300 x 3 + 1) * 100 = 27.000.100 parâmetros. \n",
    "\n",
    "\n",
    "**b)** Temos que cada filtro 5 x 5 aplicado a esta imagem, na verdade terá dimensão 5 x 5 x 3. Logo, cada um dos 100 filtros terá 75 parâmetros + 1 bias, totalizando 7.600 parâmetros.\n",
    "\n",
    "\n",
    "# Questão 2: \n",
    "\n",
    "Como podemos ver pelo código abaixo, a aplicação do filtro numa imagem em tons de cinza gera uma imagem onde as bordas estão mais destacadas. Isso pode ser bem visualizado quando observamos que a matriz que representa o filtro apresenta uma clara simetria em relação ao eixo vertical, tendo os valores de um lado como positivos e os valores do outro lado negativos."
   ]
  },
  {
   "cell_type": "code",
   "execution_count": 43,
   "id": "af34841a",
   "metadata": {
    "scrolled": true
   },
   "outputs": [
    {
     "data": {
      "image/png": "[encoded data removed]",
      "text/plain": [
       "<Figure size 432x288 with 1 Axes>"
      ]
     },
     "metadata": {
      "needs_background": "light"
     },
     "output_type": "display_data"
    }
   ],
   "source": [
    "img = np.ones(shape = (100,100))*128\n",
    "for i in range(100):\n",
    "    if i%3 == 0:\n",
    "        img[i, :] = 100\n",
    "        img[:, i] = 155\n",
    "plt.imshow(img, cmap='gray', vmin=0, vmax=255)\n",
    "plt.show()"
   ]
  },
  {
   "cell_type": "code",
   "execution_count": 44,
   "id": "71c97a86",
   "metadata": {},
   "outputs": [
    {
     "data": {
      "text/plain": [
       "array([[ 0,  1, -1,  0],\n",
       "       [ 1,  3, -3, -1],\n",
       "       [ 1,  3, -3, -1],\n",
       "       [ 0,  1, -1,  0]])"
      ]
     },
     "execution_count": 44,
     "metadata": {},
     "output_type": "execute_result"
    }
   ],
   "source": [
    "filtro = np.array([[0, 1, -1, 0],[1, 3, -3, -1], [1, 3, -3, -1],[0, 1, -1, 0]])\n",
    "filtro"
   ]
  },
  {
   "cell_type": "code",
   "execution_count": 45,
   "id": "942e2766",
   "metadata": {},
   "outputs": [
    {
     "data": {
      "text/plain": [
       "<matplotlib.image.AxesImage at 0x160185fed60>"
      ]
     },
     "execution_count": 45,
     "metadata": {},
     "output_type": "execute_result"
    },
    {
     "data": {
      "image/png": "[encoded data removed]",
      "text/plain": [
       "<Figure size 432x288 with 1 Axes>"
      ]
     },
     "metadata": {
      "needs_background": "light"
     },
     "output_type": "display_data"
    }
   ],
   "source": [
    "i2 = convolve(img, filtro)\n",
    "plt.imshow(i2, cmap='gray', vmin=0, vmax=255)"
   ]
  },
  {
   "cell_type": "code",
   "execution_count": null,
   "id": "c8deafb7",
   "metadata": {},
   "outputs": [],
   "source": []
  },
  {
   "cell_type": "markdown",
   "id": "198b050b",
   "metadata": {},
   "source": [
    "# Questão 3\n",
    "\n"
   ]
  },
  {
   "cell_type": "code",
   "execution_count": 51,
   "id": "3afa467b",
   "metadata": {},
   "outputs": [
    {
     "data": {
      "text/plain": [
       "<matplotlib.image.AxesImage at 0x16018c00280>"
      ]
     },
     "execution_count": 51,
     "metadata": {},
     "output_type": "execute_result"
    },
    {
     "data": {
      "image/png": "[encoded data removed]",
      "text/plain": [
       "<Figure size 432x288 with 1 Axes>"
      ]
     },
     "metadata": {
      "needs_background": "light"
     },
     "output_type": "display_data"
    }
   ],
   "source": [
    "img = np.array([[0, 0, 0, 0, 0, 0],[0, 2, 2, 2, 0, 0],[0, 2, 2, 2, 0, 0],[0, 2, 2, 2, 0, 0],[0, 0, 0, 0, 0, 0],[0, 0, 0, 0, 0, 0]])\n",
    "plt.imshow(img, cmap='gray', vmin=-10, vmax=10)"
   ]
  },
  {
   "cell_type": "code",
   "execution_count": 82,
   "id": "1494baf3",
   "metadata": {},
   "outputs": [
    {
     "data": {
      "text/plain": [
       "array([[-2,  0,  2],\n",
       "       [-2,  0,  2],\n",
       "       [-2,  0,  2]])"
      ]
     },
     "execution_count": 82,
     "metadata": {},
     "output_type": "execute_result"
    }
   ],
   "source": [
    "filtro = np.array([[-2, 0, 2],[-2, 0, 2], [-2, 0, 2]])\n",
    "filtro"
   ]
  },
  {
   "cell_type": "code",
   "execution_count": 90,
   "id": "f28aad98",
   "metadata": {
    "scrolled": true
   },
   "outputs": [
    {
     "data": {
      "text/plain": [
       "<matplotlib.image.AxesImage at 0x1601a05b6a0>"
      ]
     },
     "execution_count": 90,
     "metadata": {},
     "output_type": "execute_result"
    },
    {
     "data": {
      "image/png": "[encoded data removed]",
      "text/plain": [
       "<Figure size 432x288 with 1 Axes>"
      ]
     },
     "metadata": {
      "needs_background": "light"
     },
     "output_type": "display_data"
    }
   ],
   "source": [
    "i2 = convolve2d(img, filtro, mode ='valid')\n",
    "plt.imshow(i2, cmap='gray', vmin=-12, vmax=12)"
   ]
  },
  {
   "cell_type": "markdown",
   "id": "53e6dd6b",
   "metadata": {},
   "source": [
    "# Questão 4\n"
   ]
  },
  {
   "cell_type": "code",
   "execution_count": 97,
   "id": "699062a1",
   "metadata": {},
   "outputs": [
    {
     "data": {
      "text/plain": [
       "<matplotlib.image.AxesImage at 0x1601b1325e0>"
      ]
     },
     "execution_count": 97,
     "metadata": {},
     "output_type": "execute_result"
    },
    {
     "data": {
      "image/png": "[encoded data removed]",
      "text/plain": [
       "<Figure size 432x288 with 1 Axes>"
      ]
     },
     "metadata": {
      "needs_background": "light"
     },
     "output_type": "display_data"
    }
   ],
   "source": [
    "img = np.array([[0,0,0,0,0,0,0],[0,-1,0,0,0,-1,0],[0,0,0,0,0,0,0],[0,-1,0,0,0,-1,0], [0,-1,-1,-1,-1,-1,0],[0,0,0,0,0,0,0],[0,0,0,0,0,0,0]])\n",
    "plt.imshow(img,cmap='gray', vmin=-1, vmax=0)"
   ]
  },
  {
   "cell_type": "code",
   "execution_count": 156,
   "id": "29a289f8",
   "metadata": {},
   "outputs": [
    {
     "data": {
      "text/plain": [
       "array([[-1, -1, -1],\n",
       "       [-1,  8, -1],\n",
       "       [-1, -1, -1]])"
      ]
     },
     "execution_count": 156,
     "metadata": {},
     "output_type": "execute_result"
    }
   ],
   "source": [
    "filtro = np.array([[-1,-1,-1],[-1,8,-1],[-1,-1,-1]])\n",
    "filtro"
   ]
  },
  {
   "cell_type": "code",
   "execution_count": 169,
   "id": "4fffea5f",
   "metadata": {},
   "outputs": [
    {
     "data": {
      "text/plain": [
       "<matplotlib.image.AxesImage at 0x1601ce9dd60>"
      ]
     },
     "execution_count": 169,
     "metadata": {},
     "output_type": "execute_result"
    },
    {
     "data": {
      "image/png": "[encoded data removed]",
      "text/plain": [
       "<Figure size 432x288 with 1 Axes>"
      ]
     },
     "metadata": {
      "needs_background": "light"
     },
     "output_type": "display_data"
    }
   ],
   "source": [
    "i2 = convolve2d(img, filtro, mode ='valid')\n",
    "plt.imshow(i2, cmap='gray', vmin=-8, vmax=8)"
   ]
  },
  {
   "cell_type": "code",
   "execution_count": 162,
   "id": "54a4ef1b",
   "metadata": {},
   "outputs": [
    {
     "data": {
      "text/plain": [
       "array([[-8,  1,  0,  1, -8],\n",
       "       [ 2,  2,  0,  2,  2],\n",
       "       [-6,  4,  3,  4, -6],\n",
       "       [-6, -5, -6, -5, -6],\n",
       "       [ 2,  3,  3,  3,  2]])"
      ]
     },
     "execution_count": 162,
     "metadata": {},
     "output_type": "execute_result"
    }
   ],
   "source": [
    "i2"
   ]
  },
  {
   "cell_type": "markdown",
   "id": "02c3f9cc",
   "metadata": {},
   "source": [
    "# Questão 5\n",
    "\n",
    "**a)** O modo de padding chamado de _valid_ busca minimizar o uso de padding. Dessa forma, ele só adicionará padding caso seja realmente necessário (ou seja, a combinação de stride e tamanho de filtro não permite a movimentação correta do filtro pela imagem. Sendo assim, no caso informado, não haverá padding, e a dimensão da matriz resultado da convolução será m x m, tal que:\n",
    "\n",
    "$$m = \\frac{n-f}{s} +1 = \\frac{8-3}{1} + 1 = 6$$ \n",
    "Ou seja, a matriz será 6 x 6\n",
    "\n",
    "**b)** O modo de padding chamado _same_ busca preservar as dimensões da imagem original de entrada. Por isso, para este caso, temos que m = n, ou seja, m = 8. Aplicando essa informação na fórmula que conta com o padding, e considerando que o padding foi adicionado simetricamente, temos:\n",
    "\n",
    "$$ m = \\frac{n - f + p_{antes} + p_{depois}}{s} + 1 = \\frac{8 - 3 + 2p}{1} + 1 = 8$$   \n",
    "\n",
    "$$2p +5 + 1 = 8 \\rightarrow 2p = 2 \\rightarrow p = 1$$\n",
    "\n",
    "Logo, a dimensão final da matriz é 8x8 e foi adicionado um padding de tamanho 1 de cada lado, totalizando um padding de tamanho 2."
   ]
  },
  {
   "cell_type": "markdown",
   "id": "a8fe2fdd",
   "metadata": {},
   "source": [
    "# Questão 6\n",
    "\n",
    "**a)** Utilizando um stride de 2, passamos a ter:\n",
    "$$m = \\frac{n-f}{s} +1 = \\frac{8-3}{2} + 1 = \\frac{5}{2} + 1 = 3,5$$  \n",
    "Como o valor encontrado foi decimal e houve possibilidade de movimentação do filtro, isso significa que no modo _valid_ não deve ser adicionado um padding e parte da matriz de entrada não participará da convolução. Sendo assim, a dimensão da saída será 3x3 e o padding será de 0.\n",
    "\n",
    "**b)** Seguindo o mesmo raciocínio que na questão anterior, temos:\n",
    "\n",
    "$$ m = \\frac{n - f + p_{antes} + p_{depois}}{s} + 1 = \\frac{8 - 3 + 2p}{2} + 1 = 8$$   \n",
    "\n",
    "$$2p +5 = 14 \\rightarrow 2p = 9 \\rightarrow p = 4.5$$\n",
    "\n",
    "Logo, a dimensão final da matriz é 8x8 e foi adicionado um padding de tamanho 4.5 de cada lado, totalizando um padding de tamanho 9."
   ]
  },
  {
   "cell_type": "markdown",
   "id": "dba709c4",
   "metadata": {},
   "source": [
    "# Questão 7\n",
    "\n",
    "Ao utilizar o _same padding_, temos a adição de um padding simetricamente em todos os lados de uma matriz de entrada, de maneira a garantir que a saída possua a mesma dimensão da entrada. Dessa forma, à medida que mudamos o tamanho do filtro, a técnica também alterará o tamanho do padding adicionado. Por isso, é possívle passar o mesmo filtro sucessivas vezes sobre o volume de entrada ao utilizar esse procedimento."
   ]
  },
  {
   "cell_type": "markdown",
   "id": "ac1ba79e",
   "metadata": {},
   "source": [
    "# Questão 8\n",
    "\n",
    "Utilizando o _valid padding_, a única forma de se obter uma imagem de saída com dimensões 2D iguais às da entrada é caso utilizemos um filtro com dimensões 1x1. Isso pode ser confirmado com a fórmula para cálculo das dimensões de saída, da seguinte forma:\n",
    "\n",
    "$$ m = \\frac{n - f}{s} + 1 = \\frac{n - 1}{1} + 1 =  n-1+1 = n \\rightarrow m = n$$   "
   ]
  }
 ],
 "metadata": {
  "colab": {
   "collapsed_sections": [],
   "name": "Resumo_1.ipynb",
   "provenance": []
  },
  "kernelspec": {
   "display_name": "Python 3",
   "language": "python",
   "name": "python3"
  },
  "language_info": {
   "codemirror_mode": {
    "name": "ipython",
    "version": 3
   },
   "file_extension": ".py",
   "mimetype": "text/x-python",
   "name": "python",
   "nbconvert_exporter": "python",
   "pygments_lexer": "ipython3",
   "version": "3.8.6"
  }
 },
 "nbformat": 4,
 "nbformat_minor": 5
}
