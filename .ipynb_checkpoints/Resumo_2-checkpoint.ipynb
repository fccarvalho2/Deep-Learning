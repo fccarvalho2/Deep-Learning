{
 "cells": [
  {
   "cell_type": "markdown",
   "id": "bb470a27",
   "metadata": {
    "id": "bb470a27"
   },
   "source": [
    "<a id=\"Topo\"></a><b><p style=\"text-align:center;font-size:24px\">Algoritmos de Aprendizado Profundo </p> </b> \n",
    "<p style=\"text-align:center;font-size:6px\"></p>\n",
    "<b><p style=\"text-align:center;font-size:16px\"> Resumo - Módulo 2 </p> </b>\n",
    "\n",
    "---\n",
    "\n",
    "<b><p style=\"text-align:center;font-size:24px\"> Índice </p> </b> \n",
    "\n",
    "**[I - Redes Convolucionais](#CNN)**  \n",
    "&nbsp;&nbsp;&nbsp;&nbsp;&nbsp;&nbsp;**[1. Introdução](#Intro)**  \n",
    "&nbsp;&nbsp;&nbsp;&nbsp;&nbsp;&nbsp;&nbsp;&nbsp;&nbsp;&nbsp;&nbsp;&nbsp;**[1.1. ](#)**   \n",
    "&nbsp;&nbsp;&nbsp;&nbsp;&nbsp;&nbsp;**[2. Convoluções](#Conv)**  \n",
    "&nbsp;&nbsp;&nbsp;&nbsp;&nbsp;&nbsp;&nbsp;&nbsp;&nbsp;&nbsp;&nbsp;&nbsp;**[2.1. ](#)**    \n",
    "&nbsp;&nbsp;&nbsp;&nbsp;&nbsp;&nbsp;**[3. Padding](#Padding)**  \n",
    "&nbsp;&nbsp;&nbsp;&nbsp;&nbsp;&nbsp;&nbsp;&nbsp;&nbsp;&nbsp;&nbsp;&nbsp;**[3.1. ](#)**    \n",
    "&nbsp;&nbsp;&nbsp;&nbsp;&nbsp;&nbsp;**[4. Pooling](#Pooling)**  \n",
    "&nbsp;&nbsp;&nbsp;&nbsp;&nbsp;&nbsp;&nbsp;&nbsp;&nbsp;&nbsp;&nbsp;&nbsp;**[4.1. ](#)**    \n",
    "\n",
    "**[II - Modificações das CNN](#Mods)**  \n",
    "&nbsp;&nbsp;&nbsp;&nbsp;&nbsp;&nbsp;**[1. Dilated](#Dilated)**   \n",
    "&nbsp;&nbsp;&nbsp;&nbsp;&nbsp;&nbsp;&nbsp;&nbsp;&nbsp;&nbsp;&nbsp;&nbsp;**[1.1. ](#)**   \n",
    "&nbsp;&nbsp;&nbsp;&nbsp;&nbsp;&nbsp;**[2. Separate](#Separated)**   \n",
    "&nbsp;&nbsp;&nbsp;&nbsp;&nbsp;&nbsp;&nbsp;&nbsp;&nbsp;&nbsp;&nbsp;&nbsp;**[2.1. ](#)**    \n",
    "&nbsp;&nbsp;&nbsp;&nbsp;&nbsp;&nbsp;**[3. Decompositions](#Decomposition)**   \n",
    "&nbsp;&nbsp;&nbsp;&nbsp;&nbsp;&nbsp;&nbsp;&nbsp;&nbsp;&nbsp;&nbsp;&nbsp;**[3.1. ](#)**     \n",
    "\n",
    "**[III - Classificação com arquiteturas profundas](#Classificacao)**  \n",
    "&nbsp;&nbsp;&nbsp;&nbsp;&nbsp;&nbsp;**[1. ](#)**  \n",
    "&nbsp;&nbsp;&nbsp;&nbsp;&nbsp;&nbsp;&nbsp;&nbsp;&nbsp;&nbsp;&nbsp;&nbsp;**[1.1. ](#)**   \n",
    "&nbsp;&nbsp;&nbsp;&nbsp;&nbsp;&nbsp;**[2. ](#)**  \n",
    "&nbsp;&nbsp;&nbsp;&nbsp;&nbsp;&nbsp;&nbsp;&nbsp;&nbsp;&nbsp;&nbsp;&nbsp;**[2.1. ](#)**      \n",
    "\n",
    "\n",
    "**[IV - CNNs na prática](#Pratica)**  \n",
    "&nbsp;&nbsp;&nbsp;&nbsp;&nbsp;&nbsp;**[1. ](#00)**  \n",
    "&nbsp;&nbsp;&nbsp;&nbsp;&nbsp;&nbsp;&nbsp;&nbsp;&nbsp;&nbsp;&nbsp;&nbsp;**[1.1. ](#00)**  \n",
    "&nbsp;&nbsp;&nbsp;&nbsp;&nbsp;&nbsp;&nbsp;&nbsp;&nbsp;&nbsp;&nbsp;&nbsp;**[1.2. ](#00)**  \n",
    "&nbsp;&nbsp;&nbsp;&nbsp;&nbsp;&nbsp;&nbsp;&nbsp;&nbsp;&nbsp;&nbsp;&nbsp;**[1.3. ](#00)**  \n",
    "&nbsp;&nbsp;&nbsp;&nbsp;&nbsp;&nbsp;&nbsp;&nbsp;&nbsp;&nbsp;&nbsp;&nbsp;**[1.4. ](#00)**  \n",
    "\n",
    "---"
   ]
  },
  {
   "cell_type": "code",
   "execution_count": 2,
   "id": "2cc1cd35",
   "metadata": {
    "id": "2cc1cd35"
   },
   "outputs": [],
   "source": [
    "from scipy import stats\n",
    "import numpy as np\n",
    "import pandas as pd\n",
    "import sympy as sp\n",
    "import matplotlib.pyplot as plt\n",
    "from IPython.display import display"
   ]
  },
  {
   "cell_type": "markdown",
   "id": "ba3a97ce",
   "metadata": {
    "id": "ba3a97ce"
   },
   "source": [
    "# I - Redes convolucionais <a id = \"CNN\"></a> \n"
   ]
  },
  {
   "cell_type": "markdown",
   "id": "21a0ce57",
   "metadata": {
    "id": "21a0ce57"
   },
   "source": [
    "\n",
    "<b><p style=\"text-align:right\"> [Retornar ao topo](#Topo) </p> </b> "
   ]
  },
  {
   "cell_type": "markdown",
   "id": "cbe096a4",
   "metadata": {
    "id": "cbe096a4"
   },
   "source": [
    "## 1 - Introdução <a id = \"Intro\"></a> \n",
    "\n",
    "\n",
    "### 1.1.  <a id = \"\"></a> \n",
    "\n",
    "\n",
    "<b><p style=\"text-align:right\"> [Retornar ao topo](#Topo) </p> </b> "
   ]
  },
  {
   "cell_type": "markdown",
   "id": "dbdf9705",
   "metadata": {
    "id": "dbdf9705"
   },
   "source": [
    "## 2 - Convoluções <a id = \"Conv\"></a> \n",
    "\n",
    "\n",
    "### 2.1.  <a id = \"\"></a> \n",
    "\n",
    "\n",
    "<b><p style=\"text-align:right\"> [Retornar ao topo](#Topo) </p> </b> "
   ]
  },
  {
   "cell_type": "markdown",
   "id": "5c50486e",
   "metadata": {
    "id": "5c50486e"
   },
   "source": [
    "## 3 - Padding <a id = \"Padding\"></a> \n",
    "\n",
    "\n",
    "### 3.1.  <a id = \"\"></a> \n",
    "\n",
    "<b><p style=\"text-align:right\"> [Retornar ao topo](#Topo) </p> </b> "
   ]
  },
  {
   "cell_type": "markdown",
   "id": "bf1f934f",
   "metadata": {
    "id": "5c50486e"
   },
   "source": [
    "## 4 - Pooling <a id = \"Pooling\"></a> \n",
    "\n",
    "\n",
    "### 4.1.  <a id = \"\"></a> \n",
    "\n",
    "<b><p style=\"text-align:right\"> [Retornar ao topo](#Topo) </p> </b> "
   ]
  },
  {
   "cell_type": "markdown",
   "id": "4921d11e",
   "metadata": {
    "id": "4921d11e"
   },
   "source": [
    "# II - Modificações das CNN <a id = \"Mods\"></a> \n",
    "\n",
    "<b><p style=\"text-align:right\"> [Retornar ao topo](#Topo) </p> </b> \n"
   ]
  },
  {
   "cell_type": "markdown",
   "id": "11aee9d7",
   "metadata": {},
   "source": [
    "## 1 - Dilated <a id = \"Dilated\"></a>\n",
    "\n",
    "\n",
    "### 1.1.  <a id = \"\"></a> \n",
    "\n",
    "<b><p style=\"text-align:right\"> [Retornar ao topo](#Topo) </p> </b> "
   ]
  },
  {
   "cell_type": "markdown",
   "id": "04c99666",
   "metadata": {},
   "source": [
    "## 2 - Separate <a id = \"Separate\"></a>\n",
    "\n",
    "\n",
    "### 2.1.  <a id = \"\"></a> \n",
    "\n",
    "<b><p style=\"text-align:right\"> [Retornar ao topo](#Topo) </p> </b> "
   ]
  },
  {
   "cell_type": "markdown",
   "id": "410be464",
   "metadata": {},
   "source": [
    "## 3 - Decompositions <a id = \"Decompositions\"></a>\n",
    "\n",
    "\n",
    "### 3.1.  <a id = \"\"></a> \n",
    "\n",
    "<b><p style=\"text-align:right\"> [Retornar ao topo](#Topo) </p> </b> "
   ]
  },
  {
   "cell_type": "markdown",
   "id": "942c7f7e",
   "metadata": {
    "id": "942c7f7e"
   },
   "source": [
    "# III - Classificação com Arquiteturas Profundas <a id=\"Classificacao\"> </a>\n",
    "\n",
    "<b><p style=\"text-align:right\"> [Retornar ao topo](#Topo) </p> </b> "
   ]
  },
  {
   "cell_type": "markdown",
   "id": "a24889c4",
   "metadata": {},
   "source": [
    "## 1 -  <a id = \"\"></a>\n",
    "\n",
    "\n",
    "### 1.1.  <a id = \"\"></a> \n",
    "\n",
    "<b><p style=\"text-align:right\"> [Retornar ao topo](#Topo) </p> </b> "
   ]
  },
  {
   "cell_type": "markdown",
   "id": "afa759bc",
   "metadata": {
    "id": "afa759bc"
   },
   "source": [
    "\n",
    "<b><p style=\"text-align:right\"> [Retornar ao topo](#Topo) </p> </b> "
   ]
  },
  {
   "cell_type": "markdown",
   "id": "91f97b60",
   "metadata": {
    "id": "91f97b60"
   },
   "source": [
    "# IV - CNNs na prática <a id=\"Pratica\"> </a>\n",
    "\n",
    "\n",
    "<b><p style=\"text-align:right\"> [Retornar ao topo](#Topo) </p> </b> "
   ]
  },
  {
   "cell_type": "markdown",
   "id": "37755f9f",
   "metadata": {},
   "source": [
    "## 1 -  <a id = \"\"></a>\n",
    "\n",
    "\n",
    "### 1.1.  <a id = \"\"></a> \n",
    "\n",
    "<b><p style=\"text-align:right\"> [Retornar ao topo](#Topo) </p> </b> "
   ]
  },
  {
   "cell_type": "markdown",
   "id": "f5414289",
   "metadata": {},
   "source": []
  },
  {
   "cell_type": "code",
   "execution_count": null,
   "id": "8f27d81e",
   "metadata": {},
   "outputs": [],
   "source": []
  },
  {
   "cell_type": "markdown",
   "id": "8c8078bb",
   "metadata": {},
   "source": [
    "## 3. BackPropagation\n",
    "\n",
    "O backpropagation é um procedimento para atualização dos pesos que se inicia nas camadas pmais próximas do output e atualiza os pesos de trás para frente. Por isso o nome.\n",
    "\n",
    "\n",
    "\n",
    "Exercício 3 de regularização.\n",
    "\n",
    "a) chamando a saída de y:\n",
    "\n",
    "Sem regularização\n",
    "\n",
    "$$ W_1^{[1]} = W_0^{[1]} - \\alpha*\\nabla J_{w^{[1]}}$$\n",
    "\n",
    "$$W_1^{[1]} = \\begin{bmatrix} 1 & 2 \\\\ 2 & 3 \\end{bmatrix} - 0.1 \\cdot \\begin{bmatrix} -10 & 5 \\\\ 1 & 2.5 \\end{bmatrix} = \\begin{bmatrix} 1 + 1 & 2 - 0.5 \\\\ 2 - 0.1 & 3 - 0.25 \\end{bmatrix} = \\begin{bmatrix} 2 & 1.5 \\\\ 1.9 & 2.75 \\end{bmatrix}$$\n",
    "\n",
    "\n",
    "Com regularização:\n",
    "\n",
    "$$ W_1^{[1]} = W_0^{[1]} - \\alpha*\\nabla J_{w^{[1]}} - 2 \\cdot \\alpha \\cdot\\lambda \\cdot W_1^{[1]}$$\n",
    "\n",
    "\n",
    "$$W_1^{[1]} = \\begin{bmatrix} 1 & 2 \\\\ 2 & 3 \\end{bmatrix} - 0.1 \\cdot \\begin{bmatrix} -10 & 5 \\\\ 1 & 2.5 \\end{bmatrix} - 2 \\cdot 0.1 \\cdot 0.5 \\cdot \\begin{bmatrix} 1 & 2 \\\\ 2 & 3 \\end{bmatrix} = \\begin{bmatrix} 1 + 1 - 0.1 & 2 - 0.5 - 0.2 \\\\ 2 - 0.1 - 0.2 & 3 - 0.25 - 0.3 \\end{bmatrix} = \\begin{bmatrix} 1.9 & 1.3 \\\\ 1.7 & 2.45 \\end{bmatrix}$$\n",
    "\n"
   ]
  },
  {
   "cell_type": "code",
   "execution_count": null,
   "id": "b3c59601",
   "metadata": {},
   "outputs": [],
   "source": []
  },
  {
   "cell_type": "markdown",
   "id": "851dd266",
   "metadata": {
    "id": "851dd266"
   },
   "source": [
    "##  Resumo: Funções de ativação e Algoritmos de otimização<a id = \"Res5\"></a> \n",
    "\n",
    "\n",
    "$$\\begin{equation} \\label{eq1}\n",
    "\\begin{split}\n",
    "\\mathbb{F}_Y(y) &= \\mathbb{P}(Y \\leq y) = \\mathbb{P}(h(X) \\leq y) \\\\\n",
    " & = \\mathbb{P}(X \\in \\{x \\, \\,tal\\,\\, que\\,\\, h(x) \\leq y\\}) \\\\\n",
    " & = \\mathbb{P}(X \\in \\{x \\,\\, tal\\,\\, que \\,\\, x \\leq h^{-1}(y)\\}) \\\\\n",
    " & = \\mathbb{F}_X(h^{-1}(y))\n",
    "\\end{split}\n",
    "\\end{equation}$$\n",
    "\n",
    "\n",
    "<b><p style=\"text-align:right\"> [Retornar ao topo](#Topo) </p> </b> "
   ]
  },
  {
   "cell_type": "markdown",
   "id": "a2a92d1d",
   "metadata": {
    "id": "8a727361",
    "outputId": "bb9f570c-c354-4940-b861-bdad1f5d2ba8"
   },
   "source": [
    "**(aula 3 Questão 5 da lista)**\n",
    "\n",
    "![Image](Figuras/F5.png)\n",
    "\n",
    "\n",
    "**Primeira camada**\n",
    "$$ a_1 = (w_{a_1x_1} \\cdot x_1 + w_{a_1x_2} \\cdot x_2) $$\n",
    "\n",
    "$$ a_2 = (w_{a_2x_1} \\cdot x_1 + w_{a_2x_2} \\cdot x_2) $$\n",
    "\n",
    "**Substituindo na segunda camada**\n",
    "\n",
    "$$ b_1 = w_{b_1a_1} \\cdot w_{a_1x_1} \\cdot x_1 + w_{b_1a_1} \\cdot w_{a_1x_2} \\cdot x_2 + w_{b_1a_2} \\cdot w_{a_2x_1} \\cdot x_1 + w_{b_1a_2} \\cdot w_{a_2x_2} \\cdot x_2 $$\n",
    "\n",
    "$$ b_2 = w_{b_2a_1} \\cdot w_{a_1x_1} \\cdot x_1 + w_{b_2a_1} \\cdot w_{a_1x_2} \\cdot x_2 + w_{b_2a_2} \\cdot w_{a_2x_1} \\cdot x_1 + w_{b_2a_2} \\cdot w_{a_2x_2} \\cdot x_2 $$\n",
    "\n",
    "**renomeando** $w_{b_1a_1} \\cdot w_{a_1x_1} = w_{11}$, $w_{b_1a_1} \\cdot w_{a_1x_2} = w_{12}$, $ w_{b_1a_2} \\cdot w_{a_2x_1} = w_{21}$, $w_{b_1a_2} \\cdot w_{a_2x_2} = w_{22}$\n",
    "\n",
    "$$ b_1 = w_{11} \\cdot x_1 +\\cdot w_{12} \\cdot x_2 + w_{21} \\cdot x_1 + w_{22} \\cdot x_2 $$\n",
    "\n",
    "$$ b_2 = w_{31} \\cdot x_1 + w_{32} \\cdot x_2 + w_{41} \\cdot x_1 + w_{42} \\cdot x_2 $$\n",
    "\n",
    "\n",
    "**Substituindo na última camada**\n",
    "$$ S = w_{11} \\cdot x_1 +\\cdot w_{12} \\cdot x_2 + w_{21} \\cdot x_1 + w_{22} \\cdot x_2 \\cdot x_1 + w_{a_1x_2} \\cdot x_2) + w_{b_1a_2} \\cdot (w_{a_2x_1} \\cdot x_1 + w_{a_2x_2} \\cdot x_2)) + w_{b_2} \\cdot ( w_{b_2a_1} \\cdot (w_{a_1x_1} \\cdot x_1 + w_{a_1x_2} \\cdot x_2) + w_{b_2a_2} \\cdot (w_{a_2x_1} \\cdot x_1 + w_{a_2x_2} \\cdot x_2))) )$$"
   ]
  },
  {
   "cell_type": "code",
   "execution_count": null,
   "id": "d86bde4f",
   "metadata": {
    "id": "d86bde4f"
   },
   "outputs": [],
   "source": []
  }
 ],
 "metadata": {
  "colab": {
   "collapsed_sections": [],
   "name": "Resumo_1.ipynb",
   "provenance": []
  },
  "kernelspec": {
   "display_name": "Python 3",
   "language": "python",
   "name": "python3"
  },
  "language_info": {
   "codemirror_mode": {
    "name": "ipython",
    "version": 3
   },
   "file_extension": ".py",
   "mimetype": "text/x-python",
   "name": "python",
   "nbconvert_exporter": "python",
   "pygments_lexer": "ipython3",
   "version": "3.8.6"
  }
 },
 "nbformat": 4,
 "nbformat_minor": 5
}
