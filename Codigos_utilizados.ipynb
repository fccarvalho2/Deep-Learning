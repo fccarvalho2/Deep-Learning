{
 "cells": [
  {
   "cell_type": "markdown",
   "id": "5834bcfe",
   "metadata": {
    "id": "5834bcfe"
   },
   "source": [
    "# Algoritmos de aprendizado profundo\n",
    "\n",
    "## Projeto final da disciplina\n",
    "\n",
    "#### Por: Cristiane Máximo de Freitas, Daniel de Moura e Almeida, Frederico Chaves Carvalho, Leonardo Alvarenga Lopes Santos\n",
    "\n",
    "___\n",
    "\n",
    "\n",
    "## Códigos referentes aos procedimentos metodológicos \n",
    "\n",
    "Neste documento, trazemos os códigos necessários para reproduzir os experimentos relatados no texto principal.\n",
    "\n",
    "\n",
    "### Passo 1 - Importar bibliotecas utilizadas"
   ]
  },
  {
   "cell_type": "code",
   "execution_count": null,
   "id": "a12cfb67",
   "metadata": {
    "colab": {
     "base_uri": "https://localhost:8080/"
    },
    "id": "a12cfb67",
    "outputId": "d33d3ee7-017f-4f15-93b6-07a71bea1386"
   },
   "outputs": [
    {
     "name": "stdout",
     "output_type": "stream",
     "text": [
      "[nltk_data] Downloading package stopwords to /root/nltk_data...\n",
      "[nltk_data]   Package stopwords is already up-to-date!\n",
      "[nltk_data] Downloading package punkt to /root/nltk_data...\n",
      "[nltk_data]   Package punkt is already up-to-date!\n"
     ]
    },
    {
     "data": {
      "text/plain": [
       "True"
      ]
     },
     "execution_count": 7,
     "metadata": {},
     "output_type": "execute_result"
    }
   ],
   "source": [
    "import numpy as np\n",
    "import pandas as pd\n",
    "import joblib\n",
    "import matplotlib.pyplot as plt\n",
    "import matplotlib.colors as mcolors\n",
    "from sklearn.preprocessing import LabelEncoder\n",
    "from sklearn.naive_bayes import GaussianNB\n",
    "from sklearn import tree\n",
    "from sklearn import svm\n",
    "from sklearn.neighbors import KNeighborsClassifier\n",
    "from sklearn.ensemble import RandomForestClassifier\n",
    "from sklearn.neural_network import MLPClassifier\n",
    "from sklearn.metrics import classification_report,confusion_matrix,accuracy_score, precision_score, recall_score, plot_roc_curve\n",
    "from scipy.sparse import load_npz\n",
    "import datetime\n",
    "from tqdm import tqdm\n",
    "from gensim.models.word2vec import Word2Vec\n",
    "from nltk.corpus import stopwords\n",
    "from nltk.tokenize import word_tokenize\n",
    "from collections import Counter\n",
    "from keras.models import Sequential, Model\n",
    "from keras.initializers import Constant\n",
    "from keras.preprocessing.text import Tokenizer, text_to_word_sequence\n",
    "from keras.preprocessing.sequence import pad_sequences\n",
    "from keras.layers import Dense, Flatten, Embedding, LSTM, SpatialDropout1D, Input, Dropout, ReLU\n",
    "from sklearn.feature_extraction.text import TfidfVectorizer\n",
    "from scipy.sparse import save_npz\n",
    "from nltk.stem.porter import PorterStemmer\n",
    "from nltk.corpus import stopwords\n",
    "from datetime import datetime\n",
    "from keras import backend as K\n",
    "from scipy.sparse import load_npz\n",
    "import math\n",
    "import os\n",
    "import re\n",
    "import nltk\n",
    "from pmaw import PushshiftAPI #!pip install pmaw\n",
    "api = PushshiftAPI()\n",
    "nltk.download('stopwords')\n",
    "nltk.download('punkt') #Tokenização"
   ]
  },
  {
   "cell_type": "markdown",
   "id": "a46891db",
   "metadata": {
    "id": "a46891db"
   },
   "source": [
    "### Passo 2 - Recuperar postagens nos subredddits selecionados a fim de identificar usuários que comunicaram diagnóstico ou não diagnóstico de depressão."
   ]
  },
  {
   "cell_type": "code",
   "execution_count": null,
   "id": "1e5c2ac6",
   "metadata": {
    "id": "1e5c2ac6"
   },
   "outputs": [],
   "source": [
    "subreddits = [sr.split('\\n')[0].lower() for sr in list(open('/content/drive/MyDrive/UFMG/DL/mh_subreddits.txt').readlines())]\n",
    "diag_patterns = pd.unique([dp.split('\\n')[0].lower() for dp in list(open('/content/drive/MyDrive/UFMG/DL/diagpatterns_positive.txt').readlines())])\n",
    "neg_patterns = pd.unique([np.split('\\n')[0].lower() for np in list(open('/content/drive/MyDrive/UFMG/DL/depression-syns.txt').readlines())])\n",
    "syns = pd.unique([depr.split('\\n')[0].lower() for depr in list(open('/content/drive/MyDrive/UFMG/DL/depression-syns.txt').readlines())])\n",
    "\n",
    "# Se tiver dando warning, alterar frequência para dia\n",
    "dates = pd.date_range('2021-01-01', '2022-01-01', freq='MS').strftime(\"%Y-%m-%d\").tolist()  # 1 ano\n",
    "positives = []\n",
    "negatives = []\n",
    "k = 0\n",
    "dest_folder = 'SMHD_2021/'\n",
    "for subreddit in subreddits:\n",
    "    i = 0\n",
    "    last_i = -1\n",
    "    pos_dict = {'author': [], 'date': [], 'post_title': [], 'post_text': [], 'subreddit': []}\n",
    "    neg_dict = {'author': [], 'date': [], 'post_title': [], 'post_text': [], 'subreddit': []}\n",
    "    for j in range(len(dates)-1):\n",
    "        before = int(pd.to_datetime(dates[j+1]).timestamp())\n",
    "        after = int(pd.to_datetime(dates[j]).timestamp())\n",
    "        try:\n",
    "            posts = api.search_submissions(subreddit=subreddit, limit=None, before=before, after=after)\n",
    "        except:\n",
    "            continue\n",
    "        for dc in posts.responses:\n",
    "            try:\n",
    "                t = dc['selftext']\n",
    "            except:\n",
    "                continue\n",
    "            for dp in diag_patterns:\n",
    "                if dp in str(t).lower():\n",
    "                    for s in syns:\n",
    "                        if s in str(t).lower():\n",
    "                            if i != last_i:\n",
    "                                positives.append(dc['author'])\n",
    "                                pos_dict['author'].append(dc['author'])\n",
    "                                pos_dict['post_title'].append(dc['title'])\n",
    "                                pos_dict['post_text'].append(t)\n",
    "                                pos_dict['date'].append(datetime.datetime.fromtimestamp(dc['created_utc']).date())\n",
    "                                pos_dict['subreddit'].append(subreddit)\n",
    "                                last_i = i\n",
    "            last_i = -1\n",
    "            for np in neg_patterns:\n",
    "                if np in str(t).lower():\n",
    "                    for s in syns:\n",
    "                        if s in str(t).lower():\n",
    "                            if i != last_i:\n",
    "                                negatives.append(dc['author'])\n",
    "                                neg_dict['author'].append(dc['author'])\n",
    "                                neg_dict['post_title'].append(dc['title'])\n",
    "                                neg_dict['post_text'].append(t)\n",
    "                                neg_dict['date'].append(datetime.datetime.fromtimestamp(dc['created_utc']).date())\n",
    "                                neg_dict['subreddit'].append(subreddit)\n",
    "                                last_i = i\n",
    "            i += 1\n",
    "    pos_df = pd.DataFrame(pos_dict)\n",
    "    pos_df = pos_df.set_index('author')\n",
    "    pos_df.to_csv(dest_folder + subreddit + '_pos_' + str(k) + '.csv')\n",
    "    neg_df = pd.DataFrame(neg_dict)\n",
    "    neg_df = neg_df.set_index('author')\n",
    "    neg_df.to_csv(dest_folder + subreddit + '_neg_' + str(k) + '.csv')\n",
    "    k += 1\n",
    "    del pos_df, pos_dict\n",
    "    del neg_df, neg_dict"
   ]
  },
  {
   "cell_type": "code",
   "execution_count": null,
   "id": "fqzgkYUyTjJM",
   "metadata": {
    "colab": {
     "base_uri": "https://localhost:8080/"
    },
    "id": "fqzgkYUyTjJM",
    "outputId": "1259028f-5fb8-48aa-be01-1189a2141da7"
   },
   "outputs": [
    {
     "data": {
      "text/plain": [
       "array(['i am diagnosed with', 'i got diagnos', 'i just got diagnos',\n",
       "       'i have been diagnos', 'i was diagnos', 'i have a diagnos',\n",
       "       'i have diagnos', \"i've been diagnos\",\n",
       "       'i suffer from clinically diagnos', 'i suffer from diagnos',\n",
       "       \"i've been diagnosed with\", 'my doctor diagnosed me',\n",
       "       'she diagnosed me', 'he diagnosed me', 'they diagnosed me',\n",
       "       'recently diagnosed me as', 'i was recently diagnos',\n",
       "       'i have recently been diagnos', 'i have been recently diagnos',\n",
       "       'until i was diagnosed this year', 'last year i was diagnos',\n",
       "       'i have honestly diagnosed', 'they diagnosed me with',\n",
       "       'as someone with a diagnos', 'im diagnos', \"i'm diagnos\",\n",
       "       'i was _doctor diagnos', \"i've been _doctor diagnos\",\n",
       "       'i have been _doctor diagnos', 'i was just diagnos',\n",
       "       \"i've been recently diagnos\", \"i've recently been diagnos\",\n",
       "       \"i've just been diagnos\", \"i've only recently been diagnos\",\n",
       "       \"i've only been diagnos\", '_doctor who diagnosed and medicated me',\n",
       "       '_doctor diagnosed me', 'i have _doctor diagnosed',\n",
       "       'i am _doctor diagnosed', 'i was first diagnos',\n",
       "       'i only got diagnos', 'following my diagnos', 'after my diagnos',\n",
       "       'i also have been diagnos', 'i was given a diagnos',\n",
       "       'who diagnosed me', \"i'm also diagnos\", 'my recent diagnosis',\n",
       "       'mine is diagnosed', 'i got sick and was diagnosed',\n",
       "       'i became sick and was diagnosed', 'they just diagnosed me',\n",
       "       'she just diagnosed me', 'he just diagnosed me',\n",
       "       'they recently diagnosed me', 'she recently diagnosed me',\n",
       "       'he recently diagnosed me', 'i had been diagnosed',\n",
       "       'i have also been diagnosed', \"i've been depressed and diagnosed\",\n",
       "       'i got a _doctor diagnos', 'i got _condition diagnos',\n",
       "       'i got a _condition diagnos', 'my _condition diagnosis',\n",
       "       \"i've got a _condition diagnosis\", 'i have a _condition diagnosis',\n",
       "       \"i've a _condition diagnosis\", 'my official diagnosis of',\n",
       "       \"since being diagnosed i've\", \"since diagnosed i've\",\n",
       "       'i was also diagnosed', '_doctor has diagnosed my',\n",
       "       'i have only recently been diagnos',\n",
       "       'only recently have i been diagnos',\n",
       "       \"i've been seeing a _doctor and been diagnos\",\n",
       "       'i am diagnosed _condition', \"i've suffered with diagnosed\",\n",
       "       'i have diagnosed _condition', 'i also have diagnosed _condition',\n",
       "       'i was then diagnosed with', 'i was diagnosed with',\n",
       "       \"i'm recently diagnosed\", \"i've already been diagnosed\",\n",
       "       \"i've been diagnosed\", 'i was very recently diagnosed',\n",
       "       \"i'm very recently diagnosed\", 'i got my diagnosis of',\n",
       "       'i was ultimately diagnosed', 'my only _doctor diagnosis',\n",
       "       'my _doctor diagnosis', 'depressive episode that got me diagnosed',\n",
       "       'i went to see a _doctor, was diagnosed',\n",
       "       'i went to see a _doctor was diagnosed',\n",
       "       'i have been previously diagnosed', 'i eventually got a diagnosis',\n",
       "       'i finally got a diagnosis', 'i ended up being diagnosed',\n",
       "       'i was eventually diagnosed', 'i had gotten the diagnosis',\n",
       "       'i received the diagnosis', 'i have ended up being diagnosed',\n",
       "       'i have been diagnosed', 'i was originally diagnosed',\n",
       "       'i am recently diagnosed', 'i have had diagnosed',\n",
       "       'my recently diagnosed _condition',\n",
       "       'i have a couple _condition diagnos',\n",
       "       'i have a _condition diagnos', \"i've since been diagnosed\",\n",
       "       'i have several other _condition diagnosed',\n",
       "       'i have many other _condition diagnosed',\n",
       "       'i have several _condition diagnosed',\n",
       "       'i have many _condition diagnosed', 'i had already been diagnosed',\n",
       "       'i got _condition diagnosis', 'i had a _doctor diagnose me',\n",
       "       'i even went to a _doctor and got diagnosed',\n",
       "       'i even went to the _doctor and got diagnosed',\n",
       "       'i went to a _doctor and got diagnosed',\n",
       "       'i went to the _doctor and got diagnosed',\n",
       "       'i have been _condition, with a diagnosis',\n",
       "       'i have been _condition with a diagnosis',\n",
       "       'i have _condition, diagnosed', 'i have _condition diagnosed',\n",
       "       'my _doctor has diagnosed me',\n",
       "       \"i've been struggling with my diagnosis\",\n",
       "       'i have _condition, which was only recently diagnosed',\n",
       "       'i have _condition, which was recently diagnosed',\n",
       "       'i have _condition which was only recently diagnosed',\n",
       "       'i have _condition which was recently diagnosed',\n",
       "       'i went to the _doctor, got diagnosed',\n",
       "       'i went to the _doctor got diagnosed',\n",
       "       'i went to _doctor, got diagnosed',\n",
       "       'i went to _doctor got diagnosed',\n",
       "       'i went to the _doctor, get diagnosed',\n",
       "       'i went to the _doctor get diagnosed',\n",
       "       'i went to _doctor, get diagnosed',\n",
       "       'i went to _doctor get diagnosed',\n",
       "       'i saw a _doctor after being diagnosed',\n",
       "       'led my _doctor to my current diagnosis',\n",
       "       'led my _doctor to my diagnosis', \"i've tried since my diagnosis\",\n",
       "       \"i've tried since being diagnosed\",\n",
       "       \"i've tried after my diagnosis\",\n",
       "       \"i've tried after being diagnosed\"], dtype=object)"
      ]
     },
     "execution_count": 6,
     "metadata": {},
     "output_type": "execute_result"
    }
   ],
   "source": [
    "diag_patterns"
   ]
  },
  {
   "cell_type": "markdown",
   "id": "ys039MHWdcK3",
   "metadata": {
    "id": "ys039MHWdcK3"
   },
   "source": [
    "### Unindo os arquivos com diagnóstico positivos e negatívos"
   ]
  },
  {
   "cell_type": "code",
   "execution_count": null,
   "id": "OrLT02SZdGz6",
   "metadata": {
    "colab": {
     "base_uri": "https://localhost:8080/"
    },
    "id": "OrLT02SZdGz6",
    "outputId": "b4057123-089c-4ed9-826c-5eb533dc79f0"
   },
   "outputs": [
    {
     "name": "stdout",
     "output_type": "stream",
     "text": [
      "<class 'pandas.core.frame.DataFrame'>\n",
      "Int64Index: 12705 entries, 0 to 9030\n",
      "Data columns (total 6 columns):\n",
      " #   Column      Non-Null Count  Dtype \n",
      "---  ------      --------------  ----- \n",
      " 0   author      12705 non-null  object\n",
      " 1   date        12705 non-null  object\n",
      " 2   post_title  12705 non-null  object\n",
      " 3   post_text   12705 non-null  object\n",
      " 4   subreddit   12705 non-null  object\n",
      " 5   target      12705 non-null  int64 \n",
      "dtypes: int64(1), object(5)\n",
      "memory usage: 694.8+ KB\n"
     ]
    }
   ],
   "source": [
    "df_neg=pd.read_csv('/content/drive/MyDrive/UFMG/final_neg.csv')\n",
    "df_neg['target']=0\n",
    "df_pos=pd.read_csv('/content/drive/MyDrive/UFMG/final_pos.csv')\n",
    "df_pos['target']=1\n",
    "df=[df_neg,df_pos]\n",
    "data = pd.concat(df)\n",
    "data.info()"
   ]
  },
  {
   "cell_type": "markdown",
   "id": "1cddc876",
   "metadata": {
    "id": "1cddc876"
   },
   "source": [
    "### Passo 2.1 - Refinar os posts de maneira a evitar falsas detecções (FP / FN), limitando o contexto analisado após a identificação do padrão de diagnóstico.\n",
    "Após identificarmos no texto cada expressão que indicassem o início de uma auto-declaração de diagnóstico, buscou-se um dos sinônimos de depressão (ex: depression, dysthymia, major depressive disorder, etc.) nos 100 caracteres seguintes. \n",
    "Já a identificação dos casos negativos foi realizada identificando-se as expressões que indicassem negativa de diagnóstico nos 50 caracteres anteriores ou seguintes. Autores que porventura tivessem postagens que se encaixassem em ambos os padrões foram removidos das análises.\n"
   ]
  },
  {
   "cell_type": "code",
   "execution_count": null,
   "id": "e1927716",
   "metadata": {
    "colab": {
     "base_uri": "https://localhost:8080/"
    },
    "id": "e1927716",
    "outputId": "61088aa8-5ab4-4c4f-a520-49b076304347"
   },
   "outputs": [
    {
     "name": "stderr",
     "output_type": "stream",
     "text": [
      "/usr/local/lib/python3.7/dist-packages/ipykernel_launcher.py:34: SettingWithCopyWarning: \n",
      "A value is trying to be set on a copy of a slice from a DataFrame.\n",
      "Try using .loc[row_indexer,col_indexer] = value instead\n",
      "\n",
      "See the caveats in the documentation: https://pandas.pydata.org/pandas-docs/stable/user_guide/indexing.html#returning-a-view-versus-a-copy\n",
      "/usr/local/lib/python3.7/dist-packages/ipykernel_launcher.py:35: SettingWithCopyWarning: \n",
      "A value is trying to be set on a copy of a slice from a DataFrame.\n",
      "Try using .loc[row_indexer,col_indexer] = value instead\n",
      "\n",
      "See the caveats in the documentation: https://pandas.pydata.org/pandas-docs/stable/user_guide/indexing.html#returning-a-view-versus-a-copy\n"
     ]
    }
   ],
   "source": [
    "indices_p = []\n",
    "indices_n = []\n",
    "for j in range(len(data)):\n",
    "    t = data.iloc[j]['post_text'].lower()\n",
    "    i = 0\n",
    "    last_i = -1\n",
    "    for dp in diag_patterns:\n",
    "        if dp in str(t).lower():\n",
    "            posterior = str(t).lower().split(dp)[1][:100]\n",
    "            for s in syns:\n",
    "                if s in posterior:\n",
    "                    if i != last_i:\n",
    "                        indices_p.append(j)\n",
    "                        last_i = i\n",
    "    last_i = -1\n",
    "    for negp in neg_patterns:\n",
    "        if negp in str(t).lower():\n",
    "            posterior = str(t).lower().split(negp)[1][:50]\n",
    "            anterior = str(t).lower().split(negp)[0][50:]\n",
    "            for s in syns:\n",
    "                if s in posterior or s in anterior:\n",
    "                    if i != last_i:\n",
    "                        indices_n.append(j)\n",
    "                        last_i = i\n",
    "k = 0\n",
    "for n in reversed(indices_n):\n",
    "    if n in indices_p:\n",
    "        k +=1\n",
    "        indices_n.remove(n)\n",
    "        indices_p.remove(n)  \n",
    "        \n",
    "new_pos = data.iloc[indices_p]\n",
    "new_neg = data.iloc[indices_n]\n",
    "new_pos['target'] = 1\n",
    "new_neg['target'] = 0\n",
    "data = pd.concat([new_pos, new_neg])"
   ]
  },
  {
   "cell_type": "markdown",
   "id": "df09c7eb",
   "metadata": {
    "id": "df09c7eb"
   },
   "source": [
    "### Passo 2.2 - Obter posts dos autores selecionados anteriormente\n",
    "\n",
    "Efetuamos nova chamada da API para buscar os posts de cada usuário 6 meses posteriores e 6 meses anteriores à auto-declaração."
   ]
  },
  {
   "cell_type": "code",
   "execution_count": null,
   "id": "107f07e8",
   "metadata": {
    "id": "107f07e8"
   },
   "outputs": [],
   "source": [
    "os.makedirs('SMHD_authors', exist_ok=True)\n",
    "os.makedirs('SMHD_authors/neg', exist_ok=True)\n",
    "os.makedirs('SMHD_authors/pos', exist_ok=True)\n",
    "api = PushshiftAPI()\n",
    "\n",
    "cols = ['author', 'selftext', 'title', 'created_utc', 'subreddit']\n",
    "failed_authors = []\n",
    "#author_df = pd.read_csv('preprocessed_data.csv', index_col=0)\n",
    "author_df = data.copy()\n",
    "author_df.drop_duplicates(inplace=True)\n",
    "author_df.loc[:, 'date'] = pd.to_datetime(author_df.loc[:, 'date'])\n",
    "author_dict = {'neg': author_df.loc[author_df['target'] == 0].copy(),\n",
    "               'pos': author_df.loc[author_df['target'] == 1].copy()}\n",
    "for target, author_df in author_dict.items():\n",
    "    # Filtrando fora o AutoModerator do Reddit\n",
    "    author_df = author_df.loc[~author_df['author'].isin(['AutoModerator', '[deleted]'])]\n",
    "\n",
    "    # Setando as datas do primeiro e último posts do autor daquela classe\n",
    "    group_dates = author_df.groupby('author')['date']\n",
    "    author_df.set_index('author', inplace=True)\n",
    "    author_df.loc[:, 'first_date'] = group_dates.min().copy()\n",
    "    author_df.loc[:, 'last_date'] = group_dates.max().copy()\n",
    "    author_df = author_df.reset_index().copy()\n",
    "\n",
    "    df = pd.DataFrame(columns=cols)\n",
    "    for author_post in tqdm(author_df.iterrows()):\n",
    "        full_author_df = pd.DataFrame(columns=cols)\n",
    "        if os.path.isfile(f'SMHD_authors/{target}/{author_post[1].author}.csv'):\n",
    "            if pd.read_csv(f'SMHD_authors/{target}/{author_post[1].author}.csv').shape[0] > 0:\n",
    "                # print(f'Já li o autor {author_post[1].author}')\n",
    "                continue\n",
    "        try:\n",
    "            out = api.search_submissions(author=author_post[1].author,\n",
    "                                         limit=None,\n",
    "                                         before=int((author_post[1].first_date + datetime.timedelta(days=180)).timestamp()),\n",
    "                                         after=int((author_post[1].last_date - datetime.timedelta(days=180)).timestamp()))\n",
    "        except:\n",
    "            failed_authors.append(author_post[1].author)\n",
    "            continue\n",
    "        for post in out.responses:\n",
    "            post_df = pd.Series(post)\n",
    "            full_author_df = full_author_df.append(post_df.loc[cols], ignore_index=True)\n",
    "        full_author_df.to_csv(f'SMHD_authors/{target}/{author_post[1].author}.csv', index=False)\n",
    "    print(failed_authors)\n",
    "\n",
    "data = full_author_df.copy()"
   ]
  },
  {
   "cell_type": "markdown",
   "id": "c9fd301e",
   "metadata": {
    "id": "c9fd301e"
   },
   "source": [
    "### Passo 3 - Tratar os posts recuperados dos autores e efetuar préprocessamento dos dados\n",
    "\n",
    "Excluímos todas as postagens nas quais os autores declaravam explicitamente ter sido diagnosticados, com vista a evitar contaminação do corpus. Agrupamos  os posts de 5 em 5, por autor e efetuamos o préprocessamento. Ao final, obtivemos um _corpus_ com 20.390 ocorrências, dos quais 14.385 referem-se a usuários diagnosticados e 6005 a usuários não-diagnosticados."
   ]
  },
  {
   "cell_type": "code",
   "execution_count": null,
   "id": "Kxv8OGMW-0gr",
   "metadata": {
    "colab": {
     "base_uri": "https://localhost:8080/",
     "height": 355
    },
    "id": "Kxv8OGMW-0gr",
    "outputId": "8b925b72-c706-495d-a10b-c04c2ca8456c"
   },
   "outputs": [
    {
     "data": {
      "text/html": [
       "\n",
       "  <div id=\"df-07c579a1-c17b-4f8f-8eef-39577eb61130\">\n",
       "    <div class=\"colab-df-container\">\n",
       "      <div>\n",
       "<style scoped>\n",
       "    .dataframe tbody tr th:only-of-type {\n",
       "        vertical-align: middle;\n",
       "    }\n",
       "\n",
       "    .dataframe tbody tr th {\n",
       "        vertical-align: top;\n",
       "    }\n",
       "\n",
       "    .dataframe thead th {\n",
       "        text-align: right;\n",
       "    }\n",
       "</style>\n",
       "<table border=\"1\" class=\"dataframe\">\n",
       "  <thead>\n",
       "    <tr style=\"text-align: right;\">\n",
       "      <th></th>\n",
       "      <th>Unnamed: 0</th>\n",
       "      <th>author</th>\n",
       "      <th>post_text</th>\n",
       "      <th>title</th>\n",
       "      <th>created_utc</th>\n",
       "      <th>subreddit</th>\n",
       "      <th>diag_post</th>\n",
       "      <th>target</th>\n",
       "      <th>space_count</th>\n",
       "    </tr>\n",
       "  </thead>\n",
       "  <tbody>\n",
       "    <tr>\n",
       "      <th>0</th>\n",
       "      <td>0</td>\n",
       "      <td>-pinkalicious-</td>\n",
       "      <td>i might be bi (15f) but idk i don't wanna say ...</td>\n",
       "      <td>what am i? [Discussion]</td>\n",
       "      <td>1583047766</td>\n",
       "      <td>LGBTeens</td>\n",
       "      <td>False</td>\n",
       "      <td>0</td>\n",
       "      <td>98</td>\n",
       "    </tr>\n",
       "    <tr>\n",
       "      <th>1</th>\n",
       "      <td>1</td>\n",
       "      <td>-pinkalicious-</td>\n",
       "      <td>i don't want to self diagnose myself with depr...</td>\n",
       "      <td>possibly depressed</td>\n",
       "      <td>1583037452</td>\n",
       "      <td>depression</td>\n",
       "      <td>True</td>\n",
       "      <td>0</td>\n",
       "      <td>147</td>\n",
       "    </tr>\n",
       "    <tr>\n",
       "      <th>2</th>\n",
       "      <td>2</td>\n",
       "      <td>-rebel8852-</td>\n",
       "      <td>Idk what's wrong with me but I just can't have...</td>\n",
       "      <td>I can't talk to the guys I like</td>\n",
       "      <td>1592880397</td>\n",
       "      <td>Crushes</td>\n",
       "      <td>False</td>\n",
       "      <td>0</td>\n",
       "      <td>123</td>\n",
       "    </tr>\n",
       "    <tr>\n",
       "      <th>3</th>\n",
       "      <td>3</td>\n",
       "      <td>-rebel8852-</td>\n",
       "      <td>Kinda want to watch it for Ji Hyo but I've nev...</td>\n",
       "      <td>Is Lovely Horribly (Song Ji Hyo) worth watching?</td>\n",
       "      <td>1592625389</td>\n",
       "      <td>kdramarecommends</td>\n",
       "      <td>False</td>\n",
       "      <td>0</td>\n",
       "      <td>26</td>\n",
       "    </tr>\n",
       "    <tr>\n",
       "      <th>4</th>\n",
       "      <td>4</td>\n",
       "      <td>-rebel8852-</td>\n",
       "      <td>I'm probably one of the rare few people who do...</td>\n",
       "      <td>Does anyone else not get cravings for sweet sn...</td>\n",
       "      <td>1592556049</td>\n",
       "      <td>CasualConversation</td>\n",
       "      <td>False</td>\n",
       "      <td>0</td>\n",
       "      <td>88</td>\n",
       "    </tr>\n",
       "  </tbody>\n",
       "</table>\n",
       "</div>\n",
       "      <button class=\"colab-df-convert\" onclick=\"convertToInteractive('df-07c579a1-c17b-4f8f-8eef-39577eb61130')\"\n",
       "              title=\"Convert this dataframe to an interactive table.\"\n",
       "              style=\"display:none;\">\n",
       "        \n",
       "  <svg xmlns=\"http://www.w3.org/2000/svg\" height=\"24px\"viewBox=\"0 0 24 24\"\n",
       "       width=\"24px\">\n",
       "    <path d=\"M0 0h24v24H0V0z\" fill=\"none\"/>\n",
       "    <path d=\"M18.56 5.44l.94 2.06.94-2.06 2.06-.94-2.06-.94-.94-2.06-.94 2.06-2.06.94zm-11 1L8.5 8.5l.94-2.06 2.06-.94-2.06-.94L8.5 2.5l-.94 2.06-2.06.94zm10 10l.94 2.06.94-2.06 2.06-.94-2.06-.94-.94-2.06-.94 2.06-2.06.94z\"/><path d=\"M17.41 7.96l-1.37-1.37c-.4-.4-.92-.59-1.43-.59-.52 0-1.04.2-1.43.59L10.3 9.45l-7.72 7.72c-.78.78-.78 2.05 0 2.83L4 21.41c.39.39.9.59 1.41.59.51 0 1.02-.2 1.41-.59l7.78-7.78 2.81-2.81c.8-.78.8-2.07 0-2.86zM5.41 20L4 18.59l7.72-7.72 1.47 1.35L5.41 20z\"/>\n",
       "  </svg>\n",
       "      </button>\n",
       "      \n",
       "  <style>\n",
       "    .colab-df-container {\n",
       "      display:flex;\n",
       "      flex-wrap:wrap;\n",
       "      gap: 12px;\n",
       "    }\n",
       "\n",
       "    .colab-df-convert {\n",
       "      background-color: #E8F0FE;\n",
       "      border: none;\n",
       "      border-radius: 50%;\n",
       "      cursor: pointer;\n",
       "      display: none;\n",
       "      fill: #1967D2;\n",
       "      height: 32px;\n",
       "      padding: 0 0 0 0;\n",
       "      width: 32px;\n",
       "    }\n",
       "\n",
       "    .colab-df-convert:hover {\n",
       "      background-color: #E2EBFA;\n",
       "      box-shadow: 0px 1px 2px rgba(60, 64, 67, 0.3), 0px 1px 3px 1px rgba(60, 64, 67, 0.15);\n",
       "      fill: #174EA6;\n",
       "    }\n",
       "\n",
       "    [theme=dark] .colab-df-convert {\n",
       "      background-color: #3B4455;\n",
       "      fill: #D2E3FC;\n",
       "    }\n",
       "\n",
       "    [theme=dark] .colab-df-convert:hover {\n",
       "      background-color: #434B5C;\n",
       "      box-shadow: 0px 1px 3px 1px rgba(0, 0, 0, 0.15);\n",
       "      filter: drop-shadow(0px 1px 2px rgba(0, 0, 0, 0.3));\n",
       "      fill: #FFFFFF;\n",
       "    }\n",
       "  </style>\n",
       "\n",
       "      <script>\n",
       "        const buttonEl =\n",
       "          document.querySelector('#df-07c579a1-c17b-4f8f-8eef-39577eb61130 button.colab-df-convert');\n",
       "        buttonEl.style.display =\n",
       "          google.colab.kernel.accessAllowed ? 'block' : 'none';\n",
       "\n",
       "        async function convertToInteractive(key) {\n",
       "          const element = document.querySelector('#df-07c579a1-c17b-4f8f-8eef-39577eb61130');\n",
       "          const dataTable =\n",
       "            await google.colab.kernel.invokeFunction('convertToInteractive',\n",
       "                                                     [key], {});\n",
       "          if (!dataTable) return;\n",
       "\n",
       "          const docLinkHtml = 'Like what you see? Visit the ' +\n",
       "            '<a target=\"_blank\" href=https://colab.research.google.com/notebooks/data_table.ipynb>data table notebook</a>'\n",
       "            + ' to learn more about interactive tables.';\n",
       "          element.innerHTML = '';\n",
       "          dataTable['output_type'] = 'display_data';\n",
       "          await google.colab.output.renderOutput(dataTable, element);\n",
       "          const docLink = document.createElement('div');\n",
       "          docLink.innerHTML = docLinkHtml;\n",
       "          element.appendChild(docLink);\n",
       "        }\n",
       "      </script>\n",
       "    </div>\n",
       "  </div>\n",
       "  "
      ],
      "text/plain": [
       "   Unnamed: 0          author  ... target space_count\n",
       "0           0  -pinkalicious-  ...      0          98\n",
       "1           1  -pinkalicious-  ...      0         147\n",
       "2           2     -rebel8852-  ...      0         123\n",
       "3           3     -rebel8852-  ...      0          26\n",
       "4           4     -rebel8852-  ...      0          88\n",
       "\n",
       "[5 rows x 9 columns]"
      ]
     },
     "execution_count": 52,
     "metadata": {},
     "output_type": "execute_result"
    }
   ],
   "source": [
    "df_neg=pd.read_csv('/content/drive/MyDrive/UFMG/DL/df_neg.csv')\n",
    "df_pos=pd.read_csv('/content/drive/MyDrive/UFMG/DL/df_pos.csv')\n",
    "df_neg.rename(columns={'selftext': 'post_text'}, inplace=True)\n",
    "df_pos.rename(columns={'selftext': 'post_text'}, inplace=True)\n",
    "df_neg.head()"
   ]
  },
  {
   "cell_type": "code",
   "execution_count": null,
   "id": "CmRJ06gn4h_b",
   "metadata": {
    "colab": {
     "base_uri": "https://localhost:8080/"
    },
    "id": "CmRJ06gn4h_b",
    "outputId": "598bc013-155b-4580-f971-238a97ad4a2f"
   },
   "outputs": [
    {
     "name": "stdout",
     "output_type": "stream",
     "text": [
      "(31273, 9)\n",
      "(69438, 9)\n"
     ]
    }
   ],
   "source": [
    "# Tamanho inicial da base (post de usuários auto declarados ou não como depressivos em um período de 2 anos)\n",
    "print(df_neg.shape)\n",
    "print(df_pos.shape)"
   ]
  },
  {
   "cell_type": "code",
   "execution_count": null,
   "id": "X47JK5bM5B8j",
   "metadata": {
    "colab": {
     "base_uri": "https://localhost:8080/"
    },
    "id": "X47JK5bM5B8j",
    "outputId": "55f84446-6132-4973-895a-e9dd892a9e2c"
   },
   "outputs": [
    {
     "name": "stdout",
     "output_type": "stream",
     "text": [
      "False\n",
      "nulos 0\n"
     ]
    }
   ],
   "source": [
    "data = pd.concat([df_neg, df_pos])\n",
    "print(data['post_text'].isnull().values.any())\n",
    "print(\"nulos\",data['post_text'].isnull().values.sum())"
   ]
  },
  {
   "cell_type": "markdown",
   "id": "u3sfODOnkB0R",
   "metadata": {
    "id": "u3sfODOnkB0R"
   },
   "source": [
    "Excluindo autor \"AutoModerator\", posts com menos de 2 espaços e marcando o post utilizado para identificar o diagnóstico"
   ]
  },
  {
   "cell_type": "code",
   "execution_count": null,
   "id": "cc04c05e",
   "metadata": {
    "id": "cc04c05e"
   },
   "outputs": [],
   "source": [
    "data.drop_duplicates(inplace=True)\n",
    "df_base = data.loc[data['author'] != 'AutoModerator']\n",
    "\n",
    "df_base_pos = df_base.loc[df_base['target'] == 1]\n",
    "df_pos = pd.DataFrame()\n",
    "pasta = 'SMHD_authors/pos/'\n",
    "for aut_file in tqdm(os.listdir(pasta)):\n",
    "    df_aut = pd.read_csv(pasta + aut_file)\n",
    "    if aut_file[:-4] in set(df_base_pos.author):\n",
    "        df_aut['diag_post'] = False\n",
    "        df_aut['target'] = 1\n",
    "        # Limpezas necessárias\n",
    "        df_aut.dropna(subset=['selftext'], inplace=True)\n",
    "        df_aut['space_count'] = df_aut['selftext'].str.count(' ')\n",
    "        # Só mantemos quem tem pelo menos 2 espaços\n",
    "        df_aut = df_aut.loc[df_aut['space_count'] > 1]\n",
    "        # Marcando o post do diagnóstico\n",
    "        filtro = df_aut['selftext'].isin(df_base_pos.loc[df_base_pos['author'] == aut_file[:-4], 'post_text'])\n",
    "        df_aut.loc[filtro, 'diag_post'] = True\n",
    "        df_pos = pd.concat([df_pos, df_aut], ignore_index=True)\n",
    "df_pos.to_csv('df_pos.csv')\n",
    "\n",
    "\n",
    "df_base_neg = df_base.loc[df_base['target'] == 0]\n",
    "df_neg = pd.DataFrame()\n",
    "pasta = 'SMHD_authors/neg/'\n",
    "for aut_file in tqdm(os.listdir(pasta)):\n",
    "    df_aut = pd.read_csv(pasta + aut_file)\n",
    "    if aut_file[:-4] in set(df_base_neg.author):\n",
    "        df_aut['diag_post'] = False\n",
    "        df_aut['target'] = 0\n",
    "        # Limpezas necessárias\n",
    "        df_aut.dropna(subset=['selftext'], inplace=True)\n",
    "        df_aut['space_count'] = df_aut['selftext'].str.count(' ')\n",
    "        # Só mantemos quem tem pelo menos 2 espaços\n",
    "        df_aut = df_aut.loc[df_aut['space_count'] > 1]\n",
    "        # Marcando o post do diagnóstico\n",
    "        filtro = df_aut['selftext'].isin(df_base_neg.loc[df_base_neg['author'] == aut_file[:-4], 'post_text'])\n",
    "        df_aut.loc[filtro, 'diag_post'] = True\n",
    "        df_neg = pd.concat([df_neg, df_aut], ignore_index=True)\n",
    "df_neg.to_csv('df_neg.csv')\n",
    "\n",
    "data = pd.concat([df_neg, df_pos])"
   ]
  },
  {
   "cell_type": "markdown",
   "id": "TGNWWh5HmPed",
   "metadata": {
    "id": "TGNWWh5HmPed"
   },
   "source": [
    "Excluindo autores que cairam em ambas as classificações"
   ]
  },
  {
   "cell_type": "code",
   "execution_count": null,
   "id": "kYOvZwXEmLcJ",
   "metadata": {
    "colab": {
     "base_uri": "https://localhost:8080/"
    },
    "id": "kYOvZwXEmLcJ",
    "outputId": "176381ff-d97a-41ea-d36f-69df18a4ee28"
   },
   "outputs": [
    {
     "name": "stdout",
     "output_type": "stream",
     "text": [
      "Shape pré remoção dos ambíguos: (100711, 9)\n",
      "Shape pós remoção dos ambíguos: (94733, 9)\n"
     ]
    }
   ],
   "source": [
    "print(f\"Shape pré remoção dos ambíguos: {data.shape}\")\n",
    "negat = pd.unique(df_neg['author'])\n",
    "posit = pd.unique(df_pos['author']) \n",
    "ambiguous = []\n",
    "for n in negat:\n",
    "    if n in posit:\n",
    "        ambiguous.append(n)\n",
    "\n",
    "data = data.loc[~(data['author'].isin(ambiguous))]\n",
    "print(f\"Shape pós remoção dos ambíguos: {data.shape}\")"
   ]
  },
  {
   "cell_type": "markdown",
   "id": "23900326",
   "metadata": {
    "id": "23900326"
   },
   "source": [
    "### Passo 3.1 - Preprocessamento dos textos"
   ]
  },
  {
   "cell_type": "markdown",
   "id": "bq85LlKenWPd",
   "metadata": {
    "id": "bq85LlKenWPd"
   },
   "source": [
    "Remoção de pontuação, números, stop-words, conversão para minúsculo e trocar todos os sinônimos de depressão pelo termo depressão. \n"
   ]
  },
  {
   "cell_type": "code",
   "execution_count": null,
   "id": "75f5a4ea",
   "metadata": {
    "colab": {
     "base_uri": "https://localhost:8080/"
    },
    "id": "75f5a4ea",
    "outputId": "640fe4e8-e162-4b0c-92fc-9f4f7d7c7ef3"
   },
   "outputs": [
    {
     "name": "stderr",
     "output_type": "stream",
     "text": [
      "100%|██████████| 100711/100711 [00:54<00:00, 1843.66it/s]\n",
      "/usr/local/lib/python3.7/dist-packages/ipykernel_launcher.py:31: FutureWarning: The default value of regex will change from True to False in a future version.\n"
     ]
    }
   ],
   "source": [
    "stop_words= stopwords.words(\"english\")\n",
    "\n",
    "def preprocessing_txt(text):\n",
    "    clean_text=[]\n",
    "    tokens= []\n",
    "    for words in tqdm(text):\n",
    "        words= re.sub(r\"won't\" ,\"will not\" , words)\n",
    "        words= re.sub(r\"can\\'t\", \"can not\",words )\n",
    "        words = re.sub(r\"n\\'t\", \" not\", words)\n",
    "        words = re.sub(r\"\\'re\", \" are\", words)\n",
    "        words = re.sub(r\"\\'s\", \" is\", words)\n",
    "        words = re.sub(r\"\\'d\", \" would\", words)\n",
    "        words = re.sub(r\"\\'ll\", \" will\", words)\n",
    "        words = re.sub(r\"\\'t\", \" not\", words)\n",
    "        words = re.sub(r\"\\'ve\", \" have\", words)\n",
    "        words = re.sub(r\"\\'m\", \" am\", words)\n",
    "        words= re.sub(r\"\\d+\",\"\",words)\n",
    "        words = words.replace(\"im\", \"I am\")\n",
    "        words= words.replace(\"\\\\r\", \" \")\n",
    "        words= words.replace(\"\\\\n\", \" \")\n",
    "        words= words.replace('\\\\\"', ' ')\n",
    "        words= re.sub(\"[^A-Za-z0-9]+\", \" \", words)\n",
    "        words = ' '.join(i for i in words.split() if i.lower() not in stop_words)\n",
    "        clean_text.append(words.lower().strip())\n",
    "        \n",
    "    return clean_text\n",
    "                             \n",
    "data[\"cleaned_text\"]= preprocessing_txt(data[\"post_text\"])\n",
    "\n",
    "for synonym in syns:\n",
    "    data['cleaned_text'] = data['cleaned_text'].str.replace(synonym, 'depression')  #trocando por sinônimos\n"
   ]
  },
  {
   "cell_type": "markdown",
   "id": "0Za3nJJWne00",
   "metadata": {
    "id": "0Za3nJJWne00"
   },
   "source": [
    "Tokenização, criação de coluna de data do diagnóstico"
   ]
  },
  {
   "cell_type": "code",
   "execution_count": null,
   "id": "4BO1UM7JnFW9",
   "metadata": {
    "id": "4BO1UM7JnFW9"
   },
   "outputs": [],
   "source": [
    "def identify_tokens(row):\n",
    "    texts = row['cleaned_text']\n",
    "    tokens = nltk.word_tokenize(texts)\n",
    "    token_words = [w for w in tokens]\n",
    "    return token_words\n",
    "\n",
    "data['tokenized_words'] = data.apply(identify_tokens, axis=1)\n",
    "\n",
    "#Criando coluna Data do Diagnóstico\n",
    "data['post_date'] = data.loc[:, 'created_utc'].apply(datetime.fromtimestamp)\n",
    "diag = data.loc[data['diag_post']].groupby('author')['post_date'].min().reset_index()\n",
    "diag.rename(columns={'post_date': 'diag_date'}, inplace=True)\n",
    "data = data.merge(diag, on='author', how='left')"
   ]
  },
  {
   "cell_type": "code",
   "execution_count": null,
   "id": "9glMQXEDn_bS",
   "metadata": {
    "colab": {
     "base_uri": "https://localhost:8080/",
     "height": 285
    },
    "id": "9glMQXEDn_bS",
    "outputId": "e28e6ba1-e884-4f86-c43c-761d0fa9f7a2"
   },
   "outputs": [
    {
     "name": "stdout",
     "output_type": "stream",
     "text": [
      "Média de posts por autor: 15.656709265175719\n"
     ]
    },
    {
     "data": {
      "image/png": "[encoded data removed]",
      "text/plain": [
       "<Figure size 432x288 with 1 Axes>"
      ]
     },
     "metadata": {
      "needs_background": "light"
     },
     "output_type": "display_data"
    }
   ],
   "source": [
    "# Visualizando a média de posts por autor\n",
    "author = data.groupby('author').filter(lambda x: len(x) <1000)\n",
    "pd.Series(author.loc[:, 'author'].value_counts()).plot.box()\n",
    "print(f'Média de posts por autor: {author.loc[:, \"author\"].value_counts().mean()}')"
   ]
  },
  {
   "cell_type": "code",
   "execution_count": null,
   "id": "-tGtsuH7oD6s",
   "metadata": {
    "colab": {
     "base_uri": "https://localhost:8080/"
    },
    "id": "-tGtsuH7oD6s",
    "outputId": "bbdc87ea-5b1c-4e53-be0f-0a236fea014e"
   },
   "outputs": [
    {
     "name": "stdout",
     "output_type": "stream",
     "text": [
      "ADHD               1543\n",
      "EatingDisorders    1349\n",
      "depression         1253\n",
      "mentalhealth        893\n",
      "teenagers           657\n",
      "                   ... \n",
      "communism             1\n",
      "roommates             1\n",
      "f1visa                1\n",
      "TopsAndBottoms        1\n",
      "u__texassin_          1\n",
      "Name: subreddit, Length: 4267, dtype: int64\n"
     ]
    }
   ],
   "source": [
    "# Quantidade de posts não depressivos por comunidade\n",
    "print(data.loc[data['target'] == 0, 'subreddit'].value_counts())"
   ]
  },
  {
   "cell_type": "code",
   "execution_count": null,
   "id": "x-zABre-oFk7",
   "metadata": {
    "colab": {
     "base_uri": "https://localhost:8080/"
    },
    "id": "x-zABre-oFk7",
    "outputId": "c6417a0c-17b4-4f85-c2b1-4a029df8b8b0"
   },
   "outputs": [
    {
     "name": "stdout",
     "output_type": "stream",
     "text": [
      "depression         3998\n",
      "ADHD               2394\n",
      "mentalhealth       2285\n",
      "SuicideWatch       1528\n",
      "EatingDisorders    1349\n",
      "                   ... \n",
      "auslan                1\n",
      "eurobeat              1\n",
      "OneyPlays             1\n",
      "Korg                  1\n",
      "AdviceForTeens        1\n",
      "Name: subreddit, Length: 7389, dtype: int64\n"
     ]
    }
   ],
   "source": [
    "# Quantidade de posts depressivos por comunidade\n",
    "print(data.loc[data['target'] == 1, 'subreddit'].value_counts())"
   ]
  },
  {
   "cell_type": "markdown",
   "id": "0wAVGKIGoziT",
   "metadata": {
    "id": "0wAVGKIGoziT"
   },
   "source": [
    "Aplicação de stemmming para reduzir o vocabulário e tornar os textos mais comparáveis. "
   ]
  },
  {
   "cell_type": "code",
   "execution_count": null,
   "id": "vEMzcE1Bopnt",
   "metadata": {
    "id": "vEMzcE1Bopnt"
   },
   "outputs": [],
   "source": [
    "# Stemming\n",
    "def stem_tokens(tokens):\n",
    "    stemmer = PorterStemmer()\n",
    "    stemmed_tokens = [stemmer.stem(word) for word in tokens]\n",
    "    return stemmed_tokens\n",
    "\n",
    "data['stemmed_tokens'] = data['tokenized_words'].apply(stem_tokens)"
   ]
  },
  {
   "cell_type": "code",
   "execution_count": null,
   "id": "ompRRv7lop6u",
   "metadata": {
    "colab": {
     "base_uri": "https://localhost:8080/",
     "height": 285
    },
    "id": "ompRRv7lop6u",
    "outputId": "83fe6c52-7669-403a-c0d6-a66c09d69433"
   },
   "outputs": [
    {
     "name": "stdout",
     "output_type": "stream",
     "text": [
      "Média de palavras por post: 85.9194129737566\n"
     ]
    },
    {
     "data": {
      "image/png": "[encoded data removed]",
      "text/plain": [
       "<Figure size 432x288 with 1 Axes>"
      ]
     },
     "metadata": {
      "needs_background": "light"
     },
     "output_type": "display_data"
    }
   ],
   "source": [
    "data['stemmed_tokens'].apply(len).plot.box()\n",
    "print(f'Média de palavras por post: {data[\"stemmed_tokens\"].apply(len).mean()}')"
   ]
  },
  {
   "cell_type": "code",
   "execution_count": null,
   "id": "RScCtyLDpYtm",
   "metadata": {
    "colab": {
     "base_uri": "https://localhost:8080/",
     "height": 285
    },
    "id": "RScCtyLDpYtm",
    "outputId": "5d5dc677-e161-427b-e8ee-b7183be1105c"
   },
   "outputs": [
    {
     "data": {
      "text/plain": [
       "<matplotlib.axes._subplots.AxesSubplot at 0x7f56000aab10>"
      ]
     },
     "execution_count": 93,
     "metadata": {},
     "output_type": "execute_result"
    },
    {
     "data": {
      "image/png": "[encoded data removed]",
      "text/plain": [
       "<Figure size 432x288 with 1 Axes>"
      ]
     },
     "metadata": {
      "needs_background": "light"
     },
     "output_type": "display_data"
    }
   ],
   "source": [
    "data.loc[data['stemmed_tokens'].apply(len) > 200, 'stemmed_tokens'].apply(len).plot.box()"
   ]
  },
  {
   "cell_type": "markdown",
   "id": "uocbwUb3nwXN",
   "metadata": {
    "id": "uocbwUb3nwXN"
   },
   "source": [
    "Agrupando os posts em tuplas em grupos de 5"
   ]
  },
  {
   "cell_type": "code",
   "execution_count": null,
   "id": "KMmSCu6rnwif",
   "metadata": {
    "colab": {
     "base_uri": "https://localhost:8080/",
     "height": 206
    },
    "id": "KMmSCu6rnwif",
    "outputId": "a709174f-8160-4796-9a7b-726a328c1afe"
   },
   "outputs": [
    {
     "data": {
      "text/html": [
       "\n",
       "  <div id=\"df-d617519c-8004-4ab9-9414-c9f9dfe37557\">\n",
       "    <div class=\"colab-df-container\">\n",
       "      <div>\n",
       "<style scoped>\n",
       "    .dataframe tbody tr th:only-of-type {\n",
       "        vertical-align: middle;\n",
       "    }\n",
       "\n",
       "    .dataframe tbody tr th {\n",
       "        vertical-align: top;\n",
       "    }\n",
       "\n",
       "    .dataframe thead th {\n",
       "        text-align: right;\n",
       "    }\n",
       "</style>\n",
       "<table border=\"1\" class=\"dataframe\">\n",
       "  <thead>\n",
       "    <tr style=\"text-align: right;\">\n",
       "      <th></th>\n",
       "      <th>author</th>\n",
       "      <th>final_tokens</th>\n",
       "      <th>posts_count</th>\n",
       "    </tr>\n",
       "  </thead>\n",
       "  <tbody>\n",
       "    <tr>\n",
       "      <th>0</th>\n",
       "      <td>-Izanami-</td>\n",
       "      <td>[hello, fairli, activ, player, ive, die, play,...</td>\n",
       "      <td>5</td>\n",
       "    </tr>\n",
       "    <tr>\n",
       "      <th>1</th>\n",
       "      <td>-Izanami-</td>\n",
       "      <td>[found, cool, race, want, tri, dnd, wiki, seem...</td>\n",
       "      <td>1</td>\n",
       "    </tr>\n",
       "    <tr>\n",
       "      <th>0</th>\n",
       "      <td>-StarvingArtist-</td>\n",
       "      <td>[got, hire, spot, local, club, start, next, we...</td>\n",
       "      <td>5</td>\n",
       "    </tr>\n",
       "    <tr>\n",
       "      <th>1</th>\n",
       "      <td>-StarvingArtist-</td>\n",
       "      <td>[hey, guy, becam, cam, girl, free, cam, recent...</td>\n",
       "      <td>5</td>\n",
       "    </tr>\n",
       "    <tr>\n",
       "      <th>0</th>\n",
       "      <td>-_Jacket-_-</td>\n",
       "      <td>[start, pri, amal, diet, day, ago, eat, book, ...</td>\n",
       "      <td>4</td>\n",
       "    </tr>\n",
       "  </tbody>\n",
       "</table>\n",
       "</div>\n",
       "      <button class=\"colab-df-convert\" onclick=\"convertToInteractive('df-d617519c-8004-4ab9-9414-c9f9dfe37557')\"\n",
       "              title=\"Convert this dataframe to an interactive table.\"\n",
       "              style=\"display:none;\">\n",
       "        \n",
       "  <svg xmlns=\"http://www.w3.org/2000/svg\" height=\"24px\"viewBox=\"0 0 24 24\"\n",
       "       width=\"24px\">\n",
       "    <path d=\"M0 0h24v24H0V0z\" fill=\"none\"/>\n",
       "    <path d=\"M18.56 5.44l.94 2.06.94-2.06 2.06-.94-2.06-.94-.94-2.06-.94 2.06-2.06.94zm-11 1L8.5 8.5l.94-2.06 2.06-.94-2.06-.94L8.5 2.5l-.94 2.06-2.06.94zm10 10l.94 2.06.94-2.06 2.06-.94-2.06-.94-.94-2.06-.94 2.06-2.06.94z\"/><path d=\"M17.41 7.96l-1.37-1.37c-.4-.4-.92-.59-1.43-.59-.52 0-1.04.2-1.43.59L10.3 9.45l-7.72 7.72c-.78.78-.78 2.05 0 2.83L4 21.41c.39.39.9.59 1.41.59.51 0 1.02-.2 1.41-.59l7.78-7.78 2.81-2.81c.8-.78.8-2.07 0-2.86zM5.41 20L4 18.59l7.72-7.72 1.47 1.35L5.41 20z\"/>\n",
       "  </svg>\n",
       "      </button>\n",
       "      \n",
       "  <style>\n",
       "    .colab-df-container {\n",
       "      display:flex;\n",
       "      flex-wrap:wrap;\n",
       "      gap: 12px;\n",
       "    }\n",
       "\n",
       "    .colab-df-convert {\n",
       "      background-color: #E8F0FE;\n",
       "      border: none;\n",
       "      border-radius: 50%;\n",
       "      cursor: pointer;\n",
       "      display: none;\n",
       "      fill: #1967D2;\n",
       "      height: 32px;\n",
       "      padding: 0 0 0 0;\n",
       "      width: 32px;\n",
       "    }\n",
       "\n",
       "    .colab-df-convert:hover {\n",
       "      background-color: #E2EBFA;\n",
       "      box-shadow: 0px 1px 2px rgba(60, 64, 67, 0.3), 0px 1px 3px 1px rgba(60, 64, 67, 0.15);\n",
       "      fill: #174EA6;\n",
       "    }\n",
       "\n",
       "    [theme=dark] .colab-df-convert {\n",
       "      background-color: #3B4455;\n",
       "      fill: #D2E3FC;\n",
       "    }\n",
       "\n",
       "    [theme=dark] .colab-df-convert:hover {\n",
       "      background-color: #434B5C;\n",
       "      box-shadow: 0px 1px 3px 1px rgba(0, 0, 0, 0.15);\n",
       "      filter: drop-shadow(0px 1px 2px rgba(0, 0, 0, 0.3));\n",
       "      fill: #FFFFFF;\n",
       "    }\n",
       "  </style>\n",
       "\n",
       "      <script>\n",
       "        const buttonEl =\n",
       "          document.querySelector('#df-d617519c-8004-4ab9-9414-c9f9dfe37557 button.colab-df-convert');\n",
       "        buttonEl.style.display =\n",
       "          google.colab.kernel.accessAllowed ? 'block' : 'none';\n",
       "\n",
       "        async function convertToInteractive(key) {\n",
       "          const element = document.querySelector('#df-d617519c-8004-4ab9-9414-c9f9dfe37557');\n",
       "          const dataTable =\n",
       "            await google.colab.kernel.invokeFunction('convertToInteractive',\n",
       "                                                     [key], {});\n",
       "          if (!dataTable) return;\n",
       "\n",
       "          const docLinkHtml = 'Like what you see? Visit the ' +\n",
       "            '<a target=\"_blank\" href=https://colab.research.google.com/notebooks/data_table.ipynb>data table notebook</a>'\n",
       "            + ' to learn more about interactive tables.';\n",
       "          element.innerHTML = '';\n",
       "          dataTable['output_type'] = 'display_data';\n",
       "          await google.colab.output.renderOutput(dataTable, element);\n",
       "          const docLink = document.createElement('div');\n",
       "          docLink.innerHTML = docLinkHtml;\n",
       "          element.appendChild(docLink);\n",
       "        }\n",
       "      </script>\n",
       "    </div>\n",
       "  </div>\n",
       "  "
      ],
      "text/plain": [
       "             author  ... posts_count\n",
       "0         -Izanami-  ...           5\n",
       "1         -Izanami-  ...           1\n",
       "0  -StarvingArtist-  ...           5\n",
       "1  -StarvingArtist-  ...           5\n",
       "0       -_Jacket-_-  ...           4\n",
       "\n",
       "[5 rows x 3 columns]"
      ]
     },
     "execution_count": 94,
     "metadata": {},
     "output_type": "execute_result"
    }
   ],
   "source": [
    "# Agrupando os posts em tuplas\n",
    "def group_posts(post_series):\n",
    "    i = 0\n",
    "    posts = []\n",
    "    posts_count = []\n",
    "    while i < len(post_series):\n",
    "        posts_batch = []\n",
    "        for j in range(min(i + 5, len(post_series) - i)):\n",
    "            posts_batch = posts_batch + post_series.iloc[i + j]\n",
    "        posts_count.append(j + 1)\n",
    "        posts.append(posts_batch)\n",
    "        i += 5\n",
    "    return pd.DataFrame({'final_tokens': posts,\n",
    "                         'posts_count': posts_count})\n",
    "\n",
    "data = data.sort_values(by=['stemmed_tokens'], key=lambda x: x.apply(len)) # ordenando pelo tamanho dos posts\n",
    "final_df = data.groupby('author')['stemmed_tokens'].apply(group_posts).reset_index('author')\n",
    "final_df.head()"
   ]
  },
  {
   "cell_type": "code",
   "execution_count": null,
   "id": "qUhxwqerplxB",
   "metadata": {
    "colab": {
     "base_uri": "https://localhost:8080/"
    },
    "id": "qUhxwqerplxB",
    "outputId": "a826042b-b38e-4bf2-ea6e-b0f7225dcfe5"
   },
   "outputs": [
    {
     "name": "stdout",
     "output_type": "stream",
     "text": [
      "Linhas antes de filtrar 23095\n",
      "Linhas depois de filtrar 21586\n"
     ]
    }
   ],
   "source": [
    "# Filtrando tuplas com posts com menos de 150 palavras\n",
    "print(f'Linhas antes de filtrar {final_df.shape[0]}')\n",
    "min_words = 150\n",
    "final_df = final_df.loc[(final_df['posts_count'] == 5) | (final_df['final_tokens'].apply(len) >= min_words)]\n",
    "print(f'Linhas depois de filtrar {final_df.shape[0]}')\n",
    "\n",
    "# Destokenizando para usar no TFIDF e nas redes profundas\n",
    "final_df['final_text'] = final_df['final_tokens'].apply(lambda x: ' '.join(x))\n",
    "final_df = final_df.loc[final_df['final_text'] != '']"
   ]
  },
  {
   "cell_type": "markdown",
   "id": "64d8dfb8",
   "metadata": {
    "id": "64d8dfb8"
   },
   "source": [
    "### Passo 3.2 - Separar dados em treino e teste"
   ]
  },
  {
   "cell_type": "code",
   "execution_count": null,
   "id": "29b8097d",
   "metadata": {
    "colab": {
     "base_uri": "https://localhost:8080/"
    },
    "id": "29b8097d",
    "outputId": "dc9c22e3-a422-4221-f8d8-5b48941f8907"
   },
   "outputs": [
    {
     "name": "stdout",
     "output_type": "stream",
     "text": [
      "16016\n",
      "6764\n"
     ]
    }
   ],
   "source": [
    "# Separando em treino e teste\n",
    "authors = final_df['author'].unique()\n",
    "np.random.seed(42)\n",
    "np.random.shuffle(authors)\n",
    "perc_treino = 0.7\n",
    "train_authors = authors[:math.floor(perc_treino*len(authors))]\n",
    "test_authors = authors[math.floor(perc_treino*len(authors)):]\n",
    "train_df = final_df.loc[final_df['author'].isin(train_authors)].merge(data.loc[:, ['author', 'target']].drop_duplicates(), how='inner', on='author')\n",
    "test_df = final_df.loc[final_df['author'].isin(test_authors)].merge(data.loc[:, ['author', 'target']].drop_duplicates(), how='inner', on='author')\n",
    "X_train = train_df.loc[:, 'final_text']\n",
    "X_train_tokens = train_df.loc[:, 'final_tokens']\n",
    "y_train = train_df.loc[:, 'target']\n",
    "X_test = test_df.loc[:, 'final_text']\n",
    "X_test_tokens = test_df.loc[:, 'final_tokens']\n",
    "y_test = test_df.loc[:, 'target']\n",
    "print(train_df.shape[0])\n",
    "print(test_df.shape[0])"
   ]
  },
  {
   "cell_type": "code",
   "execution_count": null,
   "id": "amSKkg1Ypv0e",
   "metadata": {
    "id": "amSKkg1Ypv0e"
   },
   "outputs": [],
   "source": [
    "# Exportando arquivos\n",
    "final_df.to_csv('preprocessed.csv', index=False)\n",
    "X_train.to_csv('X_train.csv', index=False)\n",
    "X_train_tokens.to_csv('X_train_tokens.csv', index=False)\n",
    "X_test.to_csv('X_test.csv', index=False)\n",
    "X_test_tokens.to_csv('X_test_tokens.csv', index=False)\n",
    "y_train.to_csv('y_train.csv', index=False)\n",
    "y_test.to_csv('y_test.csv', index=False)"
   ]
  },
  {
   "cell_type": "markdown",
   "id": "7a2f4a53",
   "metadata": {
    "id": "7a2f4a53"
   },
   "source": [
    "## MODELO 1 -  LSTM COM ENTRADA PROVENIENTE DO TOKENIZADOR POR ÍNDICES\n",
    "\n",
    "Formatar os textos como tensores de entrada para a LSTM usando o Tokenizador do keras"
   ]
  },
  {
   "cell_type": "code",
   "execution_count": null,
   "id": "189be7b1",
   "metadata": {
    "id": "189be7b1"
   },
   "outputs": [],
   "source": [
    "# Tokenizando as palavras \n",
    "tokenizer = Tokenizer(num_words=500, split=' ') \n",
    "tokenizer.fit_on_texts(X_train['final_text'].values)\n",
    "X_train = tokenizer.texts_to_sequences(X_train['final_text'].values)\n",
    "X_test = tokenizer.texts_to_sequences(X_test['final_text'].values)\n",
    "\n",
    "# Geração de pading para que todos os posts tenham o mesmo tamanho\n",
    "X_train = pad_sequences(X_train)\n",
    "X_test = pad_sequences(X_test)\n",
    "\n",
    "# Reformatar a entrada para ser (500, 1) e não (500,), pois a LSTM exige que a entrada seja bidimensional\n",
    "new_X_train = []\n",
    "for i in range(len(X_train)):\n",
    "    new_X_train.append(X_train[i][-500:].reshape(500, 1)) \n",
    "new_X_train = np.array(new_X_train)\n",
    "\n",
    "new_X_test = []\n",
    "for i in range(len(X_test)):\n",
    "    new_X_test.append(X_test[i][-500:].reshape(500, 1))\n",
    "new_X_test = np.array(new_X_test)"
   ]
  },
  {
   "cell_type": "code",
   "execution_count": null,
   "id": "9515e800",
   "metadata": {
    "id": "9515e800"
   },
   "outputs": [],
   "source": [
    "# Definição de métricas auxiliares para o treinamento\n",
    "\n",
    "def recall_m(y_true, y_pred):\n",
    "    true_positives = K.sum(K.round(K.clip(y_true * y_pred, 0, 1)))\n",
    "    possible_positives = K.sum(K.round(K.clip(y_true, 0, 1)))\n",
    "    recall = true_positives / (possible_positives + K.epsilon())\n",
    "    return recall\n",
    "\n",
    "def precision_m(y_true, y_pred):\n",
    "    true_positives = K.sum(K.round(K.clip(y_true * y_pred, 0, 1)))\n",
    "    predicted_positives = K.sum(K.round(K.clip(y_pred, 0, 1)))\n",
    "    precision = true_positives / (predicted_positives + K.epsilon())\n",
    "    return precision\n",
    "\n",
    "def f1_m(y_true, y_pred):\n",
    "    precision = precision_m(y_true, y_pred)\n",
    "    recall = recall_m(y_true, y_pred)\n",
    "    return 2*((precision*recall)/(precision+recall+K.epsilon()))"
   ]
  },
  {
   "cell_type": "markdown",
   "id": "l1Pvn7fzBFy0",
   "metadata": {
    "id": "l1Pvn7fzBFy0"
   },
   "source": [
    "### Construindo a arquitetura da rede LSTM"
   ]
  },
  {
   "cell_type": "code",
   "execution_count": null,
   "id": "Tp6PW-bmLbQM",
   "metadata": {
    "id": "Tp6PW-bmLbQM"
   },
   "outputs": [],
   "source": [
    "# Definição do modelo LSTM\n",
    "model = Sequential()\n",
    "model.add(Input(shape=(new_X_train.shape[1:])))\n",
    "model.add(LSTM(200, dropout=0.2, recurrent_dropout=0.2))\n",
    "model.add(Dense(2, activation='softmax'))\n",
    "model.compile(loss = 'categorical_crossentropy', optimizer='adam', metrics=['acc',f1_m,precision_m, recall_m])\n",
    "print(model.summary())"
   ]
  },
  {
   "cell_type": "markdown",
   "id": "JXkm15dZBVzY",
   "metadata": {
    "id": "JXkm15dZBVzY"
   },
   "source": [
    "### Treinamento e avaliação do modelo "
   ]
  },
  {
   "cell_type": "code",
   "execution_count": null,
   "id": "dsezhYIXLhC7",
   "metadata": {
    "id": "dsezhYIXLhC7"
   },
   "outputs": [],
   "source": [
    "# Treino da rede e print das métricas\n",
    "batch_size = 32\n",
    "model.fit(new_X_train, y_train, epochs = 20, batch_size=batch_size, verbose = 'auto')\n",
    "\n",
    "print('Avaliação final do modelo no treino')\n",
    "print(model.evaluate(new_X_test, y_test))\n",
    "\n",
    "print('Avaliação final do modelo no teste')\n",
    "print(model.evaluate(new_X_train, y_train))"
   ]
  },
  {
   "cell_type": "markdown",
   "id": "ae24d94f",
   "metadata": {
    "id": "ae24d94f"
   },
   "source": [
    "## MODELO 2 -  MLP E MODELOS CLÁSSICOS UTILIZANDO TF-IDF\n",
    "\n",
    "### Aplicar o TF-IDF aos documentos/postagens"
   ]
  },
  {
   "cell_type": "code",
   "execution_count": null,
   "id": "ca6c760b",
   "metadata": {
    "id": "ca6c760b"
   },
   "outputs": [],
   "source": [
    "# Gerando TF-IDF e aplicando aos documentos\n",
    "tf_idf_vec = TfidfVectorizer(min_df=200, max_df=0.9)\n",
    "\n",
    "tf_idf_train_data = tf_idf_vec.fit_transform(X_train['final_text'])\n",
    "tf_idf_test_data = tf_idf_vec.transform(X_test['final_text'])\n",
    "print(tf_idf_train_data.shape)\n",
    "\n",
    "save_npz('tfidf_train.npz', tf_idf_train_data)\n",
    "save_npz('tfidf_test.npz', tf_idf_test_data)"
   ]
  },
  {
   "cell_type": "code",
   "execution_count": null,
   "id": "4baa8a73",
   "metadata": {
    "id": "4baa8a73"
   },
   "outputs": [],
   "source": [
    "np.savetxt(\"tfidf_train.csv\", tf_idf_train_data.toarray(), delimiter=\",\")\n",
    "np.savetxt(\"tfidf_test.csv\", tf_idf_test_data.toarray(), delimiter=\",\")\n",
    "tfidf_train_df = pd.DataFrame(tf_idf_train_data.toarray(), columns=tf_idf_vec.get_feature_names_out())\n",
    "tfidf_test_df = pd.DataFrame(tf_idf_test_data.toarray(), columns=tf_idf_vec.get_feature_names_out())\n",
    "tfidf_train_df.to_csv('/content/drive/MyDrive/Colab Notebooks/tfidf_train.csv', index=False)\n",
    "tfidf_test_df.to_csv('/content/drive/MyDrive/Colab Notebooks/tfidf_test.csv', index=False)"
   ]
  },
  {
   "cell_type": "markdown",
   "id": "d3c5ffa9",
   "metadata": {
    "id": "d3c5ffa9"
   },
   "source": [
    "### Treinar e avaliar os modelos Naive Bayes, Decision Tree, SVM, KNN, Random Forest e MLP utilizando TF-IDF como entrada"
   ]
  },
  {
   "cell_type": "code",
   "execution_count": null,
   "id": "34cae789",
   "metadata": {
    "id": "34cae789"
   },
   "outputs": [],
   "source": [
    "# Importação dos dados\n",
    "X_treino = load_npz('../Dataset/tfidf_train.npz').toarray()\n",
    "y_treino = pd.read_csv('../Dataset/y_train.csv')['target']\n",
    "X_teste = load_npz('../Dataset/tfidf_test.npz').toarray()\n",
    "y_teste = pd.read_csv('../Dataset/y_test.csv')['target']\n",
    "\n",
    "\n",
    "# Função para treino, predict e cálculo da métricas\n",
    "def testa_classificador(classificador, x_treino, y_treino, x_teste, y_teste, ax1, ax2,fig, nome, show_plot):\n",
    "    # Inicialização das listas para armazenar os resultados\n",
    "    acuracia = []\n",
    "    precisao = []\n",
    "    recall = []\n",
    "    area_curva_roc = []\n",
    "    curvas_roc = []\n",
    "    i = 0\n",
    "\n",
    "    # Fit do classificador ao conjunto de treino da iteração\n",
    "    classificador.fit(x_treino, y_treino)\n",
    "\n",
    "    # Aplicação do classificador para prever os valores do subconjunto de teste\n",
    "    predicao = classificador.predict(x_teste)\n",
    "\n",
    "    # Cálculo das métricas selecionadas\n",
    "    ac = accuracy_score(y_teste, predicao)\n",
    "    acuracia.append(ac)\n",
    "    pre = precision_score(y_teste, predicao, average='macro')\n",
    "    precisao.append(pre)\n",
    "    rec = recall_score(y_teste, predicao, average= 'macro')\n",
    "    recall.append(rec)\n",
    "\n",
    "    # Plotagem da curva ROC e extrai o valor da área sob a curva\n",
    "    name = nome + \" K\" + str(i)\n",
    "    curva = plot_roc_curve(classificador, x_teste, y_teste, ax = ax1, name = name)\n",
    "    area_curva_roc.append(curva.roc_auc)\n",
    "    curvas_roc.append(curva)\n",
    "\n",
    "    # Cálculo e plotagem da curva ROC média\n",
    "    x_medio = np.linspace(0,1,100)\n",
    "    y_medio = np.zeros_like(x_medio)\n",
    "    auc_medio = 0\n",
    "    for ROC in curvas_roc:\n",
    "        y_curva_interp = np.interp(x_medio, ROC.line_.get_xdata(), ROC.line_.get_ydata())\n",
    "        y_medio += y_curva_interp\n",
    "        auc_medio += ROC.roc_auc\n",
    "\n",
    "    auc_medio = auc_medio / 5\n",
    "    y_medio = y_medio / 5\n",
    "    ax2.plot(x_medio,y_medio, color='k')\n",
    "    legenda = nome + \" médio (AUC = \" + str(round(auc_medio, 2)) + \")\"\n",
    "    ax2.legend([legenda], loc = 'lower right')\n",
    "    ax1.set_title('Curvas ROC para cada um dos K-Folds')\n",
    "    ax2.set_title('Curva ROC média')\n",
    "    ax2.set_xlabel('False Positive Rate')\n",
    "    plt.tight_layout()\n",
    "    plt.savefig('../Resultados/Testa_classificador_'+nome+'.png')\n",
    "\n",
    "    return (acuracia, precisao, recall, area_curva_roc, [x_medio, y_medio], auc_medio)\n",
    "\n",
    "# Salva métricas em um dicionário\n",
    "def sumarizar(resultados):\n",
    "    # Inicializa dicionário com classes nomeadas\n",
    "    sumario = {'acurácia_média': [], 'precisão_média': [], 'revocação_média': [], 'área média sob a curva ROC': []}\n",
    "\n",
    "    # Preenche o dicionário com os valores correspondentes\n",
    "    for resultado in resultados:\n",
    "        acuracia_media = sum(resultado[0]) / len(resultado[0])\n",
    "        sumario['acurácia_média'].append(acuracia_media)\n",
    "        acuracia_media = sum(resultado[1]) / len(resultado[1])\n",
    "        sumario['precisão_média'].append(acuracia_media)\n",
    "        acuracia_media = sum(resultado[2]) / len(resultado[2])\n",
    "        sumario['revocação_média'].append(acuracia_media)\n",
    "        sumario['área média sob a curva ROC'].append(resultado[5])\n",
    "    return sumario"
   ]
  },
  {
   "cell_type": "code",
   "execution_count": null,
   "id": "luR8TAxM0bJi",
   "metadata": {
    "id": "luR8TAxM0bJi"
   },
   "outputs": [],
   "source": [
    "# Modelo Naive Bayes\n",
    "classificador_NB = GaussianNB()\n",
    "fig, (ax1, ax2) = plt.subplots(nrows=1, ncols=2, figsize=(14, 5))\n",
    "resultado_NB = testa_classificador(classificador_NB, X_treino, y_treino, X_teste, y_teste, ax1, ax2, fig, \"Naive Bayes\", show_plot = True)\n",
    "joblib.dump(resultado_NB, 'outputs/Res_NB.pkl')\n",
    "joblib.dump(classificador_NB, 'outputs/NaiveBayes.pkl')\n",
    "sumario = sumarizar([resultado_NB])\n",
    "resultado_df =  pd.DataFrame(sumario)\n",
    "resultado_df.to_csv('../Resultados/')"
   ]
  },
  {
   "cell_type": "code",
   "execution_count": null,
   "id": "RFBTkRQA0oEz",
   "metadata": {
    "id": "RFBTkRQA0oEz"
   },
   "outputs": [],
   "source": [
    "# Decision Tree variando alturas: 50,100, None\n",
    "alturas = [50,100, None]\n",
    "resultados = []\n",
    "for altura in alturas:\n",
    "    classificador_DT = tree.DecisionTreeClassifier(criterion='entropy', max_depth = altura)\n",
    "    fig, (ax1, ax2) = plt.subplots(nrows=1, ncols=2, figsize=(14, 5))\n",
    "    resultados.append(testa_classificador(classificador_DT, X_treino, y_treino, X_teste, y_teste, ax1, ax2, fig, \"Árvore de decisão\", show_plot = False))\n",
    "    joblib.dump(classificador_DT, 'outputs/Arvore_' + str(altura) + '.pkl')\n",
    "\n",
    "joblib.dump(resultados, 'outputs/Res_Arvore.pkl')\n",
    "sumario = sumarizar(resultados)\n",
    "sumario['altura máxima'] = ['50', '100']\n",
    "resultados_df = pd.DataFrame(sumario)\n",
    "resultados_df = resultados_df.set_index([\"altura máxima\"])\n",
    "resultados_df.to_csv('outputs/Arvores.csv')"
   ]
  },
  {
   "cell_type": "code",
   "execution_count": null,
   "id": "3-nRnO-E0o4m",
   "metadata": {
    "id": "3-nRnO-E0o4m"
   },
   "outputs": [],
   "source": [
    "# SVM variando kernel: 'linear', 'polinomial', 'sigmoide', 'rbf'\n",
    "classificador_SVM_lin = svm.SVC(kernel= \"linear\")\n",
    "classificador_SVM_poly = svm.SVC(kernel= \"poly\")\n",
    "classificador_SVM_sig = svm.SVC(kernel= \"sigmoid\")\n",
    "classificador_SVM_rbf = svm.SVC(kernel='rbf')\n",
    "classificadores_SVM = [classificador_SVM_lin, classificador_SVM_poly, classificador_SVM_sig, classificador_SVM_rbf]\n",
    "\n",
    "resultado_SVM = []\n",
    "i = 0\n",
    "tipos = ['linear', 'polinomial', 'sigmoide', 'rbf']\n",
    "for classificador in classificadores_SVM:\n",
    "    fig, (ax1, ax2) = plt.subplots(nrows=1, ncols=2, figsize=(14, 5))\n",
    "    resultado_SVM.append(testa_classificador(classificador, X_treino, y_treino, X_teste, y_teste, ax1, ax2, fig, \"SVM\", show_plot = False))\n",
    "    joblib.dump(classificador_DT, 'outputs/SVM_' + str(tipos[i]) + '.pkl')\n",
    "    i += 1\n",
    "    \n",
    "joblib.dump(resultado_SVM, 'outputs/Res_SVM.pkl')\n",
    "sumario = sumarizar(resultado_SVM)\n",
    "sumario['kernel'] = tipos\n",
    "resultados_df = pd.DataFrame(sumario)\n",
    "resultados_df = resultados_df.set_index([\"kernel\"])\n",
    "resultados_df.to_csv('outputs/SVM_results.csv')"
   ]
  },
  {
   "cell_type": "code",
   "execution_count": null,
   "id": "BThtbJMF0rJZ",
   "metadata": {
    "id": "BThtbJMF0rJZ"
   },
   "outputs": [],
   "source": [
    "# K-Nearest Neighbours variando do K vizinhos: 5, 25, 50, 100\n",
    "valores_k = [5, 25, 50, 100]\n",
    "fig, (ax1, ax2) = plt.subplots(nrows=1, ncols=2, figsize=(14, 5))\n",
    "resultados_knn = []\n",
    "for valor in valores_k:\n",
    "    classificador_KNN = KNeighborsClassifier(n_neighbors = valor)\n",
    "    resultados_knn.append(testa_classificador(classificador_KNN, X_treino, y_treino, X_teste, y_teste, ax1, ax2, fig, \"K-Nearest Neighbors\", show_plot = False))\n",
    "    joblib.dump(classificador_KNN, '../Resultados/KNN_' + str(valor) + '.pkl')\n",
    "    joblib.dump(resultados_knn, '../Resultados/Res_KNN' + str(valor) + '.pkl')\n",
    "sumario = sumarizar(resultados_knn)\n",
    "sumario['K'] = valores_k\n",
    "resultados_df = pd.DataFrame(sumario)\n",
    "resultados_df = resultados_df.set_index([\"K\"])\n",
    "resultados_df.to_csv('../Resultados/KNN.csv')"
   ]
  },
  {
   "cell_type": "code",
   "execution_count": null,
   "id": "LtY-A4QY0s6a",
   "metadata": {
    "id": "LtY-A4QY0s6a"
   },
   "outputs": [],
   "source": [
    "# Random Forest variando número de árvores: 50, 100, 200\n",
    "numero_arvores = [50, 100, 200]\n",
    "fig, (ax1, ax2) = plt.subplots(nrows=1, ncols=2, figsize=(14, 5))\n",
    "resultados_RF = []\n",
    "\n",
    "for numero in numero_arvores:\n",
    "    classificador_RF = RandomForestClassifier(n_estimators = numero, criterion = \"entropy\")\n",
    "    resultados_RF.append(testa_classificador(classificador_RF, X_treino, y_treino, X_teste, y_teste, ax1, ax2, fig, \"Random Forest\", show_plot = False))\n",
    "    joblib.dump(classificador_DT, 'outputs/RF_' + str(numero) + '.pkl')\n",
    "\n",
    "joblib.dump(resultados_RF, 'outputs/Res_RF.pkl')\n",
    "sumario = sumarizar(resultados_RF)\n",
    "sumario['número de árvores'] = numero_arvores\n",
    "resultados_df = pd.DataFrame(sumario)\n",
    "resultados_df = resultados_df.set_index(['número de árvores'])\n",
    "resultados_df.to_csv('outputs/Random_forest_results.csv')"
   ]
  },
  {
   "cell_type": "code",
   "execution_count": null,
   "id": "n6YxMqWr0umf",
   "metadata": {
    "id": "n6YxMqWr0umf"
   },
   "outputs": [],
   "source": [
    "# MLP variando camada oculta: 2048, 512, 128, 32, 8\n",
    "resultado_MLP = []\n",
    "fig, (ax1, ax2) = plt.subplots(nrows=1, ncols=2, figsize=(14, 5))\n",
    "classificador_MLP = MLPClassifier(hidden_layer_sizes=(2048, 512, 128, 32, 8))\n",
    "resultado_MLP.append(testa_classificador(classificador_MLP, X_treino, y_treino, X_teste, y_teste, ax1, ax2, fig, \"Multi_Layer_Perceptron\", show_plot = True))\n",
    "joblib.dump(resultado_MLP, 'outputs/Res_MLP.pkl')\n",
    "sumario = sumarizar(resultado_MLP)\n",
    "resultado_MLP_final = pd.DataFrame(sumario)\n",
    "resultado_MLP_final.to_csv('outputs/MLP.csv')\n",
    "joblib.dump(classificador_DT, 'outputs/MLP.pkl')\n"
   ]
  }
 ],
 "metadata": {
  "colab": {
   "collapsed_sections": [],
   "name": "Trabalho_Final_Cristiane_Freitas.ipynb",
   "provenance": []
  },
  "kernelspec": {
   "display_name": "Python 3 (ipykernel)",
   "language": "python",
   "name": "python3"
  },
  "language_info": {
   "codemirror_mode": {
    "name": "ipython",
    "version": 3
   },
   "file_extension": ".py",
   "mimetype": "text/x-python",
   "name": "python",
   "nbconvert_exporter": "python",
   "pygments_lexer": "ipython3",
   "version": "3.8.12"
  }
 },
 "nbformat": 4,
 "nbformat_minor": 5
}
